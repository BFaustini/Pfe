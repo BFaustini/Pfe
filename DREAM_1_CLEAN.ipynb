{
 "cells": [
  {
   "cell_type": "markdown",
   "metadata": {},
   "source": [
    "# Préparation des donnés"
   ]
  },
  {
   "cell_type": "markdown",
   "metadata": {},
   "source": [
    "Faire un tableau de best prediction de tous les descritpteurs par rapport a celle bien predite par le random"
   ]
  },
  {
   "cell_type": "code",
   "execution_count": 46,
   "metadata": {},
   "outputs": [],
   "source": [
    "# Import numerical libraries.  \n",
    "import numpy as np\n",
    "import matplotlib.pyplot as plt\n",
    "from sklearn.model_selection import train_test_split\n",
    "import seaborn as sns\n",
    "from sklearn.preprocessing import StandardScaler, OneHotEncoder, LabelEncoder, MultiLabelBinarizer\n",
    "from sklearn.metrics import accuracy_score, roc_curve, auc, roc_auc_score\n",
    "\n",
    "#Librairies\n",
    "import time\n",
    "import torch\n",
    "import random\n",
    "\n",
    "#Raccourcis utilisé\n",
    "from tqdm import tqdm_notebook\n",
    "import torch.nn as nn\n",
    "import torch.utils.data as data_utils\n",
    "import pandas as pd\n",
    "\n",
    "\n",
    "import keras\n",
    "from tensorflow.keras.models import Sequential\n",
    "from tensorflow.keras.layers import Dense, Dropout, Activation\n",
    "from tensorflow.keras.layers import Embedding\n",
    "from tensorflow.keras.layers import Conv1D, GlobalAveragePooling1D, MaxPooling1D\n",
    "from tensorflow.keras.optimizers import SGD, RMSprop, Adam, Adadelta, Adamax, Nadam\n",
    "from sklearn.model_selection import train_test_split\n",
    "from math import exp\n",
    "from itertools import cycle"
   ]
  },
  {
   "cell_type": "code",
   "execution_count": 47,
   "metadata": {},
   "outputs": [],
   "source": [
    "dfX = pd.read_csv('Molecular Dataset Dream 1.csv',sep=';')\n",
    "dfY = pd.read_csv('Senteur Dataset Dream 1.csv',sep=';')\n",
    "#Dataset pour classification Binaire\n",
    "dfXB = pd.read_csv('Molecular Dataset Dream 1.csv',sep=';')\n",
    "dfYB = pd.read_csv('Senteur_Dataset_Binaire_Dream_1.csv',sep=';')"
   ]
  },
  {
   "cell_type": "markdown",
   "metadata": {},
   "source": [
    "On notera que pour la classification binaire il faut effectuer les petits changements au niveau de l'architecture du model explicité dans le rapport pdf."
   ]
  },
  {
   "cell_type": "code",
   "execution_count": 48,
   "metadata": {},
   "outputs": [
    {
     "data": {
      "text/html": [
       "<div>\n",
       "<style scoped>\n",
       "    .dataframe tbody tr th:only-of-type {\n",
       "        vertical-align: middle;\n",
       "    }\n",
       "\n",
       "    .dataframe tbody tr th {\n",
       "        vertical-align: top;\n",
       "    }\n",
       "\n",
       "    .dataframe thead th {\n",
       "        text-align: right;\n",
       "    }\n",
       "</style>\n",
       "<table border=\"1\" class=\"dataframe\">\n",
       "  <thead>\n",
       "    <tr style=\"text-align: right;\">\n",
       "      <th></th>\n",
       "      <th>Unnamed: 0</th>\n",
       "      <th>CID</th>\n",
       "      <th>complexity from pubmed</th>\n",
       "      <th>MW</th>\n",
       "      <th>AMW</th>\n",
       "      <th>Sv</th>\n",
       "      <th>Se</th>\n",
       "      <th>Sp</th>\n",
       "      <th>Si</th>\n",
       "      <th>Mv</th>\n",
       "      <th>...</th>\n",
       "      <th>ACID</th>\n",
       "      <th>WARM</th>\n",
       "      <th>MUSKY</th>\n",
       "      <th>SWEATY</th>\n",
       "      <th>AMMONIA/URINOUS</th>\n",
       "      <th>DECAYED</th>\n",
       "      <th>WOOD</th>\n",
       "      <th>GRASS</th>\n",
       "      <th>FLOWER</th>\n",
       "      <th>CHEMICAL</th>\n",
       "    </tr>\n",
       "  </thead>\n",
       "  <tbody>\n",
       "    <tr>\n",
       "      <th>0</th>\n",
       "      <td>0</td>\n",
       "      <td>126</td>\n",
       "      <td>4.532</td>\n",
       "      <td>4.961</td>\n",
       "      <td>2.011</td>\n",
       "      <td>2.155</td>\n",
       "      <td>2.482</td>\n",
       "      <td>2.168</td>\n",
       "      <td>2.554</td>\n",
       "      <td>0.873</td>\n",
       "      <td>...</td>\n",
       "      <td>0.0</td>\n",
       "      <td>0.0</td>\n",
       "      <td>0.0</td>\n",
       "      <td>3.0</td>\n",
       "      <td>0.0</td>\n",
       "      <td>0.0</td>\n",
       "      <td>0.0</td>\n",
       "      <td>0.0</td>\n",
       "      <td>0.0</td>\n",
       "      <td>0.0</td>\n",
       "    </tr>\n",
       "    <tr>\n",
       "      <th>1</th>\n",
       "      <td>1</td>\n",
       "      <td>126</td>\n",
       "      <td>4.532</td>\n",
       "      <td>4.961</td>\n",
       "      <td>2.011</td>\n",
       "      <td>2.155</td>\n",
       "      <td>2.482</td>\n",
       "      <td>2.168</td>\n",
       "      <td>2.554</td>\n",
       "      <td>0.873</td>\n",
       "      <td>...</td>\n",
       "      <td>0.0</td>\n",
       "      <td>0.0</td>\n",
       "      <td>0.0</td>\n",
       "      <td>0.0</td>\n",
       "      <td>0.0</td>\n",
       "      <td>0.0</td>\n",
       "      <td>0.0</td>\n",
       "      <td>0.0</td>\n",
       "      <td>0.0</td>\n",
       "      <td>0.0</td>\n",
       "    </tr>\n",
       "    <tr>\n",
       "      <th>2</th>\n",
       "      <td>2</td>\n",
       "      <td>126</td>\n",
       "      <td>4.532</td>\n",
       "      <td>4.961</td>\n",
       "      <td>2.011</td>\n",
       "      <td>2.155</td>\n",
       "      <td>2.482</td>\n",
       "      <td>2.168</td>\n",
       "      <td>2.554</td>\n",
       "      <td>0.873</td>\n",
       "      <td>...</td>\n",
       "      <td>0.0</td>\n",
       "      <td>0.0</td>\n",
       "      <td>0.0</td>\n",
       "      <td>0.0</td>\n",
       "      <td>0.0</td>\n",
       "      <td>0.0</td>\n",
       "      <td>0.0</td>\n",
       "      <td>0.0</td>\n",
       "      <td>0.0</td>\n",
       "      <td>1.0</td>\n",
       "    </tr>\n",
       "    <tr>\n",
       "      <th>3</th>\n",
       "      <td>3</td>\n",
       "      <td>126</td>\n",
       "      <td>4.532</td>\n",
       "      <td>4.961</td>\n",
       "      <td>2.011</td>\n",
       "      <td>2.155</td>\n",
       "      <td>2.482</td>\n",
       "      <td>2.168</td>\n",
       "      <td>2.554</td>\n",
       "      <td>0.873</td>\n",
       "      <td>...</td>\n",
       "      <td>0.0</td>\n",
       "      <td>0.0</td>\n",
       "      <td>0.0</td>\n",
       "      <td>0.0</td>\n",
       "      <td>0.0</td>\n",
       "      <td>0.0</td>\n",
       "      <td>0.0</td>\n",
       "      <td>0.0</td>\n",
       "      <td>0.0</td>\n",
       "      <td>1.0</td>\n",
       "    </tr>\n",
       "    <tr>\n",
       "      <th>4</th>\n",
       "      <td>4</td>\n",
       "      <td>126</td>\n",
       "      <td>4.532</td>\n",
       "      <td>4.961</td>\n",
       "      <td>2.011</td>\n",
       "      <td>2.155</td>\n",
       "      <td>2.482</td>\n",
       "      <td>2.168</td>\n",
       "      <td>2.554</td>\n",
       "      <td>0.873</td>\n",
       "      <td>...</td>\n",
       "      <td>0.0</td>\n",
       "      <td>7.0</td>\n",
       "      <td>0.0</td>\n",
       "      <td>0.0</td>\n",
       "      <td>0.0</td>\n",
       "      <td>0.0</td>\n",
       "      <td>0.0</td>\n",
       "      <td>0.0</td>\n",
       "      <td>0.0</td>\n",
       "      <td>0.0</td>\n",
       "    </tr>\n",
       "    <tr>\n",
       "      <th>...</th>\n",
       "      <td>...</td>\n",
       "      <td>...</td>\n",
       "      <td>...</td>\n",
       "      <td>...</td>\n",
       "      <td>...</td>\n",
       "      <td>...</td>\n",
       "      <td>...</td>\n",
       "      <td>...</td>\n",
       "      <td>...</td>\n",
       "      <td>...</td>\n",
       "      <td>...</td>\n",
       "      <td>...</td>\n",
       "      <td>...</td>\n",
       "      <td>...</td>\n",
       "      <td>...</td>\n",
       "      <td>...</td>\n",
       "      <td>...</td>\n",
       "      <td>...</td>\n",
       "      <td>...</td>\n",
       "      <td>...</td>\n",
       "      <td>...</td>\n",
       "    </tr>\n",
       "    <tr>\n",
       "      <th>29334</th>\n",
       "      <td>29334</td>\n",
       "      <td>16220109</td>\n",
       "      <td>5.867</td>\n",
       "      <td>5.670</td>\n",
       "      <td>1.804</td>\n",
       "      <td>2.579</td>\n",
       "      <td>3.128</td>\n",
       "      <td>2.657</td>\n",
       "      <td>3.275</td>\n",
       "      <td>0.821</td>\n",
       "      <td>...</td>\n",
       "      <td>3.0</td>\n",
       "      <td>0.0</td>\n",
       "      <td>0.0</td>\n",
       "      <td>0.0</td>\n",
       "      <td>0.0</td>\n",
       "      <td>0.0</td>\n",
       "      <td>0.0</td>\n",
       "      <td>0.0</td>\n",
       "      <td>0.0</td>\n",
       "      <td>7.0</td>\n",
       "    </tr>\n",
       "    <tr>\n",
       "      <th>29335</th>\n",
       "      <td>29335</td>\n",
       "      <td>16220109</td>\n",
       "      <td>5.867</td>\n",
       "      <td>5.670</td>\n",
       "      <td>1.804</td>\n",
       "      <td>2.579</td>\n",
       "      <td>3.128</td>\n",
       "      <td>2.657</td>\n",
       "      <td>3.275</td>\n",
       "      <td>0.821</td>\n",
       "      <td>...</td>\n",
       "      <td>0.0</td>\n",
       "      <td>0.0</td>\n",
       "      <td>0.0</td>\n",
       "      <td>0.0</td>\n",
       "      <td>1.0</td>\n",
       "      <td>0.0</td>\n",
       "      <td>0.0</td>\n",
       "      <td>0.0</td>\n",
       "      <td>0.0</td>\n",
       "      <td>0.0</td>\n",
       "    </tr>\n",
       "    <tr>\n",
       "      <th>29336</th>\n",
       "      <td>29336</td>\n",
       "      <td>16220109</td>\n",
       "      <td>5.867</td>\n",
       "      <td>5.670</td>\n",
       "      <td>1.804</td>\n",
       "      <td>2.579</td>\n",
       "      <td>3.128</td>\n",
       "      <td>2.657</td>\n",
       "      <td>3.275</td>\n",
       "      <td>0.821</td>\n",
       "      <td>...</td>\n",
       "      <td>0.0</td>\n",
       "      <td>0.0</td>\n",
       "      <td>0.0</td>\n",
       "      <td>0.0</td>\n",
       "      <td>2.0</td>\n",
       "      <td>0.0</td>\n",
       "      <td>0.0</td>\n",
       "      <td>0.0</td>\n",
       "      <td>0.0</td>\n",
       "      <td>1.0</td>\n",
       "    </tr>\n",
       "    <tr>\n",
       "      <th>29337</th>\n",
       "      <td>29337</td>\n",
       "      <td>16220109</td>\n",
       "      <td>5.867</td>\n",
       "      <td>5.670</td>\n",
       "      <td>1.804</td>\n",
       "      <td>2.579</td>\n",
       "      <td>3.128</td>\n",
       "      <td>2.657</td>\n",
       "      <td>3.275</td>\n",
       "      <td>0.821</td>\n",
       "      <td>...</td>\n",
       "      <td>0.0</td>\n",
       "      <td>0.0</td>\n",
       "      <td>0.0</td>\n",
       "      <td>1.0</td>\n",
       "      <td>0.0</td>\n",
       "      <td>0.0</td>\n",
       "      <td>0.0</td>\n",
       "      <td>0.0</td>\n",
       "      <td>0.0</td>\n",
       "      <td>0.0</td>\n",
       "    </tr>\n",
       "    <tr>\n",
       "      <th>29338</th>\n",
       "      <td>29338</td>\n",
       "      <td>16220109</td>\n",
       "      <td>5.867</td>\n",
       "      <td>5.670</td>\n",
       "      <td>1.804</td>\n",
       "      <td>2.579</td>\n",
       "      <td>3.128</td>\n",
       "      <td>2.657</td>\n",
       "      <td>3.275</td>\n",
       "      <td>0.821</td>\n",
       "      <td>...</td>\n",
       "      <td>0.0</td>\n",
       "      <td>0.0</td>\n",
       "      <td>1.0</td>\n",
       "      <td>0.0</td>\n",
       "      <td>0.0</td>\n",
       "      <td>0.0</td>\n",
       "      <td>0.0</td>\n",
       "      <td>1.0</td>\n",
       "      <td>0.0</td>\n",
       "      <td>0.0</td>\n",
       "    </tr>\n",
       "  </tbody>\n",
       "</table>\n",
       "<p>29339 rows × 3106 columns</p>\n",
       "</div>"
      ],
      "text/plain": [
       "       Unnamed: 0       CID  complexity from pubmed     MW    AMW     Sv  \\\n",
       "0               0       126                   4.532  4.961  2.011  2.155   \n",
       "1               1       126                   4.532  4.961  2.011  2.155   \n",
       "2               2       126                   4.532  4.961  2.011  2.155   \n",
       "3               3       126                   4.532  4.961  2.011  2.155   \n",
       "4               4       126                   4.532  4.961  2.011  2.155   \n",
       "...           ...       ...                     ...    ...    ...    ...   \n",
       "29334       29334  16220109                   5.867  5.670  1.804  2.579   \n",
       "29335       29335  16220109                   5.867  5.670  1.804  2.579   \n",
       "29336       29336  16220109                   5.867  5.670  1.804  2.579   \n",
       "29337       29337  16220109                   5.867  5.670  1.804  2.579   \n",
       "29338       29338  16220109                   5.867  5.670  1.804  2.579   \n",
       "\n",
       "          Se     Sp     Si     Mv  ...  ACID  WARM  MUSKY  SWEATY  \\\n",
       "0      2.482  2.168  2.554  0.873  ...   0.0   0.0    0.0     3.0   \n",
       "1      2.482  2.168  2.554  0.873  ...   0.0   0.0    0.0     0.0   \n",
       "2      2.482  2.168  2.554  0.873  ...   0.0   0.0    0.0     0.0   \n",
       "3      2.482  2.168  2.554  0.873  ...   0.0   0.0    0.0     0.0   \n",
       "4      2.482  2.168  2.554  0.873  ...   0.0   7.0    0.0     0.0   \n",
       "...      ...    ...    ...    ...  ...   ...   ...    ...     ...   \n",
       "29334  3.128  2.657  3.275  0.821  ...   3.0   0.0    0.0     0.0   \n",
       "29335  3.128  2.657  3.275  0.821  ...   0.0   0.0    0.0     0.0   \n",
       "29336  3.128  2.657  3.275  0.821  ...   0.0   0.0    0.0     0.0   \n",
       "29337  3.128  2.657  3.275  0.821  ...   0.0   0.0    0.0     1.0   \n",
       "29338  3.128  2.657  3.275  0.821  ...   0.0   0.0    1.0     0.0   \n",
       "\n",
       "       AMMONIA/URINOUS  DECAYED  WOOD  GRASS  FLOWER  CHEMICAL  \n",
       "0                  0.0      0.0   0.0    0.0     0.0       0.0  \n",
       "1                  0.0      0.0   0.0    0.0     0.0       0.0  \n",
       "2                  0.0      0.0   0.0    0.0     0.0       1.0  \n",
       "3                  0.0      0.0   0.0    0.0     0.0       1.0  \n",
       "4                  0.0      0.0   0.0    0.0     0.0       0.0  \n",
       "...                ...      ...   ...    ...     ...       ...  \n",
       "29334              0.0      0.0   0.0    0.0     0.0       7.0  \n",
       "29335              1.0      0.0   0.0    0.0     0.0       0.0  \n",
       "29336              2.0      0.0   0.0    0.0     0.0       1.0  \n",
       "29337              0.0      0.0   0.0    0.0     0.0       0.0  \n",
       "29338              0.0      0.0   0.0    1.0     0.0       0.0  \n",
       "\n",
       "[29339 rows x 3106 columns]"
      ]
     },
     "execution_count": 48,
     "metadata": {},
     "output_type": "execute_result"
    }
   ],
   "source": [
    "df = dfX.merge(dfY)\n",
    "df"
   ]
  },
  {
   "cell_type": "markdown",
   "metadata": {},
   "source": [
    "On remarque que la colonne 'Unnamed 0' qui sert à marger les 2 dataframe est complètement fausser. \n",
    "On se retrouve donc à prédire la classe 'INTENSITY/STRENGTH' avec les mauvais descripteurs."
   ]
  },
  {
   "cell_type": "code",
   "execution_count": 49,
   "metadata": {},
   "outputs": [],
   "source": [
    "list_labelY = ['subject','INTENSITY/STRENGTH']\n",
    "list_labelY2 = ['subject','SWEET']\n",
    "list_label = ['INTENSITY/STRENGTH', 'VALENCE/PLEASANTNESS', 'BAKERY', 'SWEET',\n",
    "       'FRUIT', 'FISH', 'GARLIC', 'SPICES', 'COLD', 'SOUR', 'BURNT', 'ACID',\n",
    "       'WARM', 'MUSKY', 'SWEATY', 'AMMONIA/URINOUS', 'DECAYED', 'WOOD',\n",
    "       'GRASS', 'FLOWER', 'CHEMICAL']"
   ]
  },
  {
   "cell_type": "code",
   "execution_count": 50,
   "metadata": {},
   "outputs": [],
   "source": [
    "dfY = df[list_labelY]\n",
    "dfX = df\n",
    "dfX = dfX.drop(list_label,axis=1)\n",
    "dfX = dfX.drop('Unnamed: 0',axis=1)\n",
    "dfX = dfX.drop('CID',axis=1)"
   ]
  },
  {
   "cell_type": "code",
   "execution_count": 51,
   "metadata": {},
   "outputs": [
    {
     "data": {
      "text/html": [
       "<div>\n",
       "<style scoped>\n",
       "    .dataframe tbody tr th:only-of-type {\n",
       "        vertical-align: middle;\n",
       "    }\n",
       "\n",
       "    .dataframe tbody tr th {\n",
       "        vertical-align: top;\n",
       "    }\n",
       "\n",
       "    .dataframe thead th {\n",
       "        text-align: right;\n",
       "    }\n",
       "</style>\n",
       "<table border=\"1\" class=\"dataframe\">\n",
       "  <thead>\n",
       "    <tr style=\"text-align: right;\">\n",
       "      <th></th>\n",
       "      <th>complexity from pubmed</th>\n",
       "      <th>MW</th>\n",
       "      <th>AMW</th>\n",
       "      <th>Sv</th>\n",
       "      <th>Se</th>\n",
       "      <th>Sp</th>\n",
       "      <th>Si</th>\n",
       "      <th>Mv</th>\n",
       "      <th>Me</th>\n",
       "      <th>Mp</th>\n",
       "      <th>...</th>\n",
       "      <th>Hypnotic-80</th>\n",
       "      <th>Hypnotic-50</th>\n",
       "      <th>Neoplastic-80</th>\n",
       "      <th>Neoplastic-50</th>\n",
       "      <th>Infective-80</th>\n",
       "      <th>Infective-50</th>\n",
       "      <th>Compound Identifier</th>\n",
       "      <th>Intensity</th>\n",
       "      <th>Dilution</th>\n",
       "      <th>subject</th>\n",
       "    </tr>\n",
       "  </thead>\n",
       "  <tbody>\n",
       "    <tr>\n",
       "      <th>0</th>\n",
       "      <td>4.532</td>\n",
       "      <td>4.961</td>\n",
       "      <td>2.011</td>\n",
       "      <td>2.155</td>\n",
       "      <td>2.482</td>\n",
       "      <td>2.168</td>\n",
       "      <td>2.554</td>\n",
       "      <td>0.873</td>\n",
       "      <td>1.006</td>\n",
       "      <td>0.879</td>\n",
       "      <td>...</td>\n",
       "      <td>0</td>\n",
       "      <td>0</td>\n",
       "      <td>0</td>\n",
       "      <td>0</td>\n",
       "      <td>0</td>\n",
       "      <td>0</td>\n",
       "      <td>126</td>\n",
       "      <td>0</td>\n",
       "      <td>1</td>\n",
       "      <td>1</td>\n",
       "    </tr>\n",
       "    <tr>\n",
       "      <th>1</th>\n",
       "      <td>4.532</td>\n",
       "      <td>4.961</td>\n",
       "      <td>2.011</td>\n",
       "      <td>2.155</td>\n",
       "      <td>2.482</td>\n",
       "      <td>2.168</td>\n",
       "      <td>2.554</td>\n",
       "      <td>0.873</td>\n",
       "      <td>1.006</td>\n",
       "      <td>0.879</td>\n",
       "      <td>...</td>\n",
       "      <td>0</td>\n",
       "      <td>0</td>\n",
       "      <td>0</td>\n",
       "      <td>0</td>\n",
       "      <td>0</td>\n",
       "      <td>0</td>\n",
       "      <td>126</td>\n",
       "      <td>1</td>\n",
       "      <td>0</td>\n",
       "      <td>1</td>\n",
       "    </tr>\n",
       "    <tr>\n",
       "      <th>2</th>\n",
       "      <td>4.532</td>\n",
       "      <td>4.961</td>\n",
       "      <td>2.011</td>\n",
       "      <td>2.155</td>\n",
       "      <td>2.482</td>\n",
       "      <td>2.168</td>\n",
       "      <td>2.554</td>\n",
       "      <td>0.873</td>\n",
       "      <td>1.006</td>\n",
       "      <td>0.879</td>\n",
       "      <td>...</td>\n",
       "      <td>0</td>\n",
       "      <td>0</td>\n",
       "      <td>0</td>\n",
       "      <td>0</td>\n",
       "      <td>0</td>\n",
       "      <td>0</td>\n",
       "      <td>126</td>\n",
       "      <td>0</td>\n",
       "      <td>1</td>\n",
       "      <td>2</td>\n",
       "    </tr>\n",
       "    <tr>\n",
       "      <th>3</th>\n",
       "      <td>4.532</td>\n",
       "      <td>4.961</td>\n",
       "      <td>2.011</td>\n",
       "      <td>2.155</td>\n",
       "      <td>2.482</td>\n",
       "      <td>2.168</td>\n",
       "      <td>2.554</td>\n",
       "      <td>0.873</td>\n",
       "      <td>1.006</td>\n",
       "      <td>0.879</td>\n",
       "      <td>...</td>\n",
       "      <td>0</td>\n",
       "      <td>0</td>\n",
       "      <td>0</td>\n",
       "      <td>0</td>\n",
       "      <td>0</td>\n",
       "      <td>0</td>\n",
       "      <td>126</td>\n",
       "      <td>1</td>\n",
       "      <td>0</td>\n",
       "      <td>2</td>\n",
       "    </tr>\n",
       "    <tr>\n",
       "      <th>4</th>\n",
       "      <td>4.532</td>\n",
       "      <td>4.961</td>\n",
       "      <td>2.011</td>\n",
       "      <td>2.155</td>\n",
       "      <td>2.482</td>\n",
       "      <td>2.168</td>\n",
       "      <td>2.554</td>\n",
       "      <td>0.873</td>\n",
       "      <td>1.006</td>\n",
       "      <td>0.879</td>\n",
       "      <td>...</td>\n",
       "      <td>0</td>\n",
       "      <td>0</td>\n",
       "      <td>0</td>\n",
       "      <td>0</td>\n",
       "      <td>0</td>\n",
       "      <td>0</td>\n",
       "      <td>126</td>\n",
       "      <td>0</td>\n",
       "      <td>1</td>\n",
       "      <td>3</td>\n",
       "    </tr>\n",
       "    <tr>\n",
       "      <th>...</th>\n",
       "      <td>...</td>\n",
       "      <td>...</td>\n",
       "      <td>...</td>\n",
       "      <td>...</td>\n",
       "      <td>...</td>\n",
       "      <td>...</td>\n",
       "      <td>...</td>\n",
       "      <td>...</td>\n",
       "      <td>...</td>\n",
       "      <td>...</td>\n",
       "      <td>...</td>\n",
       "      <td>...</td>\n",
       "      <td>...</td>\n",
       "      <td>...</td>\n",
       "      <td>...</td>\n",
       "      <td>...</td>\n",
       "      <td>...</td>\n",
       "      <td>...</td>\n",
       "      <td>...</td>\n",
       "      <td>...</td>\n",
       "      <td>...</td>\n",
       "    </tr>\n",
       "    <tr>\n",
       "      <th>29334</th>\n",
       "      <td>5.867</td>\n",
       "      <td>5.670</td>\n",
       "      <td>1.804</td>\n",
       "      <td>2.579</td>\n",
       "      <td>3.128</td>\n",
       "      <td>2.657</td>\n",
       "      <td>3.275</td>\n",
       "      <td>0.821</td>\n",
       "      <td>0.995</td>\n",
       "      <td>0.845</td>\n",
       "      <td>...</td>\n",
       "      <td>1</td>\n",
       "      <td>0</td>\n",
       "      <td>1</td>\n",
       "      <td>0</td>\n",
       "      <td>1</td>\n",
       "      <td>0</td>\n",
       "      <td>16220109</td>\n",
       "      <td>1</td>\n",
       "      <td>0</td>\n",
       "      <td>47</td>\n",
       "    </tr>\n",
       "    <tr>\n",
       "      <th>29335</th>\n",
       "      <td>5.867</td>\n",
       "      <td>5.670</td>\n",
       "      <td>1.804</td>\n",
       "      <td>2.579</td>\n",
       "      <td>3.128</td>\n",
       "      <td>2.657</td>\n",
       "      <td>3.275</td>\n",
       "      <td>0.821</td>\n",
       "      <td>0.995</td>\n",
       "      <td>0.845</td>\n",
       "      <td>...</td>\n",
       "      <td>1</td>\n",
       "      <td>0</td>\n",
       "      <td>1</td>\n",
       "      <td>0</td>\n",
       "      <td>1</td>\n",
       "      <td>0</td>\n",
       "      <td>16220109</td>\n",
       "      <td>0</td>\n",
       "      <td>1</td>\n",
       "      <td>48</td>\n",
       "    </tr>\n",
       "    <tr>\n",
       "      <th>29336</th>\n",
       "      <td>5.867</td>\n",
       "      <td>5.670</td>\n",
       "      <td>1.804</td>\n",
       "      <td>2.579</td>\n",
       "      <td>3.128</td>\n",
       "      <td>2.657</td>\n",
       "      <td>3.275</td>\n",
       "      <td>0.821</td>\n",
       "      <td>0.995</td>\n",
       "      <td>0.845</td>\n",
       "      <td>...</td>\n",
       "      <td>1</td>\n",
       "      <td>0</td>\n",
       "      <td>1</td>\n",
       "      <td>0</td>\n",
       "      <td>1</td>\n",
       "      <td>0</td>\n",
       "      <td>16220109</td>\n",
       "      <td>1</td>\n",
       "      <td>0</td>\n",
       "      <td>48</td>\n",
       "    </tr>\n",
       "    <tr>\n",
       "      <th>29337</th>\n",
       "      <td>5.867</td>\n",
       "      <td>5.670</td>\n",
       "      <td>1.804</td>\n",
       "      <td>2.579</td>\n",
       "      <td>3.128</td>\n",
       "      <td>2.657</td>\n",
       "      <td>3.275</td>\n",
       "      <td>0.821</td>\n",
       "      <td>0.995</td>\n",
       "      <td>0.845</td>\n",
       "      <td>...</td>\n",
       "      <td>1</td>\n",
       "      <td>0</td>\n",
       "      <td>1</td>\n",
       "      <td>0</td>\n",
       "      <td>1</td>\n",
       "      <td>0</td>\n",
       "      <td>16220109</td>\n",
       "      <td>0</td>\n",
       "      <td>1</td>\n",
       "      <td>49</td>\n",
       "    </tr>\n",
       "    <tr>\n",
       "      <th>29338</th>\n",
       "      <td>5.867</td>\n",
       "      <td>5.670</td>\n",
       "      <td>1.804</td>\n",
       "      <td>2.579</td>\n",
       "      <td>3.128</td>\n",
       "      <td>2.657</td>\n",
       "      <td>3.275</td>\n",
       "      <td>0.821</td>\n",
       "      <td>0.995</td>\n",
       "      <td>0.845</td>\n",
       "      <td>...</td>\n",
       "      <td>1</td>\n",
       "      <td>0</td>\n",
       "      <td>1</td>\n",
       "      <td>0</td>\n",
       "      <td>1</td>\n",
       "      <td>0</td>\n",
       "      <td>16220109</td>\n",
       "      <td>1</td>\n",
       "      <td>0</td>\n",
       "      <td>49</td>\n",
       "    </tr>\n",
       "  </tbody>\n",
       "</table>\n",
       "<p>29339 rows × 3083 columns</p>\n",
       "</div>"
      ],
      "text/plain": [
       "       complexity from pubmed     MW    AMW     Sv     Se     Sp     Si  \\\n",
       "0                       4.532  4.961  2.011  2.155  2.482  2.168  2.554   \n",
       "1                       4.532  4.961  2.011  2.155  2.482  2.168  2.554   \n",
       "2                       4.532  4.961  2.011  2.155  2.482  2.168  2.554   \n",
       "3                       4.532  4.961  2.011  2.155  2.482  2.168  2.554   \n",
       "4                       4.532  4.961  2.011  2.155  2.482  2.168  2.554   \n",
       "...                       ...    ...    ...    ...    ...    ...    ...   \n",
       "29334                   5.867  5.670  1.804  2.579  3.128  2.657  3.275   \n",
       "29335                   5.867  5.670  1.804  2.579  3.128  2.657  3.275   \n",
       "29336                   5.867  5.670  1.804  2.579  3.128  2.657  3.275   \n",
       "29337                   5.867  5.670  1.804  2.579  3.128  2.657  3.275   \n",
       "29338                   5.867  5.670  1.804  2.579  3.128  2.657  3.275   \n",
       "\n",
       "          Mv     Me     Mp  ...  Hypnotic-80  Hypnotic-50  Neoplastic-80  \\\n",
       "0      0.873  1.006  0.879  ...            0            0              0   \n",
       "1      0.873  1.006  0.879  ...            0            0              0   \n",
       "2      0.873  1.006  0.879  ...            0            0              0   \n",
       "3      0.873  1.006  0.879  ...            0            0              0   \n",
       "4      0.873  1.006  0.879  ...            0            0              0   \n",
       "...      ...    ...    ...  ...          ...          ...            ...   \n",
       "29334  0.821  0.995  0.845  ...            1            0              1   \n",
       "29335  0.821  0.995  0.845  ...            1            0              1   \n",
       "29336  0.821  0.995  0.845  ...            1            0              1   \n",
       "29337  0.821  0.995  0.845  ...            1            0              1   \n",
       "29338  0.821  0.995  0.845  ...            1            0              1   \n",
       "\n",
       "       Neoplastic-50  Infective-80  Infective-50  Compound Identifier  \\\n",
       "0                  0             0             0                  126   \n",
       "1                  0             0             0                  126   \n",
       "2                  0             0             0                  126   \n",
       "3                  0             0             0                  126   \n",
       "4                  0             0             0                  126   \n",
       "...              ...           ...           ...                  ...   \n",
       "29334              0             1             0             16220109   \n",
       "29335              0             1             0             16220109   \n",
       "29336              0             1             0             16220109   \n",
       "29337              0             1             0             16220109   \n",
       "29338              0             1             0             16220109   \n",
       "\n",
       "       Intensity  Dilution  subject  \n",
       "0              0         1        1  \n",
       "1              1         0        1  \n",
       "2              0         1        2  \n",
       "3              1         0        2  \n",
       "4              0         1        3  \n",
       "...          ...       ...      ...  \n",
       "29334          1         0       47  \n",
       "29335          0         1       48  \n",
       "29336          1         0       48  \n",
       "29337          0         1       49  \n",
       "29338          1         0       49  \n",
       "\n",
       "[29339 rows x 3083 columns]"
      ]
     },
     "execution_count": 51,
     "metadata": {},
     "output_type": "execute_result"
    }
   ],
   "source": [
    "dfX"
   ]
  },
  {
   "cell_type": "markdown",
   "metadata": {},
   "source": [
    "## Test sur le réseau neuronal"
   ]
  },
  {
   "cell_type": "code",
   "execution_count": 52,
   "metadata": {},
   "outputs": [],
   "source": [
    "dfY=dfY.drop('subject',axis=1)"
   ]
  },
  {
   "cell_type": "code",
   "execution_count": 53,
   "metadata": {},
   "outputs": [],
   "source": [
    "def to_class(y_):\n",
    "    res = np.zeros((len(y_), 11), dtype='q')\n",
    "    for i in range(len(y_)):\n",
    "        res[i][int(y_[i])] = 1\n",
    "    return res"
   ]
  },
  {
   "cell_type": "code",
   "execution_count": 54,
   "metadata": {},
   "outputs": [],
   "source": [
    "dataX = np.float32(dfX.values)\n",
    "dataY = np.longlong(dfY.values)\n",
    "dataY = to_class(dataY)"
   ]
  },
  {
   "cell_type": "code",
   "execution_count": 55,
   "metadata": {},
   "outputs": [],
   "source": [
    "# Normalisation\n",
    "sc = StandardScaler()\n",
    "dataX = sc.fit_transform(dataX)"
   ]
  },
  {
   "cell_type": "code",
   "execution_count": 56,
   "metadata": {},
   "outputs": [],
   "source": [
    "DATA_Train, DATA_Test, TARGET_Train, TARGET_Test = train_test_split(dataX, dataY ,test_size=0.2)"
   ]
  },
  {
   "cell_type": "code",
   "execution_count": 57,
   "metadata": {},
   "outputs": [],
   "source": [
    "## PyTorch is used to working with batches.\n",
    "Batch=300\n",
    "\n",
    "X_train_tensor = torch.from_numpy(DATA_Train)\n",
    "Y_train_tensor = torch.from_numpy(TARGET_Train) \n",
    "\n",
    "X_test_tensor = torch.from_numpy(DATA_Test)\n",
    "Y_test_tensor = torch.from_numpy(TARGET_Test)\n",
    "\n",
    "train = data_utils.TensorDataset(X_train_tensor, Y_train_tensor)\n",
    "train_loader = data_utils.DataLoader(train, batch_size=Batch, shuffle=True)\n",
    "\n",
    "test = data_utils.TensorDataset(X_test_tensor, Y_test_tensor)\n",
    "test_loader = data_utils.DataLoader(test, batch_size=Batch, shuffle=True)"
   ]
  },
  {
   "cell_type": "code",
   "execution_count": 58,
   "metadata": {},
   "outputs": [],
   "source": [
    "class MyNetwork(nn.Module):\n",
    "\n",
    "    def __init__(self):\n",
    "        super(MyNetwork, self).__init__()\n",
    "        \n",
    "        ## Activation layer\n",
    "        self.relu = nn.ReLU()\n",
    "        \n",
    "        self.fc1 = nn.Linear(in_features = 3083, out_features = 2400)\n",
    "        self.fc2 = nn.Linear(2400, 1200)  \n",
    "        self.fc3 = nn.Linear(1200, 600)\n",
    "        self.output = nn.Linear(600, 11)\n",
    "        self.softmax = nn.LogSoftmax(dim=1)\n",
    "        self.dr = nn.Dropout(0.3)\n",
    "        \n",
    "    def forward(self, x):\n",
    "\n",
    "    ## First full connection\n",
    "        x = self.fc1(x)\n",
    "        x = self.relu(x)\n",
    "        x = self.dr(x)\n",
    "    \n",
    "    ## Second full connection\n",
    "        x = self.fc2(x)\n",
    "        x = self.relu(x)\n",
    "        x = self.dr(x)\n",
    "        \n",
    "    ## Third full connection\n",
    "        x = self.fc3(x)\n",
    "        x = self.relu(x)\n",
    "        x = self.dr(x)\n",
    "        \n",
    "    ## Output layer\n",
    "        x = self.output(x)\n",
    "        y = self.softmax(x)\n",
    "        \n",
    "        return y"
   ]
  },
  {
   "cell_type": "code",
   "execution_count": 59,
   "metadata": {},
   "outputs": [
    {
     "data": {
      "text/plain": [
       "torch.Size([23471, 3083])"
      ]
     },
     "execution_count": 59,
     "metadata": {},
     "output_type": "execute_result"
    }
   ],
   "source": [
    "X_train_tensor.shape"
   ]
  },
  {
   "cell_type": "code",
   "execution_count": 60,
   "metadata": {},
   "outputs": [],
   "source": [
    "## Create an instance of our network\n",
    "net = MyNetwork()"
   ]
  },
  {
   "cell_type": "code",
   "execution_count": 61,
   "metadata": {},
   "outputs": [],
   "source": [
    "net = MyNetwork()\n",
    "net = net.cuda()\n",
    "\n",
    "LEARNING_RATE = 0.003\n",
    "MOMENTUM = 0.9\n",
    "\n",
    "criterion = nn.NLLLoss()\n",
    "#criterion = nn.CrossEntropyLoss\n",
    "\n",
    "# Méthode stochastique de descente du grandient \n",
    "optimizer = torch.optim.SGD(net.parameters(), lr=LEARNING_RATE, momentum=MOMENTUM)"
   ]
  },
  {
   "cell_type": "code",
   "execution_count": 62,
   "metadata": {
    "scrolled": true
   },
   "outputs": [
    {
     "name": "stdout",
     "output_type": "stream",
     "text": [
      "EPOCH: 0\n"
     ]
    },
    {
     "name": "stderr",
     "output_type": "stream",
     "text": [
      "C:\\Users\\benja\\anaconda3\\lib\\site-packages\\ipykernel_launcher.py:20: TqdmDeprecationWarning: This function will be removed in tqdm==5.0.0\n",
      "Please use `tqdm.notebook.tqdm` instead of `tqdm.tqdm_notebook`\n"
     ]
    },
    {
     "data": {
      "application/vnd.jupyter.widget-view+json": {
       "model_id": "33b841321a804996b91d87a3d0b351d3",
       "version_major": 2,
       "version_minor": 0
      },
      "text/plain": [
       "HBox(children=(FloatProgress(value=0.0, max=79.0), HTML(value='')))"
      ]
     },
     "metadata": {},
     "output_type": "display_data"
    },
    {
     "name": "stdout",
     "output_type": "stream",
     "text": [
      "\n",
      "Training accuracy: 0.14779941204039027 Training loss: 0.007936493040355205\n"
     ]
    },
    {
     "name": "stderr",
     "output_type": "stream",
     "text": [
      "C:\\Users\\benja\\anaconda3\\lib\\site-packages\\ipykernel_launcher.py:62: TqdmDeprecationWarning: This function will be removed in tqdm==5.0.0\n",
      "Please use `tqdm.notebook.tqdm` instead of `tqdm.tqdm_notebook`\n"
     ]
    },
    {
     "data": {
      "application/vnd.jupyter.widget-view+json": {
       "model_id": "bf06a14a0bb747369cc1fe9cbec3405e",
       "version_major": 2,
       "version_minor": 0
      },
      "text/plain": [
       "HBox(children=(FloatProgress(value=0.0, max=20.0), HTML(value='')))"
      ]
     },
     "metadata": {},
     "output_type": "display_data"
    },
    {
     "name": "stdout",
     "output_type": "stream",
     "text": [
      "\n",
      "Validation accuracy: 0.16411042944785276 Validation loss: 0.007927924577443877\n",
      "Temps de l Epoch  0  en secondes: 2.2553603649139404\n",
      "EPOCH: 1\n"
     ]
    },
    {
     "data": {
      "application/vnd.jupyter.widget-view+json": {
       "model_id": "1ed748882526462d9c1fac186c0d243c",
       "version_major": 2,
       "version_minor": 0
      },
      "text/plain": [
       "HBox(children=(FloatProgress(value=0.0, max=79.0), HTML(value='')))"
      ]
     },
     "metadata": {},
     "output_type": "display_data"
    },
    {
     "name": "stdout",
     "output_type": "stream",
     "text": [
      "\n",
      "Training accuracy: 0.15674662349282092 Training loss: 0.007823948673057971\n"
     ]
    },
    {
     "data": {
      "application/vnd.jupyter.widget-view+json": {
       "model_id": "80c5740d37d240b4a63dba34ec7fb8c9",
       "version_major": 2,
       "version_minor": 0
      },
      "text/plain": [
       "HBox(children=(FloatProgress(value=0.0, max=20.0), HTML(value='')))"
      ]
     },
     "metadata": {},
     "output_type": "display_data"
    },
    {
     "name": "stdout",
     "output_type": "stream",
     "text": [
      "\n",
      "Validation accuracy: 0.16717791411042945 Validation loss: 0.007878334813160236\n",
      "Temps de l Epoch  1  en secondes: 1.407196044921875\n",
      "EPOCH: 2\n"
     ]
    },
    {
     "data": {
      "application/vnd.jupyter.widget-view+json": {
       "model_id": "5994a1c57d4e4932b75c3e7eeff7ad59",
       "version_major": 2,
       "version_minor": 0
      },
      "text/plain": [
       "HBox(children=(FloatProgress(value=0.0, max=79.0), HTML(value='')))"
      ]
     },
     "metadata": {},
     "output_type": "display_data"
    },
    {
     "name": "stdout",
     "output_type": "stream",
     "text": [
      "\n",
      "Training accuracy: 0.15819521963273828 Training loss: 0.007782448369649845\n"
     ]
    },
    {
     "data": {
      "application/vnd.jupyter.widget-view+json": {
       "model_id": "6cc0e43cfc0e4c4eae5f3b9f866ac117",
       "version_major": 2,
       "version_minor": 0
      },
      "text/plain": [
       "HBox(children=(FloatProgress(value=0.0, max=20.0), HTML(value='')))"
      ]
     },
     "metadata": {},
     "output_type": "display_data"
    },
    {
     "name": "stdout",
     "output_type": "stream",
     "text": [
      "\n",
      "Validation accuracy: 0.1659850034083163 Validation loss: 0.007847499343596435\n",
      "Temps de l Epoch  2  en secondes: 1.3659226894378662\n",
      "EPOCH: 3\n"
     ]
    },
    {
     "data": {
      "application/vnd.jupyter.widget-view+json": {
       "model_id": "d0b7537bda8746f1babc181a69597fa2",
       "version_major": 2,
       "version_minor": 0
      },
      "text/plain": [
       "HBox(children=(FloatProgress(value=0.0, max=79.0), HTML(value='')))"
      ]
     },
     "metadata": {},
     "output_type": "display_data"
    },
    {
     "name": "stdout",
     "output_type": "stream",
     "text": [
      "\n",
      "Training accuracy: 0.16386178688594435 Training loss: 0.007749873053600413\n"
     ]
    },
    {
     "data": {
      "application/vnd.jupyter.widget-view+json": {
       "model_id": "56fced22a4334339b2dc2328ee85bc16",
       "version_major": 2,
       "version_minor": 0
      },
      "text/plain": [
       "HBox(children=(FloatProgress(value=0.0, max=20.0), HTML(value='')))"
      ]
     },
     "metadata": {},
     "output_type": "display_data"
    },
    {
     "name": "stdout",
     "output_type": "stream",
     "text": [
      "\n",
      "Validation accuracy: 0.17348329925017042 Validation loss: 0.007820240884064491\n",
      "Temps de l Epoch  3  en secondes: 1.3709042072296143\n",
      "EPOCH: 4\n"
     ]
    },
    {
     "data": {
      "application/vnd.jupyter.widget-view+json": {
       "model_id": "3dba434757b34ab7b9df276a4b56871c",
       "version_major": 2,
       "version_minor": 0
      },
      "text/plain": [
       "HBox(children=(FloatProgress(value=0.0, max=79.0), HTML(value='')))"
      ]
     },
     "metadata": {},
     "output_type": "display_data"
    },
    {
     "name": "stdout",
     "output_type": "stream",
     "text": [
      "\n",
      "Training accuracy: 0.16731285416045333 Training loss: 0.007717669581550239\n"
     ]
    },
    {
     "data": {
      "application/vnd.jupyter.widget-view+json": {
       "model_id": "9e5e8b6811654d8eb8a959a15a11e7a4",
       "version_major": 2,
       "version_minor": 0
      },
      "text/plain": [
       "HBox(children=(FloatProgress(value=0.0, max=20.0), HTML(value='')))"
      ]
     },
     "metadata": {},
     "output_type": "display_data"
    },
    {
     "name": "stdout",
     "output_type": "stream",
     "text": [
      "\n",
      "Validation accuracy: 0.17263122017723245 Validation loss: 0.007786863176856792\n",
      "Temps de l Epoch  4  en secondes: 1.3950538635253906\n",
      "EPOCH: 5\n"
     ]
    },
    {
     "data": {
      "application/vnd.jupyter.widget-view+json": {
       "model_id": "be300d5755334c06a008bcadd68be255",
       "version_major": 2,
       "version_minor": 0
      },
      "text/plain": [
       "HBox(children=(FloatProgress(value=0.0, max=79.0), HTML(value='')))"
      ]
     },
     "metadata": {},
     "output_type": "display_data"
    },
    {
     "name": "stdout",
     "output_type": "stream",
     "text": [
      "\n",
      "Training accuracy: 0.17395935409654467 Training loss: 0.007689576181289278\n"
     ]
    },
    {
     "data": {
      "application/vnd.jupyter.widget-view+json": {
       "model_id": "917cd18f0ab148ff84047a663ea7e1a9",
       "version_major": 2,
       "version_minor": 0
      },
      "text/plain": [
       "HBox(children=(FloatProgress(value=0.0, max=20.0), HTML(value='')))"
      ]
     },
     "metadata": {},
     "output_type": "display_data"
    },
    {
     "name": "stdout",
     "output_type": "stream",
     "text": [
      "\n",
      "Validation accuracy: 0.17842535787321062 Validation loss: 0.007754933614672327\n",
      "Temps de l Epoch  5  en secondes: 1.386214017868042\n",
      "EPOCH: 6\n"
     ]
    },
    {
     "data": {
      "application/vnd.jupyter.widget-view+json": {
       "model_id": "274f9b94b398496ea610e02e08b09686",
       "version_major": 2,
       "version_minor": 0
      },
      "text/plain": [
       "HBox(children=(FloatProgress(value=0.0, max=79.0), HTML(value='')))"
      ]
     },
     "metadata": {},
     "output_type": "display_data"
    },
    {
     "name": "stdout",
     "output_type": "stream",
     "text": [
      "\n",
      "Training accuracy: 0.1784755655915811 Training loss: 0.007653776510701121\n"
     ]
    },
    {
     "data": {
      "application/vnd.jupyter.widget-view+json": {
       "model_id": "2ce6f9081e36467fbac524151eb6267d",
       "version_major": 2,
       "version_minor": 0
      },
      "text/plain": [
       "HBox(children=(FloatProgress(value=0.0, max=20.0), HTML(value='')))"
      ]
     },
     "metadata": {},
     "output_type": "display_data"
    },
    {
     "name": "stdout",
     "output_type": "stream",
     "text": [
      "\n",
      "Validation accuracy: 0.18064076346284935 Validation loss: 0.007715985859504913\n",
      "Temps de l Epoch  6  en secondes: 1.394502878189087\n",
      "EPOCH: 7\n"
     ]
    },
    {
     "data": {
      "application/vnd.jupyter.widget-view+json": {
       "model_id": "95d94f4cfc1743f0b0eafd1e50adb118",
       "version_major": 2,
       "version_minor": 0
      },
      "text/plain": [
       "HBox(children=(FloatProgress(value=0.0, max=79.0), HTML(value='')))"
      ]
     },
     "metadata": {},
     "output_type": "display_data"
    },
    {
     "name": "stdout",
     "output_type": "stream",
     "text": [
      "\n",
      "Training accuracy: 0.18005197903796175 Training loss: 0.007611095867211429\n"
     ]
    },
    {
     "data": {
      "application/vnd.jupyter.widget-view+json": {
       "model_id": "7d79cbd45aa34a9e86046ad28bebc4a3",
       "version_major": 2,
       "version_minor": 0
      },
      "text/plain": [
       "HBox(children=(FloatProgress(value=0.0, max=20.0), HTML(value='')))"
      ]
     },
     "metadata": {},
     "output_type": "display_data"
    },
    {
     "name": "stdout",
     "output_type": "stream",
     "text": [
      "\n",
      "Validation accuracy: 0.18643490115882755 Validation loss: 0.0076734675951530594\n",
      "Temps de l Epoch  7  en secondes: 1.3660235404968262\n",
      "EPOCH: 8\n"
     ]
    },
    {
     "data": {
      "application/vnd.jupyter.widget-view+json": {
       "model_id": "3c4f8a1442ce4e51a521823eed6e191a",
       "version_major": 2,
       "version_minor": 0
      },
      "text/plain": [
       "HBox(children=(FloatProgress(value=0.0, max=79.0), HTML(value='')))"
      ]
     },
     "metadata": {},
     "output_type": "display_data"
    },
    {
     "name": "stdout",
     "output_type": "stream",
     "text": [
      "\n",
      "Training accuracy: 0.1884453154957181 Training loss: 0.007560443514517182\n"
     ]
    },
    {
     "data": {
      "application/vnd.jupyter.widget-view+json": {
       "model_id": "5292981286624ff4b3135af82fd78f7c",
       "version_major": 2,
       "version_minor": 0
      },
      "text/plain": [
       "HBox(children=(FloatProgress(value=0.0, max=20.0), HTML(value='')))"
      ]
     },
     "metadata": {},
     "output_type": "display_data"
    },
    {
     "name": "stdout",
     "output_type": "stream",
     "text": [
      "\n",
      "Validation accuracy: 0.19444444444444445 Validation loss: 0.007612367267907681\n",
      "Temps de l Epoch  8  en secondes: 1.3695638179779053\n",
      "EPOCH: 9\n"
     ]
    },
    {
     "data": {
      "application/vnd.jupyter.widget-view+json": {
       "model_id": "b16a0a044cae4447a13e3b622fb5afd8",
       "version_major": 2,
       "version_minor": 0
      },
      "text/plain": [
       "HBox(children=(FloatProgress(value=0.0, max=79.0), HTML(value='')))"
      ]
     },
     "metadata": {},
     "output_type": "display_data"
    },
    {
     "name": "stdout",
     "output_type": "stream",
     "text": [
      "\n",
      "Training accuracy: 0.19347279621660773 Training loss: 0.007509812270161198\n"
     ]
    },
    {
     "data": {
      "application/vnd.jupyter.widget-view+json": {
       "model_id": "f27c38abfb134ded9fa2af40d11a88fe",
       "version_major": 2,
       "version_minor": 0
      },
      "text/plain": [
       "HBox(children=(FloatProgress(value=0.0, max=20.0), HTML(value='')))"
      ]
     },
     "metadata": {},
     "output_type": "display_data"
    },
    {
     "name": "stdout",
     "output_type": "stream",
     "text": [
      "\n",
      "Validation accuracy: 0.2036468984321745 Validation loss: 0.00754966643202768\n",
      "Temps de l Epoch  9  en secondes: 1.3837480545043945\n",
      "EPOCH: 10\n"
     ]
    },
    {
     "data": {
      "application/vnd.jupyter.widget-view+json": {
       "model_id": "f3a63375de3945dba9bb6d38b4f0c120",
       "version_major": 2,
       "version_minor": 0
      },
      "text/plain": [
       "HBox(children=(FloatProgress(value=0.0, max=79.0), HTML(value='')))"
      ]
     },
     "metadata": {},
     "output_type": "display_data"
    },
    {
     "name": "stdout",
     "output_type": "stream",
     "text": [
      "\n",
      "Training accuracy: 0.202249584593754 Training loss: 0.007433549052819462\n"
     ]
    },
    {
     "data": {
      "application/vnd.jupyter.widget-view+json": {
       "model_id": "9a43b011b272416fb926636bf0dc801b",
       "version_major": 2,
       "version_minor": 0
      },
      "text/plain": [
       "HBox(children=(FloatProgress(value=0.0, max=20.0), HTML(value='')))"
      ]
     },
     "metadata": {},
     "output_type": "display_data"
    },
    {
     "name": "stdout",
     "output_type": "stream",
     "text": [
      "\n",
      "Validation accuracy: 0.2091002044989775 Validation loss: 0.007468930498303892\n",
      "Temps de l Epoch  10  en secondes: 1.4072883129119873\n",
      "EPOCH: 11\n"
     ]
    },
    {
     "data": {
      "application/vnd.jupyter.widget-view+json": {
       "model_id": "3074c9f9a5074afe8b2984825710c10f",
       "version_major": 2,
       "version_minor": 0
      },
      "text/plain": [
       "HBox(children=(FloatProgress(value=0.0, max=79.0), HTML(value='')))"
      ]
     },
     "metadata": {},
     "output_type": "display_data"
    },
    {
     "name": "stdout",
     "output_type": "stream",
     "text": [
      "\n",
      "Training accuracy: 0.20881087299220313 Training loss: 0.007362338519513869\n"
     ]
    },
    {
     "data": {
      "application/vnd.jupyter.widget-view+json": {
       "model_id": "fb5ed3eba2da4d368cbfa13e1c465e45",
       "version_major": 2,
       "version_minor": 0
      },
      "text/plain": [
       "HBox(children=(FloatProgress(value=0.0, max=20.0), HTML(value='')))"
      ]
     },
     "metadata": {},
     "output_type": "display_data"
    },
    {
     "name": "stdout",
     "output_type": "stream",
     "text": [
      "\n",
      "Validation accuracy: 0.21779141104294478 Validation loss: 0.007398694489549924\n",
      "Temps de l Epoch  11  en secondes: 1.3654506206512451\n",
      "EPOCH: 12\n"
     ]
    },
    {
     "data": {
      "application/vnd.jupyter.widget-view+json": {
       "model_id": "6205a7e887ba4f7f88fe89d5e6fb1ce4",
       "version_major": 2,
       "version_minor": 0
      },
      "text/plain": [
       "HBox(children=(FloatProgress(value=0.0, max=79.0), HTML(value='')))"
      ]
     },
     "metadata": {},
     "output_type": "display_data"
    },
    {
     "name": "stdout",
     "output_type": "stream",
     "text": [
      "\n",
      "Training accuracy: 0.21456265178305142 Training loss: 0.007307561365920457\n"
     ]
    },
    {
     "data": {
      "application/vnd.jupyter.widget-view+json": {
       "model_id": "8970cf215ceb490f8a0ce7add18cd15c",
       "version_major": 2,
       "version_minor": 0
      },
      "text/plain": [
       "HBox(children=(FloatProgress(value=0.0, max=20.0), HTML(value='')))"
      ]
     },
     "metadata": {},
     "output_type": "display_data"
    },
    {
     "name": "stdout",
     "output_type": "stream",
     "text": [
      "\n",
      "Validation accuracy: 0.2230743012951602 Validation loss: 0.007327478356156612\n",
      "Temps de l Epoch  12  en secondes: 1.3584086894989014\n",
      "EPOCH: 13\n"
     ]
    },
    {
     "data": {
      "application/vnd.jupyter.widget-view+json": {
       "model_id": "aa630f15ed594527b582881f2b1b10ec",
       "version_major": 2,
       "version_minor": 0
      },
      "text/plain": [
       "HBox(children=(FloatProgress(value=0.0, max=79.0), HTML(value='')))"
      ]
     },
     "metadata": {},
     "output_type": "display_data"
    },
    {
     "name": "stdout",
     "output_type": "stream",
     "text": [
      "\n",
      "Training accuracy: 0.21997358442333093 Training loss: 0.007253506609143175\n"
     ]
    },
    {
     "data": {
      "application/vnd.jupyter.widget-view+json": {
       "model_id": "e9fe5638a41043e3b7fadbe67f6187b4",
       "version_major": 2,
       "version_minor": 0
      },
      "text/plain": [
       "HBox(children=(FloatProgress(value=0.0, max=20.0), HTML(value='')))"
      ]
     },
     "metadata": {},
     "output_type": "display_data"
    },
    {
     "name": "stdout",
     "output_type": "stream",
     "text": [
      "\n",
      "Validation accuracy: 0.2222222222222222 Validation loss: 0.007313127369805917\n",
      "Temps de l Epoch  13  en secondes: 1.3811168670654297\n",
      "EPOCH: 14\n"
     ]
    },
    {
     "data": {
      "application/vnd.jupyter.widget-view+json": {
       "model_id": "4f4ed4e33a494c84a619c02271a683f0",
       "version_major": 2,
       "version_minor": 0
      },
      "text/plain": [
       "HBox(children=(FloatProgress(value=0.0, max=79.0), HTML(value='')))"
      ]
     },
     "metadata": {},
     "output_type": "display_data"
    },
    {
     "name": "stdout",
     "output_type": "stream",
     "text": [
      "\n",
      "Training accuracy: 0.22010140172979423 Training loss: 0.007223482842205847\n"
     ]
    },
    {
     "data": {
      "application/vnd.jupyter.widget-view+json": {
       "model_id": "ae5396375b1b496ebcbc3f014cc35981",
       "version_major": 2,
       "version_minor": 0
      },
      "text/plain": [
       "HBox(children=(FloatProgress(value=0.0, max=20.0), HTML(value='')))"
      ]
     },
     "metadata": {},
     "output_type": "display_data"
    },
    {
     "name": "stdout",
     "output_type": "stream",
     "text": [
      "\n",
      "Validation accuracy: 0.22597137014314927 Validation loss: 0.0073064794000834935\n",
      "Temps de l Epoch  14  en secondes: 1.4317822456359863\n",
      "EPOCH: 15\n"
     ]
    },
    {
     "data": {
      "application/vnd.jupyter.widget-view+json": {
       "model_id": "d375629b5d604654b27727809be2b197",
       "version_major": 2,
       "version_minor": 0
      },
      "text/plain": [
       "HBox(children=(FloatProgress(value=0.0, max=79.0), HTML(value='')))"
      ]
     },
     "metadata": {},
     "output_type": "display_data"
    },
    {
     "name": "stdout",
     "output_type": "stream",
     "text": [
      "\n",
      "Training accuracy: 0.22248732478377573 Training loss: 0.007204784267595054\n"
     ]
    },
    {
     "data": {
      "application/vnd.jupyter.widget-view+json": {
       "model_id": "bd8283a2f4a74978873a09231a10ab76",
       "version_major": 2,
       "version_minor": 0
      },
      "text/plain": [
       "HBox(children=(FloatProgress(value=0.0, max=20.0), HTML(value='')))"
      ]
     },
     "metadata": {},
     "output_type": "display_data"
    },
    {
     "name": "stdout",
     "output_type": "stream",
     "text": [
      "\n",
      "Validation accuracy: 0.2252897068847989 Validation loss: 0.007282461531729461\n",
      "Temps de l Epoch  15  en secondes: 1.383476734161377\n",
      "EPOCH: 16\n"
     ]
    },
    {
     "data": {
      "application/vnd.jupyter.widget-view+json": {
       "model_id": "50b6b691f39c49a0a003ba8f159813ee",
       "version_major": 2,
       "version_minor": 0
      },
      "text/plain": [
       "HBox(children=(FloatProgress(value=0.0, max=79.0), HTML(value='')))"
      ]
     },
     "metadata": {},
     "output_type": "display_data"
    },
    {
     "name": "stdout",
     "output_type": "stream",
     "text": [
      "\n",
      "Training accuracy: 0.22231690170849133 Training loss: 0.00719148590275123\n"
     ]
    },
    {
     "data": {
      "application/vnd.jupyter.widget-view+json": {
       "model_id": "deae8dbd53764a90ba13b232dd9f1ac9",
       "version_major": 2,
       "version_minor": 0
      },
      "text/plain": [
       "HBox(children=(FloatProgress(value=0.0, max=20.0), HTML(value='')))"
      ]
     },
     "metadata": {},
     "output_type": "display_data"
    },
    {
     "name": "stdout",
     "output_type": "stream",
     "text": [
      "\n",
      "Validation accuracy: 0.22614178595773687 Validation loss: 0.007278114780732865\n",
      "Temps de l Epoch  16  en secondes: 1.3489844799041748\n",
      "EPOCH: 17\n"
     ]
    },
    {
     "data": {
      "application/vnd.jupyter.widget-view+json": {
       "model_id": "8331c32fe5eb42b9b775df4145338bc0",
       "version_major": 2,
       "version_minor": 0
      },
      "text/plain": [
       "HBox(children=(FloatProgress(value=0.0, max=79.0), HTML(value='')))"
      ]
     },
     "metadata": {},
     "output_type": "display_data"
    },
    {
     "name": "stdout",
     "output_type": "stream",
     "text": [
      "\n",
      "Training accuracy: 0.22495845937539943 Training loss: 0.007175940871213314\n"
     ]
    },
    {
     "data": {
      "application/vnd.jupyter.widget-view+json": {
       "model_id": "e9dfa9dc3c824c9c90985feb1bfceb8d",
       "version_major": 2,
       "version_minor": 0
      },
      "text/plain": [
       "HBox(children=(FloatProgress(value=0.0, max=20.0), HTML(value='')))"
      ]
     },
     "metadata": {},
     "output_type": "display_data"
    },
    {
     "name": "stdout",
     "output_type": "stream",
     "text": [
      "\n",
      "Validation accuracy: 0.2278459441036128 Validation loss: 0.007309392226660585\n",
      "Temps de l Epoch  17  en secondes: 1.3463613986968994\n",
      "EPOCH: 18\n"
     ]
    },
    {
     "data": {
      "application/vnd.jupyter.widget-view+json": {
       "model_id": "3f5a55affb014371bd232fec779e57e2",
       "version_major": 2,
       "version_minor": 0
      },
      "text/plain": [
       "HBox(children=(FloatProgress(value=0.0, max=79.0), HTML(value='')))"
      ]
     },
     "metadata": {},
     "output_type": "display_data"
    },
    {
     "name": "stdout",
     "output_type": "stream",
     "text": [
      "\n",
      "Training accuracy: 0.22627923820885348 Training loss: 0.0071820742859157165\n"
     ]
    },
    {
     "data": {
      "application/vnd.jupyter.widget-view+json": {
       "model_id": "ccb9e1331bed48b3bc6b58e34aae9002",
       "version_major": 2,
       "version_minor": 0
      },
      "text/plain": [
       "HBox(children=(FloatProgress(value=0.0, max=20.0), HTML(value='')))"
      ]
     },
     "metadata": {},
     "output_type": "display_data"
    },
    {
     "name": "stdout",
     "output_type": "stream",
     "text": [
      "\n",
      "Validation accuracy: 0.22375596455351057 Validation loss: 0.0073007038847150325\n",
      "Temps de l Epoch  18  en secondes: 1.3787853717803955\n",
      "EPOCH: 19\n"
     ]
    },
    {
     "data": {
      "application/vnd.jupyter.widget-view+json": {
       "model_id": "a008c266dece4932bd152b5798bcea5a",
       "version_major": 2,
       "version_minor": 0
      },
      "text/plain": [
       "HBox(children=(FloatProgress(value=0.0, max=79.0), HTML(value='')))"
      ]
     },
     "metadata": {},
     "output_type": "display_data"
    },
    {
     "name": "stdout",
     "output_type": "stream",
     "text": [
      "\n",
      "Training accuracy: 0.2257679689830003 Training loss: 0.007162545075846655\n"
     ]
    },
    {
     "data": {
      "application/vnd.jupyter.widget-view+json": {
       "model_id": "3f25ffcf6df04641a609af11dd4f987f",
       "version_major": 2,
       "version_minor": 0
      },
      "text/plain": [
       "HBox(children=(FloatProgress(value=0.0, max=20.0), HTML(value='')))"
      ]
     },
     "metadata": {},
     "output_type": "display_data"
    },
    {
     "name": "stdout",
     "output_type": "stream",
     "text": [
      "\n",
      "Validation accuracy: 0.222733469665985 Validation loss: 0.0072888601533230585\n",
      "Temps de l Epoch  19  en secondes: 1.3904099464416504\n",
      "EPOCH: 20\n"
     ]
    },
    {
     "data": {
      "application/vnd.jupyter.widget-view+json": {
       "model_id": "343d64ff19a54d819c33fcb3d8cc9389",
       "version_major": 2,
       "version_minor": 0
      },
      "text/plain": [
       "HBox(children=(FloatProgress(value=0.0, max=79.0), HTML(value='')))"
      ]
     },
     "metadata": {},
     "output_type": "display_data"
    },
    {
     "name": "stdout",
     "output_type": "stream",
     "text": [
      "\n",
      "Training accuracy: 0.2253845170636104 Training loss: 0.007159420041220041\n"
     ]
    },
    {
     "data": {
      "application/vnd.jupyter.widget-view+json": {
       "model_id": "270840feba62423aaab18de236e5c537",
       "version_major": 2,
       "version_minor": 0
      },
      "text/plain": [
       "HBox(children=(FloatProgress(value=0.0, max=20.0), HTML(value='')))"
      ]
     },
     "metadata": {},
     "output_type": "display_data"
    },
    {
     "name": "stdout",
     "output_type": "stream",
     "text": [
      "\n",
      "Validation accuracy: 0.22886843899113837 Validation loss: 0.007266043113378253\n",
      "Temps de l Epoch  20  en secondes: 1.367704153060913\n",
      "EPOCH: 21\n"
     ]
    },
    {
     "data": {
      "application/vnd.jupyter.widget-view+json": {
       "model_id": "2ea7252173ae4a10872b3fe98cecab7d",
       "version_major": 2,
       "version_minor": 0
      },
      "text/plain": [
       "HBox(children=(FloatProgress(value=0.0, max=79.0), HTML(value='')))"
      ]
     },
     "metadata": {},
     "output_type": "display_data"
    },
    {
     "name": "stdout",
     "output_type": "stream",
     "text": [
      "\n",
      "Training accuracy: 0.2259809978271058 Training loss: 0.0071503187514942185\n"
     ]
    },
    {
     "data": {
      "application/vnd.jupyter.widget-view+json": {
       "model_id": "14a163e37929440095ee87d6fdfad5d1",
       "version_major": 2,
       "version_minor": 0
      },
      "text/plain": [
       "HBox(children=(FloatProgress(value=0.0, max=20.0), HTML(value='')))"
      ]
     },
     "metadata": {},
     "output_type": "display_data"
    },
    {
     "name": "stdout",
     "output_type": "stream",
     "text": [
      "\n",
      "Validation accuracy: 0.2254601226993865 Validation loss: 0.007261440147732745\n",
      "Temps de l Epoch  21  en secondes: 1.367525339126587\n",
      "EPOCH: 22\n"
     ]
    },
    {
     "data": {
      "application/vnd.jupyter.widget-view+json": {
       "model_id": "49cbc9d7554f4f49a01a6a00a9ebb0d5",
       "version_major": 2,
       "version_minor": 0
      },
      "text/plain": [
       "HBox(children=(FloatProgress(value=0.0, max=79.0), HTML(value='')))"
      ]
     },
     "metadata": {},
     "output_type": "display_data"
    },
    {
     "name": "stdout",
     "output_type": "stream",
     "text": [
      "\n",
      "Training accuracy: 0.22734438242938093 Training loss: 0.0071546385759671625\n"
     ]
    },
    {
     "data": {
      "application/vnd.jupyter.widget-view+json": {
       "model_id": "d9cc259ec6c4409da26d0d643150ec7b",
       "version_major": 2,
       "version_minor": 0
      },
      "text/plain": [
       "HBox(children=(FloatProgress(value=0.0, max=20.0), HTML(value='')))"
      ]
     },
     "metadata": {},
     "output_type": "display_data"
    },
    {
     "name": "stdout",
     "output_type": "stream",
     "text": [
      "\n",
      "Validation accuracy: 0.22903885480572597 Validation loss: 0.007263735231283821\n",
      "Temps de l Epoch  22  en secondes: 1.3936965465545654\n",
      "EPOCH: 23\n"
     ]
    },
    {
     "data": {
      "application/vnd.jupyter.widget-view+json": {
       "model_id": "fe7598f03f714415b37bc99ab9a3622c",
       "version_major": 2,
       "version_minor": 0
      },
      "text/plain": [
       "HBox(children=(FloatProgress(value=0.0, max=79.0), HTML(value='')))"
      ]
     },
     "metadata": {},
     "output_type": "display_data"
    },
    {
     "name": "stdout",
     "output_type": "stream",
     "text": [
      "\n",
      "Training accuracy: 0.2286225554940139 Training loss: 0.007148862113625956\n"
     ]
    },
    {
     "data": {
      "application/vnd.jupyter.widget-view+json": {
       "model_id": "536ac6998d1e4844b42355775eae5a81",
       "version_major": 2,
       "version_minor": 0
      },
      "text/plain": [
       "HBox(children=(FloatProgress(value=0.0, max=20.0), HTML(value='')))"
      ]
     },
     "metadata": {},
     "output_type": "display_data"
    },
    {
     "name": "stdout",
     "output_type": "stream",
     "text": [
      "\n",
      "Validation accuracy: 0.2258009543285617 Validation loss: 0.007277722942154669\n",
      "Temps de l Epoch  23  en secondes: 1.362703800201416\n",
      "EPOCH: 24\n"
     ]
    },
    {
     "data": {
      "application/vnd.jupyter.widget-view+json": {
       "model_id": "98248411044e4c16bc410287d4dfa391",
       "version_major": 2,
       "version_minor": 0
      },
      "text/plain": [
       "HBox(children=(FloatProgress(value=0.0, max=79.0), HTML(value='')))"
      ]
     },
     "metadata": {},
     "output_type": "display_data"
    },
    {
     "name": "stdout",
     "output_type": "stream",
     "text": [
      "\n",
      "Training accuracy: 0.22951727663925695 Training loss: 0.0071408282475774005\n"
     ]
    },
    {
     "data": {
      "application/vnd.jupyter.widget-view+json": {
       "model_id": "ec1a749c133d45bfb8dd218f9dafad6f",
       "version_major": 2,
       "version_minor": 0
      },
      "text/plain": [
       "HBox(children=(FloatProgress(value=0.0, max=20.0), HTML(value='')))"
      ]
     },
     "metadata": {},
     "output_type": "display_data"
    },
    {
     "name": "stdout",
     "output_type": "stream",
     "text": [
      "\n",
      "Validation accuracy: 0.22648261758691207 Validation loss: 0.007250850226656466\n",
      "Temps de l Epoch  24  en secondes: 1.3839445114135742\n",
      "EPOCH: 25\n"
     ]
    },
    {
     "data": {
      "application/vnd.jupyter.widget-view+json": {
       "model_id": "8615f65c5efc4671a845ca2c2a4383c8",
       "version_major": 2,
       "version_minor": 0
      },
      "text/plain": [
       "HBox(children=(FloatProgress(value=0.0, max=79.0), HTML(value='')))"
      ]
     },
     "metadata": {},
     "output_type": "display_data"
    },
    {
     "name": "stdout",
     "output_type": "stream",
     "text": [
      "\n",
      "Training accuracy: 0.23019896894039452 Training loss: 0.007131433594613349\n"
     ]
    },
    {
     "data": {
      "application/vnd.jupyter.widget-view+json": {
       "model_id": "c560cbda76f64719847e2c72a1ad6d0a",
       "version_major": 2,
       "version_minor": 0
      },
      "text/plain": [
       "HBox(children=(FloatProgress(value=0.0, max=20.0), HTML(value='')))"
      ]
     },
     "metadata": {},
     "output_type": "display_data"
    },
    {
     "name": "stdout",
     "output_type": "stream",
     "text": [
      "\n",
      "Validation accuracy: 0.2254601226993865 Validation loss: 0.007270953609736988\n",
      "Temps de l Epoch  25  en secondes: 1.343904972076416\n",
      "EPOCH: 26\n"
     ]
    },
    {
     "data": {
      "application/vnd.jupyter.widget-view+json": {
       "model_id": "88180168fb464f159f3856ab2d50c232",
       "version_major": 2,
       "version_minor": 0
      },
      "text/plain": [
       "HBox(children=(FloatProgress(value=0.0, max=79.0), HTML(value='')))"
      ]
     },
     "metadata": {},
     "output_type": "display_data"
    },
    {
     "name": "stdout",
     "output_type": "stream",
     "text": [
      "\n",
      "Training accuracy: 0.22968769971454134 Training loss: 0.007129866600158517\n"
     ]
    },
    {
     "data": {
      "application/vnd.jupyter.widget-view+json": {
       "model_id": "80e98571331f4e0e8f463f9a3d382625",
       "version_major": 2,
       "version_minor": 0
      },
      "text/plain": [
       "HBox(children=(FloatProgress(value=0.0, max=20.0), HTML(value='')))"
      ]
     },
     "metadata": {},
     "output_type": "display_data"
    },
    {
     "name": "stdout",
     "output_type": "stream",
     "text": [
      "\n",
      "Validation accuracy: 0.2254601226993865 Validation loss: 0.007269685213144896\n",
      "Temps de l Epoch  26  en secondes: 1.3389997482299805\n",
      "EPOCH: 27\n"
     ]
    },
    {
     "data": {
      "application/vnd.jupyter.widget-view+json": {
       "model_id": "560cb71a70284d8181f37c8be2f8edae",
       "version_major": 2,
       "version_minor": 0
      },
      "text/plain": [
       "HBox(children=(FloatProgress(value=0.0, max=79.0), HTML(value='')))"
      ]
     },
     "metadata": {},
     "output_type": "display_data"
    },
    {
     "name": "stdout",
     "output_type": "stream",
     "text": [
      "\n",
      "Training accuracy: 0.22917643048868816 Training loss: 0.0071247713337576\n"
     ]
    },
    {
     "data": {
      "application/vnd.jupyter.widget-view+json": {
       "model_id": "edebe9eafb1748eeaec76cb1423803ff",
       "version_major": 2,
       "version_minor": 0
      },
      "text/plain": [
       "HBox(children=(FloatProgress(value=0.0, max=20.0), HTML(value='')))"
      ]
     },
     "metadata": {},
     "output_type": "display_data"
    },
    {
     "name": "stdout",
     "output_type": "stream",
     "text": [
      "\n",
      "Validation accuracy: 0.22460804362644854 Validation loss: 0.007294329560038664\n",
      "Temps de l Epoch  27  en secondes: 1.4352290630340576\n",
      "EPOCH: 28\n"
     ]
    },
    {
     "data": {
      "application/vnd.jupyter.widget-view+json": {
       "model_id": "0e71f07a23734c4fb979c435d1654678",
       "version_major": 2,
       "version_minor": 0
      },
      "text/plain": [
       "HBox(children=(FloatProgress(value=0.0, max=79.0), HTML(value='')))"
      ]
     },
     "metadata": {},
     "output_type": "display_data"
    },
    {
     "name": "stdout",
     "output_type": "stream",
     "text": [
      "\n",
      "Training accuracy: 0.23156235354266969 Training loss: 0.007119266943472234\n"
     ]
    },
    {
     "data": {
      "application/vnd.jupyter.widget-view+json": {
       "model_id": "9fb501e7abf14d1380042c752159d755",
       "version_major": 2,
       "version_minor": 0
      },
      "text/plain": [
       "HBox(children=(FloatProgress(value=0.0, max=20.0), HTML(value='')))"
      ]
     },
     "metadata": {},
     "output_type": "display_data"
    },
    {
     "name": "stdout",
     "output_type": "stream",
     "text": [
      "\n",
      "Validation accuracy: 0.2252897068847989 Validation loss: 0.007281716697136399\n",
      "Temps de l Epoch  28  en secondes: 1.3788878917694092\n",
      "EPOCH: 29\n"
     ]
    },
    {
     "data": {
      "application/vnd.jupyter.widget-view+json": {
       "model_id": "cd2cff92bd2543b99d49e70e48bf06f6",
       "version_major": 2,
       "version_minor": 0
      },
      "text/plain": [
       "HBox(children=(FloatProgress(value=0.0, max=79.0), HTML(value='')))"
      ]
     },
     "metadata": {},
     "output_type": "display_data"
    },
    {
     "name": "stdout",
     "output_type": "stream",
     "text": [
      "\n",
      "Training accuracy: 0.23143453623620638 Training loss: 0.007118225666504634\n"
     ]
    },
    {
     "data": {
      "application/vnd.jupyter.widget-view+json": {
       "model_id": "854fd220008d44c7921ea75cbb80ba61",
       "version_major": 2,
       "version_minor": 0
      },
      "text/plain": [
       "HBox(children=(FloatProgress(value=0.0, max=20.0), HTML(value='')))"
      ]
     },
     "metadata": {},
     "output_type": "display_data"
    },
    {
     "name": "stdout",
     "output_type": "stream",
     "text": [
      "\n",
      "Validation accuracy: 0.2254601226993865 Validation loss: 0.0072575964404355126\n",
      "Temps de l Epoch  29  en secondes: 1.358802080154419\n",
      "Temps total en secondes: 42.21894955635071\n"
     ]
    }
   ],
   "source": [
    "## Nombre d'époque d'apprentissage\n",
    "N_EPOCHS = 30\n",
    "\n",
    "epoch_loss, epoch_acc, epoch_val_loss, epoch_val_acc = [], [], [], []\n",
    "start_time = time.time()\n",
    "\n",
    "for e in range(N_EPOCHS):\n",
    "  \n",
    "    print(\"EPOCH:\",e)\n",
    "\n",
    "    ### boucle d'entraineement\n",
    "    running_loss = 0\n",
    "    running_accuracy = 0\n",
    "    running_acc=0\n",
    "    start_epoch_time=time.time()\n",
    "\n",
    "    ## Le réseau est mis en mode \"entrainement\"\n",
    "    net.train()\n",
    "\n",
    "    for i, batch in enumerate(tqdm_notebook(train_loader)):\n",
    "    \n",
    "        # Obtenir batch du dataloader\n",
    "        x = batch[0]\n",
    "        labels = batch[1]\n",
    "\n",
    "        # déplacer le batch sur le GPU\n",
    "        x = x.cuda()\n",
    "        labels = labels.cuda()\n",
    "\n",
    "        # Calcul de l'output et les loss\n",
    "        output = net(x)\n",
    "        y = output\n",
    "        \n",
    "        loss = criterion(y, torch.max(labels, 1)[1])\n",
    "\n",
    "        # Réinitialisation du gradients\n",
    "        optimizer.zero_grad()\n",
    "\n",
    "        # Calculs du gradients\n",
    "        loss.backward()\n",
    "\n",
    "        # Appliquecation d'une étape d'optimisation de l'algorithme de descente pour mettre à jour les poids\n",
    "        optimizer.step()\n",
    "\n",
    "        with torch.no_grad():\n",
    "            running_loss += loss.item()            \n",
    "            running_accuracy += (y.max(1)[1] == torch.max(labels, 1)[1]).sum().item()\n",
    "\n",
    "    print(\"Training accuracy:\", running_accuracy/float(len(train)),\n",
    "        \"Training loss:\", running_loss/float(len(train)))\n",
    "\n",
    "    epoch_loss.append(running_loss/len(train))\n",
    "    epoch_acc.append(running_accuracy/len(train))\n",
    "\n",
    "    ### Boucle de valisation\n",
    "    ## Le réseau est mis en mode validation\n",
    "    net.eval()\n",
    "\n",
    "    running_val_loss = 0\n",
    "    running_val_accuracy = 0\n",
    "\n",
    "    for i, batch in enumerate(tqdm_notebook(test_loader)):\n",
    "    \n",
    "        with torch.no_grad():\n",
    "            \n",
    "            x = batch[0]\n",
    "            labels = batch[1]\n",
    "            \n",
    "            x = x.cuda()\n",
    "            labels = labels.cuda()\n",
    "            \n",
    "            output = net(x)\n",
    "            y = output\n",
    "\n",
    "            loss = criterion(y, torch.max(labels, 1)[1])\n",
    "\n",
    "            running_val_loss += loss.item()\n",
    "            running_val_accuracy += (y.max(1)[1] == torch.max(labels, 1)[1]).sum().item()\n",
    "    \n",
    "    print(\"Validation accuracy:\", running_val_accuracy/float(len(test)),\n",
    "        \"Validation loss:\", running_val_loss/float(len(test)))\n",
    "\n",
    "    epoch_val_loss.append(running_val_loss/len(test))\n",
    "    epoch_val_acc.append(running_val_accuracy/len(test))\n",
    "    \n",
    "    inter = time.time() - start_epoch_time  \n",
    "    print ('Temps de l Epoch ',e,' en secondes:', inter )\n",
    "    \n",
    "\n",
    "interval = time.time() - start_time  \n",
    "print ('Temps total en secondes:', interval )\n",
    "\n"
   ]
  },
  {
   "cell_type": "code",
   "execution_count": 63,
   "metadata": {
    "scrolled": true
   },
   "outputs": [
    {
     "data": {
      "image/png": "[encoded data removed]",
      "text/plain": [
       "<Figure size 432x288 with 1 Axes>"
      ]
     },
     "metadata": {
      "needs_background": "light"
     },
     "output_type": "display_data"
    }
   ],
   "source": [
    "plt.plot(np.arange(0,N_EPOCHS),epoch_acc)\n",
    "plt.plot(np.arange(0,N_EPOCHS),epoch_val_acc)\n",
    "plt.title(\"Evolution de l'accuracy\")\n",
    "plt.xlabel(\"Epochs\")\n",
    "plt.ylabel(\"Acc\")\n",
    "plt.show()"
   ]
  },
  {
   "cell_type": "code",
   "execution_count": 64,
   "metadata": {},
   "outputs": [
    {
     "data": {
      "image/png": "[encoded data removed]",
      "text/plain": [
       "<Figure size 432x288 with 1 Axes>"
      ]
     },
     "metadata": {
      "needs_background": "light"
     },
     "output_type": "display_data"
    }
   ],
   "source": [
    "plt.plot(np.arange(0,N_EPOCHS),epoch_loss)\n",
    "plt.plot(np.arange(0,N_EPOCHS),epoch_val_loss)\n",
    "plt.title(\"Evolution du loss\")\n",
    "plt.xlabel(\"Epochs\")\n",
    "plt.ylabel(\"Loss\")\n",
    "plt.show()"
   ]
  },
  {
   "cell_type": "markdown",
   "metadata": {
    "scrolled": true
   },
   "source": [
    "# Keras"
   ]
  },
  {
   "cell_type": "code",
   "execution_count": 65,
   "metadata": {},
   "outputs": [],
   "source": [
    "X_train = dataX #features\n",
    "Y_train = dataY #labels"
   ]
  },
  {
   "cell_type": "code",
   "execution_count": 66,
   "metadata": {},
   "outputs": [
    {
     "data": {
      "text/plain": [
       "(29339, 3083)"
      ]
     },
     "execution_count": 66,
     "metadata": {},
     "output_type": "execute_result"
    }
   ],
   "source": [
    "np.shape(X_train)"
   ]
  },
  {
   "cell_type": "code",
   "execution_count": 67,
   "metadata": {},
   "outputs": [],
   "source": [
    "x_train,x_test,y_train,y_test = train_test_split(X_train,Y_train,test_size=0.2)\n",
    "#y_train = to_class(y_train)\n",
    "#y_test = to_class(y_test)"
   ]
  },
  {
   "cell_type": "code",
   "execution_count": 68,
   "metadata": {},
   "outputs": [],
   "source": [
    "adam = Adam(learning_rate=0.001, beta_1=0.9, beta_2=0.999, epsilon=1e-07, amsgrad=False)"
   ]
  },
  {
   "cell_type": "code",
   "execution_count": 69,
   "metadata": {},
   "outputs": [],
   "source": [
    "model = Sequential()\n",
    "model.add(Dense(2400, activation='relu', input_dim=3083))\n",
    "model.add(Dropout(0.3))\n",
    "model.add(Dense(1200, activation='relu'))\n",
    "model.add(Dropout(0.3))\n",
    "model.add(Dense(600, activation='relu'))\n",
    "model.add(Dropout(0.3))\n",
    "model.add(Dense(11, activation='softmax'))"
   ]
  },
  {
   "cell_type": "code",
   "execution_count": 70,
   "metadata": {},
   "outputs": [],
   "source": [
    "model.compile(loss='categorical_crossentropy', optimizer=adam, metrics=['accuracy'])"
   ]
  },
  {
   "cell_type": "code",
   "execution_count": 71,
   "metadata": {
    "scrolled": true
   },
   "outputs": [
    {
     "name": "stdout",
     "output_type": "stream",
     "text": [
      "Train on 23471 samples, validate on 5868 samples\n",
      "Epoch 1/100\n",
      "23471/23471 [==============================] - 4s 187us/sample - loss: 3.3965 - acc: 0.1205 - val_loss: 2.3322 - val_acc: 0.1564\n",
      "Epoch 2/100\n",
      "23471/23471 [==============================] - 4s 181us/sample - loss: 2.3392 - acc: 0.1472 - val_loss: 2.2990 - val_acc: 0.1616\n",
      "Epoch 3/100\n",
      "23471/23471 [==============================] - 4s 180us/sample - loss: 2.3115 - acc: 0.1553 - val_loss: 2.2794 - val_acc: 0.1684\n",
      "Epoch 4/100\n",
      "23471/23471 [==============================] - 4s 179us/sample - loss: 2.2975 - acc: 0.1602 - val_loss: 2.2697 - val_acc: 0.1692\n",
      "Epoch 5/100\n",
      "23471/23471 [==============================] - 4s 185us/sample - loss: 2.2784 - acc: 0.1638 - val_loss: 2.2491 - val_acc: 0.1837\n",
      "Epoch 6/100\n",
      "23471/23471 [==============================] - 4s 189us/sample - loss: 2.2609 - acc: 0.1738 - val_loss: 2.2268 - val_acc: 0.2030\n",
      "Epoch 7/100\n",
      "23471/23471 [==============================] - 5s 203us/sample - loss: 2.2457 - acc: 0.1818 - val_loss: 2.2134 - val_acc: 0.2054\n",
      "Epoch 8/100\n",
      "23471/23471 [==============================] - 5s 198us/sample - loss: 2.2318 - acc: 0.1904 - val_loss: 2.2010 - val_acc: 0.2071\n",
      "Epoch 9/100\n",
      "23471/23471 [==============================] - 5s 206us/sample - loss: 2.2191 - acc: 0.1958 - val_loss: 2.1917 - val_acc: 0.2074\n",
      "Epoch 10/100\n",
      "23471/23471 [==============================] - 5s 199us/sample - loss: 2.2038 - acc: 0.1995 - val_loss: 2.1899 - val_acc: 0.2117\n",
      "Epoch 11/100\n",
      "23471/23471 [==============================] - 5s 203us/sample - loss: 2.2080 - acc: 0.1950 - val_loss: 2.1763 - val_acc: 0.2209\n",
      "Epoch 12/100\n",
      "23471/23471 [==============================] - 5s 202us/sample - loss: 2.1933 - acc: 0.2023 - val_loss: 2.1794 - val_acc: 0.2127\n",
      "Epoch 13/100\n",
      "23471/23471 [==============================] - 5s 205us/sample - loss: 2.1915 - acc: 0.2001 - val_loss: 2.1724 - val_acc: 0.2214\n",
      "Epoch 14/100\n",
      "23471/23471 [==============================] - 5s 198us/sample - loss: 2.1878 - acc: 0.2038 - val_loss: 2.1599 - val_acc: 0.2203\n",
      "Epoch 15/100\n",
      "23471/23471 [==============================] - 5s 201us/sample - loss: 2.1765 - acc: 0.2092 - val_loss: 2.1662 - val_acc: 0.2190\n",
      "Epoch 16/100\n",
      "23471/23471 [==============================] - 5s 200us/sample - loss: 2.1752 - acc: 0.2085 - val_loss: 2.1609 - val_acc: 0.2251\n",
      "Epoch 17/100\n",
      "23471/23471 [==============================] - 5s 197us/sample - loss: 2.1701 - acc: 0.2090 - val_loss: 2.1703 - val_acc: 0.2224\n",
      "Epoch 18/100\n",
      "23471/23471 [==============================] - 5s 201us/sample - loss: 2.1706 - acc: 0.2119 - val_loss: 2.1536 - val_acc: 0.2265\n",
      "Epoch 19/100\n",
      "23471/23471 [==============================] - 5s 203us/sample - loss: 2.1686 - acc: 0.2124 - val_loss: 2.1549 - val_acc: 0.2203\n",
      "Epoch 20/100\n",
      "23471/23471 [==============================] - 5s 198us/sample - loss: 2.1631 - acc: 0.2132 - val_loss: 2.1526 - val_acc: 0.2207\n",
      "Epoch 21/100\n",
      "23471/23471 [==============================] - 5s 198us/sample - loss: 2.1596 - acc: 0.2132 - val_loss: 2.1538 - val_acc: 0.2188\n",
      "Epoch 22/100\n",
      "23471/23471 [==============================] - 5s 216us/sample - loss: 2.1583 - acc: 0.2135 - val_loss: 2.1492 - val_acc: 0.2234\n",
      "Epoch 23/100\n",
      "23471/23471 [==============================] - 5s 206us/sample - loss: 2.1547 - acc: 0.2160 - val_loss: 2.1464 - val_acc: 0.2214\n",
      "Epoch 24/100\n",
      "23471/23471 [==============================] - 5s 213us/sample - loss: 2.1563 - acc: 0.2150 - val_loss: 2.1575 - val_acc: 0.2157\n",
      "Epoch 25/100\n",
      "23471/23471 [==============================] - 5s 217us/sample - loss: 2.1557 - acc: 0.2161 - val_loss: 2.1450 - val_acc: 0.2272\n",
      "Epoch 26/100\n",
      "23471/23471 [==============================] - 5s 207us/sample - loss: 2.1506 - acc: 0.2132 - val_loss: 2.1384 - val_acc: 0.2246\n",
      "Epoch 27/100\n",
      "23471/23471 [==============================] - 5s 199us/sample - loss: 2.1491 - acc: 0.2175 - val_loss: 2.1445 - val_acc: 0.2267\n",
      "Epoch 28/100\n",
      "23471/23471 [==============================] - 5s 208us/sample - loss: 2.1468 - acc: 0.2175 - val_loss: 2.1529 - val_acc: 0.2224\n",
      "Epoch 29/100\n",
      "23471/23471 [==============================] - 5s 200us/sample - loss: 2.1446 - acc: 0.2184 - val_loss: 2.1485 - val_acc: 0.2234\n",
      "Epoch 30/100\n",
      "23471/23471 [==============================] - 5s 197us/sample - loss: 2.1413 - acc: 0.2229 - val_loss: 2.1430 - val_acc: 0.2309\n",
      "Epoch 31/100\n",
      "23471/23471 [==============================] - 5s 193us/sample - loss: 2.1479 - acc: 0.2177 - val_loss: 2.1400 - val_acc: 0.2297\n",
      "Epoch 32/100\n",
      "23471/23471 [==============================] - 5s 197us/sample - loss: 2.1423 - acc: 0.2195 - val_loss: 2.1433 - val_acc: 0.2256\n",
      "Epoch 33/100\n",
      "23471/23471 [==============================] - 5s 197us/sample - loss: 2.1416 - acc: 0.2217 - val_loss: 2.1469 - val_acc: 0.2226\n",
      "Epoch 34/100\n",
      "23471/23471 [==============================] - 5s 212us/sample - loss: 2.1407 - acc: 0.2207 - val_loss: 2.1343 - val_acc: 0.2313\n",
      "Epoch 35/100\n",
      "23471/23471 [==============================] - 5s 206us/sample - loss: 2.1386 - acc: 0.2227 - val_loss: 2.1525 - val_acc: 0.2255\n",
      "Epoch 36/100\n",
      "23471/23471 [==============================] - 5s 228us/sample - loss: 2.1404 - acc: 0.2232 - val_loss: 2.1333 - val_acc: 0.2340\n",
      "Epoch 37/100\n",
      "23471/23471 [==============================] - 5s 200us/sample - loss: 2.1389 - acc: 0.2218 - val_loss: 2.1553 - val_acc: 0.2217\n",
      "Epoch 38/100\n",
      "23471/23471 [==============================] - 5s 199us/sample - loss: 2.1361 - acc: 0.2222 - val_loss: 2.1495 - val_acc: 0.2260\n",
      "Epoch 39/100\n",
      "23471/23471 [==============================] - 5s 199us/sample - loss: 2.1387 - acc: 0.2201 - val_loss: 2.1436 - val_acc: 0.2210\n",
      "Epoch 40/100\n",
      "23471/23471 [==============================] - 5s 203us/sample - loss: 2.1384 - acc: 0.2223 - val_loss: 2.1425 - val_acc: 0.2278\n",
      "Epoch 41/100\n",
      "23471/23471 [==============================] - 5s 198us/sample - loss: 2.1361 - acc: 0.2211 - val_loss: 2.1453 - val_acc: 0.2290\n",
      "Epoch 42/100\n",
      "23471/23471 [==============================] - 5s 196us/sample - loss: 2.1352 - acc: 0.2235 - val_loss: 2.1390 - val_acc: 0.2292\n",
      "Epoch 43/100\n",
      "23471/23471 [==============================] - 5s 197us/sample - loss: 2.1380 - acc: 0.2205 - val_loss: 2.1496 - val_acc: 0.2261\n",
      "Epoch 44/100\n",
      "23471/23471 [==============================] - 5s 204us/sample - loss: 2.1342 - acc: 0.2197 - val_loss: 2.1472 - val_acc: 0.2285\n",
      "Epoch 45/100\n",
      "23471/23471 [==============================] - 5s 199us/sample - loss: 2.1375 - acc: 0.2219 - val_loss: 2.1396 - val_acc: 0.2260\n",
      "Epoch 46/100\n",
      "23471/23471 [==============================] - 5s 198us/sample - loss: 2.1337 - acc: 0.2227 - val_loss: 2.1435 - val_acc: 0.2260\n",
      "Epoch 47/100\n",
      "23471/23471 [==============================] - 5s 199us/sample - loss: 2.1317 - acc: 0.2239 - val_loss: 2.1649 - val_acc: 0.2130\n",
      "Epoch 48/100\n",
      "23471/23471 [==============================] - 5s 194us/sample - loss: 2.1388 - acc: 0.2212 - val_loss: 2.1349 - val_acc: 0.2256\n",
      "Epoch 49/100\n",
      "23471/23471 [==============================] - 5s 200us/sample - loss: 2.1339 - acc: 0.2204 - val_loss: 2.1425 - val_acc: 0.2243\n",
      "Epoch 50/100\n",
      "23471/23471 [==============================] - 5s 204us/sample - loss: 2.1333 - acc: 0.2236 - val_loss: 2.1452 - val_acc: 0.2258\n",
      "Epoch 51/100\n",
      "23471/23471 [==============================] - 5s 199us/sample - loss: 2.1315 - acc: 0.2253 - val_loss: 2.1526 - val_acc: 0.2238\n",
      "Epoch 52/100\n",
      "23471/23471 [==============================] - 5s 199us/sample - loss: 2.1357 - acc: 0.2217 - val_loss: 2.1447 - val_acc: 0.2278\n",
      "Epoch 53/100\n",
      "23471/23471 [==============================] - 5s 198us/sample - loss: 2.1379 - acc: 0.2241 - val_loss: 2.1435 - val_acc: 0.2222\n",
      "Epoch 54/100\n",
      "23471/23471 [==============================] - 5s 194us/sample - loss: 2.1330 - acc: 0.2232 - val_loss: 2.1502 - val_acc: 0.2234\n",
      "Epoch 55/100\n",
      "23471/23471 [==============================] - 5s 194us/sample - loss: 2.1328 - acc: 0.2230 - val_loss: 2.1357 - val_acc: 0.2246\n",
      "Epoch 56/100\n",
      "23471/23471 [==============================] - 5s 204us/sample - loss: 2.1304 - acc: 0.2250 - val_loss: 2.1456 - val_acc: 0.2246\n",
      "Epoch 57/100\n",
      "23471/23471 [==============================] - 5s 195us/sample - loss: 2.1285 - acc: 0.2234 - val_loss: 2.1434 - val_acc: 0.2277\n",
      "Epoch 58/100\n"
     ]
    },
    {
     "name": "stdout",
     "output_type": "stream",
     "text": [
      "23471/23471 [==============================] - 5s 200us/sample - loss: 2.1322 - acc: 0.2240 - val_loss: 2.1518 - val_acc: 0.2212\n",
      "Epoch 59/100\n",
      "23471/23471 [==============================] - 5s 198us/sample - loss: 2.1312 - acc: 0.2242 - val_loss: 2.1356 - val_acc: 0.2324\n",
      "Epoch 60/100\n",
      "23471/23471 [==============================] - 5s 198us/sample - loss: 2.1275 - acc: 0.2248 - val_loss: 2.1335 - val_acc: 0.2289\n",
      "Epoch 61/100\n",
      "23471/23471 [==============================] - 5s 197us/sample - loss: 2.1291 - acc: 0.2241 - val_loss: 2.1463 - val_acc: 0.2214\n",
      "Epoch 62/100\n",
      "23471/23471 [==============================] - 5s 214us/sample - loss: 2.1295 - acc: 0.2236 - val_loss: 2.1359 - val_acc: 0.2299\n",
      "Epoch 63/100\n",
      "23471/23471 [==============================] - 5s 221us/sample - loss: 2.1254 - acc: 0.2232 - val_loss: 2.1371 - val_acc: 0.2268\n",
      "Epoch 64/100\n",
      "23471/23471 [==============================] - 5s 205us/sample - loss: 2.1267 - acc: 0.2259 - val_loss: 2.1469 - val_acc: 0.2255\n",
      "Epoch 65/100\n",
      "23471/23471 [==============================] - 5s 201us/sample - loss: 2.1300 - acc: 0.2242 - val_loss: 2.1368 - val_acc: 0.2280\n",
      "Epoch 66/100\n",
      "23471/23471 [==============================] - 5s 207us/sample - loss: 2.1243 - acc: 0.2286 - val_loss: 2.1347 - val_acc: 0.2289\n",
      "Epoch 67/100\n",
      "23471/23471 [==============================] - 5s 198us/sample - loss: 2.1248 - acc: 0.2239 - val_loss: 2.1329 - val_acc: 0.2265\n",
      "Epoch 68/100\n",
      "23471/23471 [==============================] - 5s 202us/sample - loss: 2.1264 - acc: 0.2249 - val_loss: 2.1436 - val_acc: 0.2222\n",
      "Epoch 69/100\n",
      "23471/23471 [==============================] - 5s 204us/sample - loss: 2.1251 - acc: 0.2241 - val_loss: 2.1287 - val_acc: 0.2267\n",
      "Epoch 70/100\n",
      "23471/23471 [==============================] - 5s 199us/sample - loss: 2.1295 - acc: 0.2212 - val_loss: 2.1553 - val_acc: 0.2181\n",
      "Epoch 71/100\n",
      "23471/23471 [==============================] - 5s 199us/sample - loss: 2.1400 - acc: 0.2194 - val_loss: 2.1484 - val_acc: 0.2190\n",
      "Epoch 72/100\n",
      "23471/23471 [==============================] - 5s 210us/sample - loss: 2.1334 - acc: 0.2224 - val_loss: 2.1608 - val_acc: 0.2175\n",
      "Epoch 73/100\n",
      "23471/23471 [==============================] - 5s 206us/sample - loss: 2.1272 - acc: 0.2238 - val_loss: 2.1468 - val_acc: 0.2185\n",
      "Epoch 74/100\n",
      "23471/23471 [==============================] - 5s 205us/sample - loss: 2.1260 - acc: 0.2260 - val_loss: 2.1417 - val_acc: 0.2284\n",
      "Epoch 75/100\n",
      "23471/23471 [==============================] - 5s 202us/sample - loss: 2.1259 - acc: 0.2224 - val_loss: 2.1435 - val_acc: 0.2251\n",
      "Epoch 76/100\n",
      "23471/23471 [==============================] - 5s 206us/sample - loss: 2.1258 - acc: 0.2274 - val_loss: 2.1477 - val_acc: 0.2290\n",
      "Epoch 77/100\n",
      "23471/23471 [==============================] - 5s 195us/sample - loss: 2.1220 - acc: 0.2247 - val_loss: 2.1421 - val_acc: 0.2244\n",
      "Epoch 78/100\n",
      "23471/23471 [==============================] - 4s 191us/sample - loss: 2.1246 - acc: 0.2238 - val_loss: 2.1415 - val_acc: 0.2275\n",
      "Epoch 79/100\n",
      "23471/23471 [==============================] - 5s 222us/sample - loss: 2.1249 - acc: 0.2235 - val_loss: 2.1415 - val_acc: 0.2238\n",
      "Epoch 80/100\n",
      "23471/23471 [==============================] - 5s 210us/sample - loss: 2.1229 - acc: 0.2244 - val_loss: 2.1454 - val_acc: 0.2185\n",
      "Epoch 81/100\n",
      "23471/23471 [==============================] - 5s 220us/sample - loss: 2.1319 - acc: 0.2230 - val_loss: 2.1511 - val_acc: 0.2273\n",
      "Epoch 82/100\n",
      "23471/23471 [==============================] - 5s 200us/sample - loss: 2.1286 - acc: 0.2233 - val_loss: 2.1399 - val_acc: 0.2289\n",
      "Epoch 83/100\n",
      "23471/23471 [==============================] - 5s 221us/sample - loss: 2.1256 - acc: 0.2262 - val_loss: 2.1354 - val_acc: 0.2284\n",
      "Epoch 84/100\n",
      "23471/23471 [==============================] - 5s 198us/sample - loss: 2.1220 - acc: 0.2271 - val_loss: 2.1372 - val_acc: 0.2248\n",
      "Epoch 85/100\n",
      "23471/23471 [==============================] - 5s 200us/sample - loss: 2.1188 - acc: 0.2274 - val_loss: 2.1407 - val_acc: 0.2261\n",
      "Epoch 86/100\n",
      "23471/23471 [==============================] - 5s 200us/sample - loss: 2.1269 - acc: 0.2250 - val_loss: 2.1353 - val_acc: 0.2255\n",
      "Epoch 87/100\n",
      "23471/23471 [==============================] - 5s 199us/sample - loss: 2.1199 - acc: 0.2285 - val_loss: 2.1431 - val_acc: 0.2222\n",
      "Epoch 88/100\n",
      "23471/23471 [==============================] - 5s 199us/sample - loss: 2.1201 - acc: 0.2280 - val_loss: 2.1423 - val_acc: 0.2261\n",
      "Epoch 89/100\n",
      "23471/23471 [==============================] - 5s 202us/sample - loss: 2.1219 - acc: 0.2268 - val_loss: 2.1427 - val_acc: 0.2248\n",
      "Epoch 90/100\n",
      "23471/23471 [==============================] - 5s 205us/sample - loss: 2.1247 - acc: 0.2263 - val_loss: 2.1445 - val_acc: 0.2246\n",
      "Epoch 91/100\n",
      "23471/23471 [==============================] - 5s 200us/sample - loss: 2.1263 - acc: 0.2245 - val_loss: 2.1557 - val_acc: 0.2108\n",
      "Epoch 92/100\n",
      "23471/23471 [==============================] - 5s 199us/sample - loss: 2.1223 - acc: 0.2261 - val_loss: 2.1542 - val_acc: 0.2178\n",
      "Epoch 93/100\n",
      "23471/23471 [==============================] - 5s 204us/sample - loss: 2.1228 - acc: 0.2250 - val_loss: 2.1428 - val_acc: 0.2243\n",
      "Epoch 94/100\n",
      "23471/23471 [==============================] - 5s 197us/sample - loss: 2.1222 - acc: 0.2270 - val_loss: 2.1455 - val_acc: 0.2215\n",
      "Epoch 95/100\n",
      "23471/23471 [==============================] - 5s 201us/sample - loss: 2.1260 - acc: 0.2264 - val_loss: 2.1516 - val_acc: 0.2232\n",
      "Epoch 96/100\n",
      "23471/23471 [==============================] - 5s 206us/sample - loss: 2.1248 - acc: 0.2259 - val_loss: 2.1389 - val_acc: 0.2246\n",
      "Epoch 97/100\n",
      "23471/23471 [==============================] - 5s 200us/sample - loss: 2.1189 - acc: 0.2274 - val_loss: 2.1322 - val_acc: 0.2307\n",
      "Epoch 98/100\n",
      "23471/23471 [==============================] - 5s 201us/sample - loss: 2.1211 - acc: 0.2260 - val_loss: 2.1399 - val_acc: 0.2265\n",
      "Epoch 99/100\n",
      "23471/23471 [==============================] - 5s 200us/sample - loss: 2.1172 - acc: 0.2273 - val_loss: 2.1407 - val_acc: 0.2176\n",
      "Epoch 100/100\n",
      "23471/23471 [==============================] - 5s 202us/sample - loss: 2.1256 - acc: 0.2268 - val_loss: 2.1499 - val_acc: 0.2186\n"
     ]
    },
    {
     "data": {
      "text/plain": [
       "['loss', 'acc']"
      ]
     },
     "execution_count": 71,
     "metadata": {},
     "output_type": "execute_result"
    }
   ],
   "source": [
    "history = model.fit(x_train, y_train, epochs=100, batch_size=1000, validation_data=(x_test,y_test), shuffle=True)\n",
    "model.test_on_batch(x_test, y_test)\n",
    "model.metrics_names"
   ]
  },
  {
   "cell_type": "code",
   "execution_count": 72,
   "metadata": {},
   "outputs": [
    {
     "data": {
      "image/png": "[encoded data removed]",
      "text/plain": [
       "<Figure size 432x288 with 1 Axes>"
      ]
     },
     "metadata": {
      "needs_background": "light"
     },
     "output_type": "display_data"
    }
   ],
   "source": [
    "#  \"Accuracy\"\n",
    "plt.plot(history.history['acc'])\n",
    "plt.plot(history.history['val_acc'])\n",
    "plt.title('model accuracy')\n",
    "plt.ylabel('accuracy')\n",
    "plt.xlabel('epoch')\n",
    "plt.legend(['train', 'validation'], loc='upper left')\n",
    "plt.show()"
   ]
  },
  {
   "cell_type": "code",
   "execution_count": 73,
   "metadata": {},
   "outputs": [
    {
     "data": {
      "image/png": "[encoded data removed]",
      "text/plain": [
       "<Figure size 432x288 with 1 Axes>"
      ]
     },
     "metadata": {
      "needs_background": "light"
     },
     "output_type": "display_data"
    }
   ],
   "source": [
    "plt.plot(history.history['loss']) \n",
    "plt.plot(history.history['val_loss']) \n",
    "plt.title('Model loss') \n",
    "plt.ylabel('Loss') \n",
    "plt.xlabel('Epoch') \n",
    "plt.legend(['Train', 'Test'], loc='upper left') \n",
    "plt.show()"
   ]
  },
  {
   "cell_type": "code",
   "execution_count": 74,
   "metadata": {},
   "outputs": [],
   "source": [
    "y_pred = model.predict(x_test)"
   ]
  },
  {
   "cell_type": "code",
   "execution_count": 75,
   "metadata": {},
   "outputs": [],
   "source": [
    "# Compute ROC curve and ROC area for each class\n",
    "n_classes = 11\n",
    "fpr = dict()\n",
    "tpr = dict()\n",
    "roc_auc = dict()\n",
    "for i in range(n_classes):\n",
    "    fpr[i], tpr[i], _ = roc_curve(y_test[:, i], y_pred[:, i])\n",
    "    roc_auc[i] = auc(fpr[i], tpr[i])"
   ]
  },
  {
   "cell_type": "code",
   "execution_count": 76,
   "metadata": {},
   "outputs": [],
   "source": [
    "# Compute micro-average ROC curve and ROC area\n",
    "fpr[\"micro\"], tpr[\"micro\"], _ = roc_curve(y_test.ravel(), y_pred.ravel())\n",
    "roc_auc[\"micro\"] = auc(fpr[\"micro\"], tpr[\"micro\"])"
   ]
  },
  {
   "cell_type": "code",
   "execution_count": 77,
   "metadata": {},
   "outputs": [
    {
     "data": {
      "image/png": "[encoded data removed]",
      "text/plain": [
       "<Figure size 432x288 with 1 Axes>"
      ]
     },
     "metadata": {
      "needs_background": "light"
     },
     "output_type": "display_data"
    }
   ],
   "source": [
    "plt.figure()\n",
    "lw = 2\n",
    "plt.plot(fpr[2], tpr[2], color='darkorange',\n",
    "         lw=lw, label='ROC curve (area = %0.2f)' % roc_auc[2])\n",
    "plt.plot([0, 1], [0, 1], color='navy', lw=lw, linestyle='--')\n",
    "plt.xlim([0.0, 1.0])\n",
    "plt.ylim([0.0, 1.05])\n",
    "plt.xlabel('False Positive Rate')\n",
    "plt.ylabel('True Positive Rate')\n",
    "plt.title('Receiver operating characteristic example')\n",
    "plt.legend(loc=\"lower right\")\n",
    "plt.show()\n"
   ]
  },
  {
   "cell_type": "code",
   "execution_count": 78,
   "metadata": {},
   "outputs": [],
   "source": [
    "#Unique interpolation\n",
    "all_fpr = np.unique(np.concatenate([fpr[i] for i in range(n_classes)]))"
   ]
  },
  {
   "cell_type": "code",
   "execution_count": 79,
   "metadata": {},
   "outputs": [
    {
     "data": {
      "image/png": "[encoded data removed]",
      "text/plain": [
       "<Figure size 720x720 with 1 Axes>"
      ]
     },
     "metadata": {
      "needs_background": "light"
     },
     "output_type": "display_data"
    }
   ],
   "source": [
    "# Then interpolate all ROC curves at this points\n",
    "mean_tpr = np.zeros_like(all_fpr)\n",
    "for i in range(n_classes):\n",
    "    mean_tpr += np.interp(all_fpr, fpr[i], tpr[i])\n",
    "\n",
    "# Finally average it and compute AUC\n",
    "mean_tpr /= n_classes\n",
    "\n",
    "fpr[\"macro\"] = all_fpr\n",
    "tpr[\"macro\"] = mean_tpr\n",
    "roc_auc[\"macro\"] = auc(fpr[\"macro\"], tpr[\"macro\"])\n",
    "\n",
    "# Plot all ROC curves\n",
    "plt.figure(figsize=(10, 10))\n",
    "plt.plot(fpr[\"micro\"], tpr[\"micro\"],\n",
    "         label='micro-average ROC curve (area = {0:0.2f})'\n",
    "               ''.format(roc_auc[\"micro\"]),\n",
    "         color='deeppink', linestyle=':', linewidth=4)\n",
    "\n",
    "plt.plot(fpr[\"macro\"], tpr[\"macro\"],\n",
    "         label='macro-average ROC curve (area = {0:0.2f})'\n",
    "               ''.format(roc_auc[\"macro\"]),\n",
    "         color='navy', linestyle=':', linewidth=4)\n",
    "\n",
    "colors = cycle(['aqua', 'darkorange', 'cornflowerblue', 'red', 'green', 'purple', 'blue', 'yellow', 'black', 'pink', 'brown'])\n",
    "for i, color in zip(range(n_classes), colors):\n",
    "    plt.plot(fpr[i], tpr[i], color=color, lw=lw,\n",
    "             label='ROC curve of class {0} (area = {1:0.2f})'\n",
    "             ''.format(i, roc_auc[i]))\n",
    "\n",
    "plt.plot([0, 1], [0, 1], 'k--', lw=lw)\n",
    "plt.xlim([0.0, 1])\n",
    "plt.ylim([0.0, 1.05])\n",
    "plt.xlabel('False Positive Rate')\n",
    "plt.ylabel('True Positive Rate')\n",
    "plt.title('Some extension of Receiver operating characteristic to multi-class')\n",
    "plt.legend(loc=\"lower right\")\n",
    "plt.show()    "
   ]
  }
 ],
 "metadata": {
  "kernelspec": {
   "display_name": "Python 3",
   "language": "python",
   "name": "python3"
  },
  "language_info": {
   "codemirror_mode": {
    "name": "ipython",
    "version": 3
   },
   "file_extension": ".py",
   "mimetype": "text/x-python",
   "name": "python",
   "nbconvert_exporter": "python",
   "pygments_lexer": "ipython3",
   "version": "3.7.6"
  }
 },
 "nbformat": 4,
 "nbformat_minor": 4
}
