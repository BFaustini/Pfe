{
 "cells": [
  {
   "cell_type": "markdown",
   "metadata": {},
   "source": [
    "# Préparation des donnés"
   ]
  },
  {
   "cell_type": "markdown",
   "metadata": {},
   "source": [
    "Faire un tableau de best prediction de tous les descritpteurs par rapport a celle bien predite par le random"
   ]
  },
  {
   "cell_type": "code",
   "execution_count": 1,
   "metadata": {},
   "outputs": [
    {
     "name": "stderr",
     "output_type": "stream",
     "text": [
      "Using TensorFlow backend.\n"
     ]
    }
   ],
   "source": [
    "# Import numerical libraries.  \n",
    "import numpy as np\n",
    "import matplotlib.pyplot as plt\n",
    "from sklearn.model_selection import train_test_split\n",
    "import seaborn as sns\n",
    "from sklearn.preprocessing import StandardScaler, OneHotEncoder, LabelEncoder, MultiLabelBinarizer\n",
    "from sklearn.metrics import accuracy_score, roc_curve, auc, roc_auc_score\n",
    "\n",
    "#Librairies\n",
    "import time\n",
    "import torch\n",
    "import random\n",
    "\n",
    "#Raccourcis utilisé\n",
    "from tqdm import tqdm_notebook\n",
    "import torch.nn as nn\n",
    "import torch.utils.data as data_utils\n",
    "import pandas as pd\n",
    "\n",
    "\n",
    "import keras\n",
    "from tensorflow.keras.models import Sequential\n",
    "from tensorflow.keras.layers import Dense, Dropout, Activation\n",
    "from tensorflow.keras.layers import Embedding\n",
    "from tensorflow.keras.layers import Conv1D, GlobalAveragePooling1D, MaxPooling1D\n",
    "from tensorflow.keras.optimizers import SGD, RMSprop, Adam, Adadelta, Adamax, Nadam\n",
    "from sklearn.model_selection import train_test_split\n",
    "from math import exp\n",
    "from itertools import cycle"
   ]
  },
  {
   "cell_type": "code",
   "execution_count": 2,
   "metadata": {},
   "outputs": [],
   "source": [
    "dfX = pd.read_csv('Molecular Dataset Dream 1.csv',sep=';')\n",
    "dfY = pd.read_csv('Senteur Dataset Dream 1.csv',sep=';')"
   ]
  },
  {
   "cell_type": "code",
   "execution_count": 3,
   "metadata": {},
   "outputs": [
    {
     "data": {
      "text/html": [
       "<div>\n",
       "<style scoped>\n",
       "    .dataframe tbody tr th:only-of-type {\n",
       "        vertical-align: middle;\n",
       "    }\n",
       "\n",
       "    .dataframe tbody tr th {\n",
       "        vertical-align: top;\n",
       "    }\n",
       "\n",
       "    .dataframe thead th {\n",
       "        text-align: right;\n",
       "    }\n",
       "</style>\n",
       "<table border=\"1\" class=\"dataframe\">\n",
       "  <thead>\n",
       "    <tr style=\"text-align: right;\">\n",
       "      <th></th>\n",
       "      <th>Unnamed: 0</th>\n",
       "      <th>CID</th>\n",
       "      <th>complexity from pubmed</th>\n",
       "      <th>MW</th>\n",
       "      <th>AMW</th>\n",
       "      <th>Sv</th>\n",
       "      <th>Se</th>\n",
       "      <th>Sp</th>\n",
       "      <th>Si</th>\n",
       "      <th>Mv</th>\n",
       "      <th>...</th>\n",
       "      <th>ACID</th>\n",
       "      <th>WARM</th>\n",
       "      <th>MUSKY</th>\n",
       "      <th>SWEATY</th>\n",
       "      <th>AMMONIA/URINOUS</th>\n",
       "      <th>DECAYED</th>\n",
       "      <th>WOOD</th>\n",
       "      <th>GRASS</th>\n",
       "      <th>FLOWER</th>\n",
       "      <th>CHEMICAL</th>\n",
       "    </tr>\n",
       "  </thead>\n",
       "  <tbody>\n",
       "    <tr>\n",
       "      <th>0</th>\n",
       "      <td>0</td>\n",
       "      <td>126</td>\n",
       "      <td>4.532</td>\n",
       "      <td>4.961</td>\n",
       "      <td>2.011</td>\n",
       "      <td>2.155</td>\n",
       "      <td>2.482</td>\n",
       "      <td>2.168</td>\n",
       "      <td>2.554</td>\n",
       "      <td>0.873</td>\n",
       "      <td>...</td>\n",
       "      <td>0.0</td>\n",
       "      <td>0.0</td>\n",
       "      <td>0.0</td>\n",
       "      <td>3.0</td>\n",
       "      <td>0.0</td>\n",
       "      <td>0.0</td>\n",
       "      <td>0.0</td>\n",
       "      <td>0.0</td>\n",
       "      <td>0.0</td>\n",
       "      <td>0.0</td>\n",
       "    </tr>\n",
       "    <tr>\n",
       "      <th>1</th>\n",
       "      <td>1</td>\n",
       "      <td>126</td>\n",
       "      <td>4.532</td>\n",
       "      <td>4.961</td>\n",
       "      <td>2.011</td>\n",
       "      <td>2.155</td>\n",
       "      <td>2.482</td>\n",
       "      <td>2.168</td>\n",
       "      <td>2.554</td>\n",
       "      <td>0.873</td>\n",
       "      <td>...</td>\n",
       "      <td>0.0</td>\n",
       "      <td>0.0</td>\n",
       "      <td>0.0</td>\n",
       "      <td>0.0</td>\n",
       "      <td>0.0</td>\n",
       "      <td>0.0</td>\n",
       "      <td>0.0</td>\n",
       "      <td>0.0</td>\n",
       "      <td>0.0</td>\n",
       "      <td>0.0</td>\n",
       "    </tr>\n",
       "    <tr>\n",
       "      <th>2</th>\n",
       "      <td>2</td>\n",
       "      <td>126</td>\n",
       "      <td>4.532</td>\n",
       "      <td>4.961</td>\n",
       "      <td>2.011</td>\n",
       "      <td>2.155</td>\n",
       "      <td>2.482</td>\n",
       "      <td>2.168</td>\n",
       "      <td>2.554</td>\n",
       "      <td>0.873</td>\n",
       "      <td>...</td>\n",
       "      <td>0.0</td>\n",
       "      <td>0.0</td>\n",
       "      <td>0.0</td>\n",
       "      <td>0.0</td>\n",
       "      <td>0.0</td>\n",
       "      <td>0.0</td>\n",
       "      <td>0.0</td>\n",
       "      <td>0.0</td>\n",
       "      <td>0.0</td>\n",
       "      <td>1.0</td>\n",
       "    </tr>\n",
       "    <tr>\n",
       "      <th>3</th>\n",
       "      <td>3</td>\n",
       "      <td>126</td>\n",
       "      <td>4.532</td>\n",
       "      <td>4.961</td>\n",
       "      <td>2.011</td>\n",
       "      <td>2.155</td>\n",
       "      <td>2.482</td>\n",
       "      <td>2.168</td>\n",
       "      <td>2.554</td>\n",
       "      <td>0.873</td>\n",
       "      <td>...</td>\n",
       "      <td>0.0</td>\n",
       "      <td>0.0</td>\n",
       "      <td>0.0</td>\n",
       "      <td>0.0</td>\n",
       "      <td>0.0</td>\n",
       "      <td>0.0</td>\n",
       "      <td>0.0</td>\n",
       "      <td>0.0</td>\n",
       "      <td>0.0</td>\n",
       "      <td>1.0</td>\n",
       "    </tr>\n",
       "    <tr>\n",
       "      <th>4</th>\n",
       "      <td>4</td>\n",
       "      <td>126</td>\n",
       "      <td>4.532</td>\n",
       "      <td>4.961</td>\n",
       "      <td>2.011</td>\n",
       "      <td>2.155</td>\n",
       "      <td>2.482</td>\n",
       "      <td>2.168</td>\n",
       "      <td>2.554</td>\n",
       "      <td>0.873</td>\n",
       "      <td>...</td>\n",
       "      <td>0.0</td>\n",
       "      <td>7.0</td>\n",
       "      <td>0.0</td>\n",
       "      <td>0.0</td>\n",
       "      <td>0.0</td>\n",
       "      <td>0.0</td>\n",
       "      <td>0.0</td>\n",
       "      <td>0.0</td>\n",
       "      <td>0.0</td>\n",
       "      <td>0.0</td>\n",
       "    </tr>\n",
       "    <tr>\n",
       "      <th>...</th>\n",
       "      <td>...</td>\n",
       "      <td>...</td>\n",
       "      <td>...</td>\n",
       "      <td>...</td>\n",
       "      <td>...</td>\n",
       "      <td>...</td>\n",
       "      <td>...</td>\n",
       "      <td>...</td>\n",
       "      <td>...</td>\n",
       "      <td>...</td>\n",
       "      <td>...</td>\n",
       "      <td>...</td>\n",
       "      <td>...</td>\n",
       "      <td>...</td>\n",
       "      <td>...</td>\n",
       "      <td>...</td>\n",
       "      <td>...</td>\n",
       "      <td>...</td>\n",
       "      <td>...</td>\n",
       "      <td>...</td>\n",
       "      <td>...</td>\n",
       "    </tr>\n",
       "    <tr>\n",
       "      <th>29116</th>\n",
       "      <td>29334</td>\n",
       "      <td>16220109</td>\n",
       "      <td>5.867</td>\n",
       "      <td>5.670</td>\n",
       "      <td>1.804</td>\n",
       "      <td>2.579</td>\n",
       "      <td>3.128</td>\n",
       "      <td>2.657</td>\n",
       "      <td>3.275</td>\n",
       "      <td>0.821</td>\n",
       "      <td>...</td>\n",
       "      <td>0.0</td>\n",
       "      <td>0.0</td>\n",
       "      <td>0.0</td>\n",
       "      <td>0.0</td>\n",
       "      <td>0.0</td>\n",
       "      <td>0.0</td>\n",
       "      <td>10.0</td>\n",
       "      <td>0.0</td>\n",
       "      <td>0.0</td>\n",
       "      <td>0.0</td>\n",
       "    </tr>\n",
       "    <tr>\n",
       "      <th>29117</th>\n",
       "      <td>29335</td>\n",
       "      <td>16220109</td>\n",
       "      <td>5.867</td>\n",
       "      <td>5.670</td>\n",
       "      <td>1.804</td>\n",
       "      <td>2.579</td>\n",
       "      <td>3.128</td>\n",
       "      <td>2.657</td>\n",
       "      <td>3.275</td>\n",
       "      <td>0.821</td>\n",
       "      <td>...</td>\n",
       "      <td>0.0</td>\n",
       "      <td>0.0</td>\n",
       "      <td>0.0</td>\n",
       "      <td>0.0</td>\n",
       "      <td>0.0</td>\n",
       "      <td>0.0</td>\n",
       "      <td>0.0</td>\n",
       "      <td>10.0</td>\n",
       "      <td>0.0</td>\n",
       "      <td>0.0</td>\n",
       "    </tr>\n",
       "    <tr>\n",
       "      <th>29118</th>\n",
       "      <td>29336</td>\n",
       "      <td>16220109</td>\n",
       "      <td>5.867</td>\n",
       "      <td>5.670</td>\n",
       "      <td>1.804</td>\n",
       "      <td>2.579</td>\n",
       "      <td>3.128</td>\n",
       "      <td>2.657</td>\n",
       "      <td>3.275</td>\n",
       "      <td>0.821</td>\n",
       "      <td>...</td>\n",
       "      <td>0.0</td>\n",
       "      <td>0.0</td>\n",
       "      <td>0.0</td>\n",
       "      <td>0.0</td>\n",
       "      <td>0.0</td>\n",
       "      <td>0.0</td>\n",
       "      <td>0.0</td>\n",
       "      <td>0.0</td>\n",
       "      <td>0.0</td>\n",
       "      <td>0.0</td>\n",
       "    </tr>\n",
       "    <tr>\n",
       "      <th>29119</th>\n",
       "      <td>29337</td>\n",
       "      <td>16220109</td>\n",
       "      <td>5.867</td>\n",
       "      <td>5.670</td>\n",
       "      <td>1.804</td>\n",
       "      <td>2.579</td>\n",
       "      <td>3.128</td>\n",
       "      <td>2.657</td>\n",
       "      <td>3.275</td>\n",
       "      <td>0.821</td>\n",
       "      <td>...</td>\n",
       "      <td>4.0</td>\n",
       "      <td>0.0</td>\n",
       "      <td>4.0</td>\n",
       "      <td>0.0</td>\n",
       "      <td>0.0</td>\n",
       "      <td>0.0</td>\n",
       "      <td>0.0</td>\n",
       "      <td>0.0</td>\n",
       "      <td>0.0</td>\n",
       "      <td>6.0</td>\n",
       "    </tr>\n",
       "    <tr>\n",
       "      <th>29120</th>\n",
       "      <td>29338</td>\n",
       "      <td>16220109</td>\n",
       "      <td>5.867</td>\n",
       "      <td>5.670</td>\n",
       "      <td>1.804</td>\n",
       "      <td>2.579</td>\n",
       "      <td>3.128</td>\n",
       "      <td>2.657</td>\n",
       "      <td>3.275</td>\n",
       "      <td>0.821</td>\n",
       "      <td>...</td>\n",
       "      <td>5.0</td>\n",
       "      <td>4.0</td>\n",
       "      <td>0.0</td>\n",
       "      <td>0.0</td>\n",
       "      <td>0.0</td>\n",
       "      <td>0.0</td>\n",
       "      <td>0.0</td>\n",
       "      <td>0.0</td>\n",
       "      <td>0.0</td>\n",
       "      <td>6.0</td>\n",
       "    </tr>\n",
       "  </tbody>\n",
       "</table>\n",
       "<p>29121 rows × 3106 columns</p>\n",
       "</div>"
      ],
      "text/plain": [
       "       Unnamed: 0       CID  complexity from pubmed     MW    AMW     Sv  \\\n",
       "0               0       126                   4.532  4.961  2.011  2.155   \n",
       "1               1       126                   4.532  4.961  2.011  2.155   \n",
       "2               2       126                   4.532  4.961  2.011  2.155   \n",
       "3               3       126                   4.532  4.961  2.011  2.155   \n",
       "4               4       126                   4.532  4.961  2.011  2.155   \n",
       "...           ...       ...                     ...    ...    ...    ...   \n",
       "29116       29334  16220109                   5.867  5.670  1.804  2.579   \n",
       "29117       29335  16220109                   5.867  5.670  1.804  2.579   \n",
       "29118       29336  16220109                   5.867  5.670  1.804  2.579   \n",
       "29119       29337  16220109                   5.867  5.670  1.804  2.579   \n",
       "29120       29338  16220109                   5.867  5.670  1.804  2.579   \n",
       "\n",
       "          Se     Sp     Si     Mv  ...  ACID  WARM  MUSKY  SWEATY  \\\n",
       "0      2.482  2.168  2.554  0.873  ...   0.0   0.0    0.0     3.0   \n",
       "1      2.482  2.168  2.554  0.873  ...   0.0   0.0    0.0     0.0   \n",
       "2      2.482  2.168  2.554  0.873  ...   0.0   0.0    0.0     0.0   \n",
       "3      2.482  2.168  2.554  0.873  ...   0.0   0.0    0.0     0.0   \n",
       "4      2.482  2.168  2.554  0.873  ...   0.0   7.0    0.0     0.0   \n",
       "...      ...    ...    ...    ...  ...   ...   ...    ...     ...   \n",
       "29116  3.128  2.657  3.275  0.821  ...   0.0   0.0    0.0     0.0   \n",
       "29117  3.128  2.657  3.275  0.821  ...   0.0   0.0    0.0     0.0   \n",
       "29118  3.128  2.657  3.275  0.821  ...   0.0   0.0    0.0     0.0   \n",
       "29119  3.128  2.657  3.275  0.821  ...   4.0   0.0    4.0     0.0   \n",
       "29120  3.128  2.657  3.275  0.821  ...   5.0   4.0    0.0     0.0   \n",
       "\n",
       "       AMMONIA/URINOUS  DECAYED  WOOD  GRASS  FLOWER  CHEMICAL  \n",
       "0                  0.0      0.0   0.0    0.0     0.0       0.0  \n",
       "1                  0.0      0.0   0.0    0.0     0.0       0.0  \n",
       "2                  0.0      0.0   0.0    0.0     0.0       1.0  \n",
       "3                  0.0      0.0   0.0    0.0     0.0       1.0  \n",
       "4                  0.0      0.0   0.0    0.0     0.0       0.0  \n",
       "...                ...      ...   ...    ...     ...       ...  \n",
       "29116              0.0      0.0  10.0    0.0     0.0       0.0  \n",
       "29117              0.0      0.0   0.0   10.0     0.0       0.0  \n",
       "29118              0.0      0.0   0.0    0.0     0.0       0.0  \n",
       "29119              0.0      0.0   0.0    0.0     0.0       6.0  \n",
       "29120              0.0      0.0   0.0    0.0     0.0       6.0  \n",
       "\n",
       "[29121 rows x 3106 columns]"
      ]
     },
     "execution_count": 3,
     "metadata": {},
     "output_type": "execute_result"
    }
   ],
   "source": [
    "df = dfX.merge(dfY)\n",
    "df"
   ]
  },
  {
   "cell_type": "markdown",
   "metadata": {},
   "source": [
    "On remarque que la colonne 'Unnamed 0' qui sert à marger les 2 dataframe est complètement fausser. \n",
    "On se retrouve donc à prédire la classe 'INTENSITY/STRENGTH' avec les mauvais descripteurs."
   ]
  },
  {
   "cell_type": "code",
   "execution_count": 4,
   "metadata": {},
   "outputs": [],
   "source": [
    "list_labelY = ['subject','INTENSITY/STRENGTH']\n",
    "list_label = ['INTENSITY/STRENGTH', 'VALENCE/PLEASANTNESS', 'BAKERY', 'SWEET',\n",
    "       'FRUIT', 'FISH', 'GARLIC', 'SPICES', 'COLD', 'SOUR', 'BURNT', 'ACID',\n",
    "       'WARM', 'MUSKY', 'SWEATY', 'AMMONIA/URINOUS', 'DECAYED', 'WOOD',\n",
    "       'GRASS', 'FLOWER', 'CHEMICAL']"
   ]
  },
  {
   "cell_type": "code",
   "execution_count": 5,
   "metadata": {},
   "outputs": [],
   "source": [
    "dfY = df[list_labelY]\n",
    "dfX = df\n",
    "dfX = dfX.drop(list_label,axis=1)\n",
    "dfX = dfX.drop('Unnamed: 0',axis=1)\n",
    "dfX = dfX.drop('CID',axis=1)"
   ]
  },
  {
   "cell_type": "code",
   "execution_count": 6,
   "metadata": {},
   "outputs": [
    {
     "data": {
      "text/html": [
       "<div>\n",
       "<style scoped>\n",
       "    .dataframe tbody tr th:only-of-type {\n",
       "        vertical-align: middle;\n",
       "    }\n",
       "\n",
       "    .dataframe tbody tr th {\n",
       "        vertical-align: top;\n",
       "    }\n",
       "\n",
       "    .dataframe thead th {\n",
       "        text-align: right;\n",
       "    }\n",
       "</style>\n",
       "<table border=\"1\" class=\"dataframe\">\n",
       "  <thead>\n",
       "    <tr style=\"text-align: right;\">\n",
       "      <th></th>\n",
       "      <th>complexity from pubmed</th>\n",
       "      <th>MW</th>\n",
       "      <th>AMW</th>\n",
       "      <th>Sv</th>\n",
       "      <th>Se</th>\n",
       "      <th>Sp</th>\n",
       "      <th>Si</th>\n",
       "      <th>Mv</th>\n",
       "      <th>Me</th>\n",
       "      <th>Mp</th>\n",
       "      <th>...</th>\n",
       "      <th>Hypnotic-80</th>\n",
       "      <th>Hypnotic-50</th>\n",
       "      <th>Neoplastic-80</th>\n",
       "      <th>Neoplastic-50</th>\n",
       "      <th>Infective-80</th>\n",
       "      <th>Infective-50</th>\n",
       "      <th>Compound Identifier</th>\n",
       "      <th>Intensity</th>\n",
       "      <th>Dilution</th>\n",
       "      <th>subject</th>\n",
       "    </tr>\n",
       "  </thead>\n",
       "  <tbody>\n",
       "    <tr>\n",
       "      <th>0</th>\n",
       "      <td>4.532</td>\n",
       "      <td>4.961</td>\n",
       "      <td>2.011</td>\n",
       "      <td>2.155</td>\n",
       "      <td>2.482</td>\n",
       "      <td>2.168</td>\n",
       "      <td>2.554</td>\n",
       "      <td>0.873</td>\n",
       "      <td>1.006</td>\n",
       "      <td>0.879</td>\n",
       "      <td>...</td>\n",
       "      <td>0</td>\n",
       "      <td>0</td>\n",
       "      <td>0</td>\n",
       "      <td>0</td>\n",
       "      <td>0</td>\n",
       "      <td>0</td>\n",
       "      <td>126</td>\n",
       "      <td>0</td>\n",
       "      <td>1</td>\n",
       "      <td>1</td>\n",
       "    </tr>\n",
       "    <tr>\n",
       "      <th>1</th>\n",
       "      <td>4.532</td>\n",
       "      <td>4.961</td>\n",
       "      <td>2.011</td>\n",
       "      <td>2.155</td>\n",
       "      <td>2.482</td>\n",
       "      <td>2.168</td>\n",
       "      <td>2.554</td>\n",
       "      <td>0.873</td>\n",
       "      <td>1.006</td>\n",
       "      <td>0.879</td>\n",
       "      <td>...</td>\n",
       "      <td>0</td>\n",
       "      <td>0</td>\n",
       "      <td>0</td>\n",
       "      <td>0</td>\n",
       "      <td>0</td>\n",
       "      <td>0</td>\n",
       "      <td>126</td>\n",
       "      <td>1</td>\n",
       "      <td>0</td>\n",
       "      <td>1</td>\n",
       "    </tr>\n",
       "    <tr>\n",
       "      <th>2</th>\n",
       "      <td>4.532</td>\n",
       "      <td>4.961</td>\n",
       "      <td>2.011</td>\n",
       "      <td>2.155</td>\n",
       "      <td>2.482</td>\n",
       "      <td>2.168</td>\n",
       "      <td>2.554</td>\n",
       "      <td>0.873</td>\n",
       "      <td>1.006</td>\n",
       "      <td>0.879</td>\n",
       "      <td>...</td>\n",
       "      <td>0</td>\n",
       "      <td>0</td>\n",
       "      <td>0</td>\n",
       "      <td>0</td>\n",
       "      <td>0</td>\n",
       "      <td>0</td>\n",
       "      <td>126</td>\n",
       "      <td>0</td>\n",
       "      <td>1</td>\n",
       "      <td>2</td>\n",
       "    </tr>\n",
       "    <tr>\n",
       "      <th>3</th>\n",
       "      <td>4.532</td>\n",
       "      <td>4.961</td>\n",
       "      <td>2.011</td>\n",
       "      <td>2.155</td>\n",
       "      <td>2.482</td>\n",
       "      <td>2.168</td>\n",
       "      <td>2.554</td>\n",
       "      <td>0.873</td>\n",
       "      <td>1.006</td>\n",
       "      <td>0.879</td>\n",
       "      <td>...</td>\n",
       "      <td>0</td>\n",
       "      <td>0</td>\n",
       "      <td>0</td>\n",
       "      <td>0</td>\n",
       "      <td>0</td>\n",
       "      <td>0</td>\n",
       "      <td>126</td>\n",
       "      <td>1</td>\n",
       "      <td>0</td>\n",
       "      <td>2</td>\n",
       "    </tr>\n",
       "    <tr>\n",
       "      <th>4</th>\n",
       "      <td>4.532</td>\n",
       "      <td>4.961</td>\n",
       "      <td>2.011</td>\n",
       "      <td>2.155</td>\n",
       "      <td>2.482</td>\n",
       "      <td>2.168</td>\n",
       "      <td>2.554</td>\n",
       "      <td>0.873</td>\n",
       "      <td>1.006</td>\n",
       "      <td>0.879</td>\n",
       "      <td>...</td>\n",
       "      <td>0</td>\n",
       "      <td>0</td>\n",
       "      <td>0</td>\n",
       "      <td>0</td>\n",
       "      <td>0</td>\n",
       "      <td>0</td>\n",
       "      <td>126</td>\n",
       "      <td>0</td>\n",
       "      <td>1</td>\n",
       "      <td>3</td>\n",
       "    </tr>\n",
       "    <tr>\n",
       "      <th>...</th>\n",
       "      <td>...</td>\n",
       "      <td>...</td>\n",
       "      <td>...</td>\n",
       "      <td>...</td>\n",
       "      <td>...</td>\n",
       "      <td>...</td>\n",
       "      <td>...</td>\n",
       "      <td>...</td>\n",
       "      <td>...</td>\n",
       "      <td>...</td>\n",
       "      <td>...</td>\n",
       "      <td>...</td>\n",
       "      <td>...</td>\n",
       "      <td>...</td>\n",
       "      <td>...</td>\n",
       "      <td>...</td>\n",
       "      <td>...</td>\n",
       "      <td>...</td>\n",
       "      <td>...</td>\n",
       "      <td>...</td>\n",
       "      <td>...</td>\n",
       "    </tr>\n",
       "    <tr>\n",
       "      <th>29116</th>\n",
       "      <td>5.867</td>\n",
       "      <td>5.670</td>\n",
       "      <td>1.804</td>\n",
       "      <td>2.579</td>\n",
       "      <td>3.128</td>\n",
       "      <td>2.657</td>\n",
       "      <td>3.275</td>\n",
       "      <td>0.821</td>\n",
       "      <td>0.995</td>\n",
       "      <td>0.845</td>\n",
       "      <td>...</td>\n",
       "      <td>1</td>\n",
       "      <td>0</td>\n",
       "      <td>1</td>\n",
       "      <td>0</td>\n",
       "      <td>1</td>\n",
       "      <td>0</td>\n",
       "      <td>6114390</td>\n",
       "      <td>1</td>\n",
       "      <td>1</td>\n",
       "      <td>38</td>\n",
       "    </tr>\n",
       "    <tr>\n",
       "      <th>29117</th>\n",
       "      <td>5.867</td>\n",
       "      <td>5.670</td>\n",
       "      <td>1.804</td>\n",
       "      <td>2.579</td>\n",
       "      <td>3.128</td>\n",
       "      <td>2.657</td>\n",
       "      <td>3.275</td>\n",
       "      <td>0.821</td>\n",
       "      <td>0.995</td>\n",
       "      <td>0.845</td>\n",
       "      <td>...</td>\n",
       "      <td>1</td>\n",
       "      <td>0</td>\n",
       "      <td>1</td>\n",
       "      <td>0</td>\n",
       "      <td>1</td>\n",
       "      <td>0</td>\n",
       "      <td>6114390</td>\n",
       "      <td>0</td>\n",
       "      <td>2</td>\n",
       "      <td>39</td>\n",
       "    </tr>\n",
       "    <tr>\n",
       "      <th>29118</th>\n",
       "      <td>5.867</td>\n",
       "      <td>5.670</td>\n",
       "      <td>1.804</td>\n",
       "      <td>2.579</td>\n",
       "      <td>3.128</td>\n",
       "      <td>2.657</td>\n",
       "      <td>3.275</td>\n",
       "      <td>0.821</td>\n",
       "      <td>0.995</td>\n",
       "      <td>0.845</td>\n",
       "      <td>...</td>\n",
       "      <td>1</td>\n",
       "      <td>0</td>\n",
       "      <td>1</td>\n",
       "      <td>0</td>\n",
       "      <td>1</td>\n",
       "      <td>0</td>\n",
       "      <td>6114390</td>\n",
       "      <td>1</td>\n",
       "      <td>1</td>\n",
       "      <td>39</td>\n",
       "    </tr>\n",
       "    <tr>\n",
       "      <th>29119</th>\n",
       "      <td>5.867</td>\n",
       "      <td>5.670</td>\n",
       "      <td>1.804</td>\n",
       "      <td>2.579</td>\n",
       "      <td>3.128</td>\n",
       "      <td>2.657</td>\n",
       "      <td>3.275</td>\n",
       "      <td>0.821</td>\n",
       "      <td>0.995</td>\n",
       "      <td>0.845</td>\n",
       "      <td>...</td>\n",
       "      <td>1</td>\n",
       "      <td>0</td>\n",
       "      <td>1</td>\n",
       "      <td>0</td>\n",
       "      <td>1</td>\n",
       "      <td>0</td>\n",
       "      <td>6114390</td>\n",
       "      <td>0</td>\n",
       "      <td>2</td>\n",
       "      <td>40</td>\n",
       "    </tr>\n",
       "    <tr>\n",
       "      <th>29120</th>\n",
       "      <td>5.867</td>\n",
       "      <td>5.670</td>\n",
       "      <td>1.804</td>\n",
       "      <td>2.579</td>\n",
       "      <td>3.128</td>\n",
       "      <td>2.657</td>\n",
       "      <td>3.275</td>\n",
       "      <td>0.821</td>\n",
       "      <td>0.995</td>\n",
       "      <td>0.845</td>\n",
       "      <td>...</td>\n",
       "      <td>1</td>\n",
       "      <td>0</td>\n",
       "      <td>1</td>\n",
       "      <td>0</td>\n",
       "      <td>1</td>\n",
       "      <td>0</td>\n",
       "      <td>6114390</td>\n",
       "      <td>1</td>\n",
       "      <td>1</td>\n",
       "      <td>40</td>\n",
       "    </tr>\n",
       "  </tbody>\n",
       "</table>\n",
       "<p>29121 rows × 3083 columns</p>\n",
       "</div>"
      ],
      "text/plain": [
       "       complexity from pubmed     MW    AMW     Sv     Se     Sp     Si  \\\n",
       "0                       4.532  4.961  2.011  2.155  2.482  2.168  2.554   \n",
       "1                       4.532  4.961  2.011  2.155  2.482  2.168  2.554   \n",
       "2                       4.532  4.961  2.011  2.155  2.482  2.168  2.554   \n",
       "3                       4.532  4.961  2.011  2.155  2.482  2.168  2.554   \n",
       "4                       4.532  4.961  2.011  2.155  2.482  2.168  2.554   \n",
       "...                       ...    ...    ...    ...    ...    ...    ...   \n",
       "29116                   5.867  5.670  1.804  2.579  3.128  2.657  3.275   \n",
       "29117                   5.867  5.670  1.804  2.579  3.128  2.657  3.275   \n",
       "29118                   5.867  5.670  1.804  2.579  3.128  2.657  3.275   \n",
       "29119                   5.867  5.670  1.804  2.579  3.128  2.657  3.275   \n",
       "29120                   5.867  5.670  1.804  2.579  3.128  2.657  3.275   \n",
       "\n",
       "          Mv     Me     Mp  ...  Hypnotic-80  Hypnotic-50  Neoplastic-80  \\\n",
       "0      0.873  1.006  0.879  ...            0            0              0   \n",
       "1      0.873  1.006  0.879  ...            0            0              0   \n",
       "2      0.873  1.006  0.879  ...            0            0              0   \n",
       "3      0.873  1.006  0.879  ...            0            0              0   \n",
       "4      0.873  1.006  0.879  ...            0            0              0   \n",
       "...      ...    ...    ...  ...          ...          ...            ...   \n",
       "29116  0.821  0.995  0.845  ...            1            0              1   \n",
       "29117  0.821  0.995  0.845  ...            1            0              1   \n",
       "29118  0.821  0.995  0.845  ...            1            0              1   \n",
       "29119  0.821  0.995  0.845  ...            1            0              1   \n",
       "29120  0.821  0.995  0.845  ...            1            0              1   \n",
       "\n",
       "       Neoplastic-50  Infective-80  Infective-50  Compound Identifier  \\\n",
       "0                  0             0             0                  126   \n",
       "1                  0             0             0                  126   \n",
       "2                  0             0             0                  126   \n",
       "3                  0             0             0                  126   \n",
       "4                  0             0             0                  126   \n",
       "...              ...           ...           ...                  ...   \n",
       "29116              0             1             0              6114390   \n",
       "29117              0             1             0              6114390   \n",
       "29118              0             1             0              6114390   \n",
       "29119              0             1             0              6114390   \n",
       "29120              0             1             0              6114390   \n",
       "\n",
       "       Intensity  Dilution  subject  \n",
       "0              0         1        1  \n",
       "1              1         0        1  \n",
       "2              0         1        2  \n",
       "3              1         0        2  \n",
       "4              0         1        3  \n",
       "...          ...       ...      ...  \n",
       "29116          1         1       38  \n",
       "29117          0         2       39  \n",
       "29118          1         1       39  \n",
       "29119          0         2       40  \n",
       "29120          1         1       40  \n",
       "\n",
       "[29121 rows x 3083 columns]"
      ]
     },
     "execution_count": 6,
     "metadata": {},
     "output_type": "execute_result"
    }
   ],
   "source": [
    "dfX"
   ]
  },
  {
   "cell_type": "markdown",
   "metadata": {},
   "source": [
    "##  Réseau Neuronal Pytorch"
   ]
  },
  {
   "cell_type": "code",
   "execution_count": 7,
   "metadata": {},
   "outputs": [],
   "source": [
    "dfY=dfY.drop('subject',axis=1)"
   ]
  },
  {
   "cell_type": "code",
   "execution_count": 8,
   "metadata": {},
   "outputs": [],
   "source": [
    "def to_class(y_):\n",
    "    res = np.zeros((len(y_), 11), dtype='q')\n",
    "    for i in range(len(y_)):\n",
    "        res[i][int(y_[i])] = 1\n",
    "    return res"
   ]
  },
  {
   "cell_type": "code",
   "execution_count": 9,
   "metadata": {},
   "outputs": [],
   "source": [
    "dataX = np.float32(dfX.values)\n",
    "dataY = np.longlong(dfY.values)\n",
    "dataY = to_class(dataY)"
   ]
  },
  {
   "cell_type": "code",
   "execution_count": 10,
   "metadata": {},
   "outputs": [],
   "source": [
    "# Normalisation\n",
    "sc = StandardScaler()\n",
    "dataX = sc.fit_transform(dataX)"
   ]
  },
  {
   "cell_type": "code",
   "execution_count": 11,
   "metadata": {},
   "outputs": [],
   "source": [
    "DATA_Train, DATA_Test, TARGET_Train, TARGET_Test = train_test_split(dataX, dataY ,test_size=0.2)"
   ]
  },
  {
   "cell_type": "code",
   "execution_count": 12,
   "metadata": {},
   "outputs": [],
   "source": [
    "## PyTorch is used to working with batches.\n",
    "Batch=300\n",
    "\n",
    "X_train_tensor = torch.from_numpy(DATA_Train)\n",
    "Y_train_tensor = torch.from_numpy(TARGET_Train) \n",
    "\n",
    "X_test_tensor = torch.from_numpy(DATA_Test)\n",
    "Y_test_tensor = torch.from_numpy(TARGET_Test)\n",
    "\n",
    "train = data_utils.TensorDataset(X_train_tensor, Y_train_tensor)\n",
    "train_loader = data_utils.DataLoader(train, batch_size=Batch, shuffle=True)\n",
    "\n",
    "test = data_utils.TensorDataset(X_test_tensor, Y_test_tensor)\n",
    "test_loader = data_utils.DataLoader(test, batch_size=Batch, shuffle=True)"
   ]
  },
  {
   "cell_type": "code",
   "execution_count": 14,
   "metadata": {},
   "outputs": [
    {
     "data": {
      "text/plain": [
       "torch.Size([23296, 3083])"
      ]
     },
     "execution_count": 14,
     "metadata": {},
     "output_type": "execute_result"
    }
   ],
   "source": [
    "X_train_tensor.shape"
   ]
  },
  {
   "cell_type": "code",
   "execution_count": 13,
   "metadata": {},
   "outputs": [],
   "source": [
    "class MyNetwork(nn.Module):\n",
    "\n",
    "    def __init__(self):\n",
    "        super(MyNetwork, self).__init__()\n",
    "        \n",
    "        ## Activation layer\n",
    "        self.relu = nn.ReLU()\n",
    "        \n",
    "        self.fc1 = nn.Linear(in_features = 3083, out_features = 2400)\n",
    "        self.fc2 = nn.Linear(2400, 1200)  \n",
    "        self.fc3 = nn.Linear(1200, 600)\n",
    "        self.output = nn.Linear(600, 11)\n",
    "        self.softmax = nn.LogSoftmax(dim=1)\n",
    "        self.dr = nn.Dropout(0.3)\n",
    "        \n",
    "    def forward(self, x):\n",
    "\n",
    "    ## First full connection\n",
    "        x = self.fc1(x)\n",
    "        x = self.relu(x)\n",
    "        x = self.dr(x)\n",
    "    \n",
    "    ## Second full connection\n",
    "        x = self.fc2(x)\n",
    "        x = self.relu(x)\n",
    "        x = self.dr(x)\n",
    "        \n",
    "    ## Third full connection\n",
    "        x = self.fc3(x)\n",
    "        x = self.relu(x)\n",
    "        x = self.dr(x)\n",
    "        \n",
    "    ## Output layer\n",
    "        x = self.output(x)\n",
    "        y = self.softmax(x)\n",
    "        \n",
    "        return y"
   ]
  },
  {
   "cell_type": "code",
   "execution_count": 15,
   "metadata": {},
   "outputs": [],
   "source": [
    "## Create an instance of our network\n",
    "net = MyNetwork()"
   ]
  },
  {
   "cell_type": "code",
   "execution_count": 28,
   "metadata": {},
   "outputs": [],
   "source": [
    "net = MyNetwork()\n",
    "net = net.cuda()\n",
    "\n",
    "LEARNING_RATE = 0.003\n",
    "MOMENTUM = 0.9\n",
    "\n",
    "criterion = nn.NLLLoss()\n",
    "#criterion = nn.CrossEntropyLoss\n",
    "\n",
    "# Méthode stochastique de descente du grandient \n",
    "optimizer = torch.optim.SGD(net.parameters(), lr=LEARNING_RATE, momentum=MOMENTUM)"
   ]
  },
  {
   "cell_type": "code",
   "execution_count": 29,
   "metadata": {
    "scrolled": true
   },
   "outputs": [
    {
     "name": "stdout",
     "output_type": "stream",
     "text": [
      "EPOCH: 0\n"
     ]
    },
    {
     "name": "stderr",
     "output_type": "stream",
     "text": [
      "C:\\Users\\benja\\anaconda3\\lib\\site-packages\\ipykernel_launcher.py:20: TqdmDeprecationWarning: This function will be removed in tqdm==5.0.0\n",
      "Please use `tqdm.notebook.tqdm` instead of `tqdm.tqdm_notebook`\n"
     ]
    },
    {
     "data": {
      "application/vnd.jupyter.widget-view+json": {
       "model_id": "52ee87ab4a2a4afe9a736f6a528f6fd3",
       "version_major": 2,
       "version_minor": 0
      },
      "text/plain": [
       "HBox(children=(FloatProgress(value=0.0, max=89.0), HTML(value='')))"
      ]
     },
     "metadata": {},
     "output_type": "display_data"
    },
    {
     "name": "stdout",
     "output_type": "stream",
     "text": [
      "\n",
      "Training accuracy: 0.15235750804771825 Training loss: 0.007940934287217321\n"
     ]
    },
    {
     "name": "stderr",
     "output_type": "stream",
     "text": [
      "C:\\Users\\benja\\anaconda3\\lib\\site-packages\\ipykernel_launcher.py:62: TqdmDeprecationWarning: This function will be removed in tqdm==5.0.0\n",
      "Please use `tqdm.notebook.tqdm` instead of `tqdm.tqdm_notebook`\n"
     ]
    },
    {
     "data": {
      "application/vnd.jupyter.widget-view+json": {
       "model_id": "806d9b4e8ea640a59dd838c6e139be55",
       "version_major": 2,
       "version_minor": 0
      },
      "text/plain": [
       "HBox(children=(FloatProgress(value=0.0, max=10.0), HTML(value='')))"
      ]
     },
     "metadata": {},
     "output_type": "display_data"
    },
    {
     "name": "stdout",
     "output_type": "stream",
     "text": [
      "\n",
      "Validation accuracy: 0.15098841172460806 Validation loss: 0.007931009067023133\n",
      "Temps de l Epoch  0  en secondes: 2.5887272357940674\n",
      "EPOCH: 1\n"
     ]
    },
    {
     "data": {
      "application/vnd.jupyter.widget-view+json": {
       "model_id": "4181a028278f4205ab4309a18544b34b",
       "version_major": 2,
       "version_minor": 0
      },
      "text/plain": [
       "HBox(children=(FloatProgress(value=0.0, max=89.0), HTML(value='')))"
      ]
     },
     "metadata": {},
     "output_type": "display_data"
    },
    {
     "name": "stdout",
     "output_type": "stream",
     "text": [
      "\n",
      "Training accuracy: 0.16114372277977657 Training loss: 0.00782870617898841\n"
     ]
    },
    {
     "data": {
      "application/vnd.jupyter.widget-view+json": {
       "model_id": "e661a9ad6c1e429daee0e0d08f6bf466",
       "version_major": 2,
       "version_minor": 0
      },
      "text/plain": [
       "HBox(children=(FloatProgress(value=0.0, max=10.0), HTML(value='')))"
      ]
     },
     "metadata": {},
     "output_type": "display_data"
    },
    {
     "name": "stdout",
     "output_type": "stream",
     "text": [
      "\n",
      "Validation accuracy: 0.15030674846625766 Validation loss: 0.007873176065690678\n",
      "Temps de l Epoch  1  en secondes: 2.5410923957824707\n",
      "EPOCH: 2\n"
     ]
    },
    {
     "data": {
      "application/vnd.jupyter.widget-view+json": {
       "model_id": "c9eeb444156f4ad7a81b6fb8fbb7f3b6",
       "version_major": 2,
       "version_minor": 0
      },
      "text/plain": [
       "HBox(children=(FloatProgress(value=0.0, max=89.0), HTML(value='')))"
      ]
     },
     "metadata": {},
     "output_type": "display_data"
    },
    {
     "name": "stdout",
     "output_type": "stream",
     "text": [
      "\n",
      "Training accuracy: 0.16481726945654232 Training loss: 0.007779143818669463\n"
     ]
    },
    {
     "data": {
      "application/vnd.jupyter.widget-view+json": {
       "model_id": "7aa9d9910f8742f0a528d17bba943f81",
       "version_major": 2,
       "version_minor": 0
      },
      "text/plain": [
       "HBox(children=(FloatProgress(value=0.0, max=10.0), HTML(value='')))"
      ]
     },
     "metadata": {},
     "output_type": "display_data"
    },
    {
     "name": "stdout",
     "output_type": "stream",
     "text": [
      "\n",
      "Validation accuracy: 0.1547375596455351 Validation loss: 0.007845399163577047\n",
      "Temps de l Epoch  2  en secondes: 2.5519158840179443\n",
      "EPOCH: 3\n"
     ]
    },
    {
     "data": {
      "application/vnd.jupyter.widget-view+json": {
       "model_id": "83be569a2507417ba74789794cd0db53",
       "version_major": 2,
       "version_minor": 0
      },
      "text/plain": [
       "HBox(children=(FloatProgress(value=0.0, max=89.0), HTML(value='')))"
      ]
     },
     "metadata": {},
     "output_type": "display_data"
    },
    {
     "name": "stdout",
     "output_type": "stream",
     "text": [
      "\n",
      "Training accuracy: 0.16837720128763492 Training loss: 0.007739893962569003\n"
     ]
    },
    {
     "data": {
      "application/vnd.jupyter.widget-view+json": {
       "model_id": "ae66a41ae4f84385a35d530b6328b2d9",
       "version_major": 2,
       "version_minor": 0
      },
      "text/plain": [
       "HBox(children=(FloatProgress(value=0.0, max=10.0), HTML(value='')))"
      ]
     },
     "metadata": {},
     "output_type": "display_data"
    },
    {
     "name": "stdout",
     "output_type": "stream",
     "text": [
      "\n",
      "Validation accuracy: 0.15644171779141106 Validation loss: 0.007813923848106004\n",
      "Temps de l Epoch  3  en secondes: 2.5379388332366943\n",
      "EPOCH: 4\n"
     ]
    },
    {
     "data": {
      "application/vnd.jupyter.widget-view+json": {
       "model_id": "69cbd95f3f7b4ddb954653c7939e819a",
       "version_major": 2,
       "version_minor": 0
      },
      "text/plain": [
       "HBox(children=(FloatProgress(value=0.0, max=89.0), HTML(value='')))"
      ]
     },
     "metadata": {},
     "output_type": "display_data"
    },
    {
     "name": "stdout",
     "output_type": "stream",
     "text": [
      "\n",
      "Training accuracy: 0.17504260556712745 Training loss: 0.007714211825641848\n"
     ]
    },
    {
     "data": {
      "application/vnd.jupyter.widget-view+json": {
       "model_id": "bfc1ba66efc64b1da0b8e646e95fb6f7",
       "version_major": 2,
       "version_minor": 0
      },
      "text/plain": [
       "HBox(children=(FloatProgress(value=0.0, max=10.0), HTML(value='')))"
      ]
     },
     "metadata": {},
     "output_type": "display_data"
    },
    {
     "name": "stdout",
     "output_type": "stream",
     "text": [
      "\n",
      "Validation accuracy: 0.1605316973415133 Validation loss: 0.007781082542070988\n",
      "Temps de l Epoch  4  en secondes: 2.5391345024108887\n",
      "EPOCH: 5\n"
     ]
    },
    {
     "data": {
      "application/vnd.jupyter.widget-view+json": {
       "model_id": "f719c77bdb1a4c0293c57c4a5a8aaee9",
       "version_major": 2,
       "version_minor": 0
      },
      "text/plain": [
       "HBox(children=(FloatProgress(value=0.0, max=89.0), HTML(value='')))"
      ]
     },
     "metadata": {},
     "output_type": "display_data"
    },
    {
     "name": "stdout",
     "output_type": "stream",
     "text": [
      "\n",
      "Training accuracy: 0.18026888846809316 Training loss: 0.007679908362736961\n"
     ]
    },
    {
     "data": {
      "application/vnd.jupyter.widget-view+json": {
       "model_id": "031d19b1797144888cba9480368fd8ed",
       "version_major": 2,
       "version_minor": 0
      },
      "text/plain": [
       "HBox(children=(FloatProgress(value=0.0, max=10.0), HTML(value='')))"
      ]
     },
     "metadata": {},
     "output_type": "display_data"
    },
    {
     "name": "stdout",
     "output_type": "stream",
     "text": [
      "\n",
      "Validation accuracy: 0.16223585548738922 Validation loss: 0.007751966140346618\n",
      "Temps de l Epoch  5  en secondes: 2.5212619304656982\n",
      "EPOCH: 6\n"
     ]
    },
    {
     "data": {
      "application/vnd.jupyter.widget-view+json": {
       "model_id": "9e7bd953c1d0420394b0a95a3b7159b1",
       "version_major": 2,
       "version_minor": 0
      },
      "text/plain": [
       "HBox(children=(FloatProgress(value=0.0, max=89.0), HTML(value='')))"
      ]
     },
     "metadata": {},
     "output_type": "display_data"
    },
    {
     "name": "stdout",
     "output_type": "stream",
     "text": [
      "\n",
      "Training accuracy: 0.182200340844537 Training loss: 0.007624404680049458\n"
     ]
    },
    {
     "data": {
      "application/vnd.jupyter.widget-view+json": {
       "model_id": "ffc8fe7bba174e3089223d7efcbc191e",
       "version_major": 2,
       "version_minor": 0
      },
      "text/plain": [
       "HBox(children=(FloatProgress(value=0.0, max=10.0), HTML(value='')))"
      ]
     },
     "metadata": {},
     "output_type": "display_data"
    },
    {
     "name": "stdout",
     "output_type": "stream",
     "text": [
      "\n",
      "Validation accuracy: 0.1683708248125426 Validation loss: 0.007706771355221364\n",
      "Temps de l Epoch  6  en secondes: 2.5297622680664062\n",
      "EPOCH: 7\n"
     ]
    },
    {
     "data": {
      "application/vnd.jupyter.widget-view+json": {
       "model_id": "e08e79b1dfd74a64a1526a6dd82e928d",
       "version_major": 2,
       "version_minor": 0
      },
      "text/plain": [
       "HBox(children=(FloatProgress(value=0.0, max=89.0), HTML(value='')))"
      ]
     },
     "metadata": {},
     "output_type": "display_data"
    },
    {
     "name": "stdout",
     "output_type": "stream",
     "text": [
      "\n",
      "Training accuracy: 0.1907971975004734 Training loss: 0.007577474937590657\n"
     ]
    },
    {
     "data": {
      "application/vnd.jupyter.widget-view+json": {
       "model_id": "26cbbfb64a8b43c1b41282016234acfb",
       "version_major": 2,
       "version_minor": 0
      },
      "text/plain": [
       "HBox(children=(FloatProgress(value=0.0, max=10.0), HTML(value='')))"
      ]
     },
     "metadata": {},
     "output_type": "display_data"
    },
    {
     "name": "stdout",
     "output_type": "stream",
     "text": [
      "\n",
      "Validation accuracy: 0.17893660531697342 Validation loss: 0.00766405071136329\n",
      "Temps de l Epoch  7  en secondes: 2.590413808822632\n",
      "EPOCH: 8\n"
     ]
    },
    {
     "data": {
      "application/vnd.jupyter.widget-view+json": {
       "model_id": "e306ec20d4224d22a70f87bbd3a0c6eb",
       "version_major": 2,
       "version_minor": 0
      },
      "text/plain": [
       "HBox(children=(FloatProgress(value=0.0, max=89.0), HTML(value='')))"
      ]
     },
     "metadata": {},
     "output_type": "display_data"
    },
    {
     "name": "stdout",
     "output_type": "stream",
     "text": [
      "\n",
      "Training accuracy: 0.1940162847945465 Training loss: 0.007500519542119829\n"
     ]
    },
    {
     "data": {
      "application/vnd.jupyter.widget-view+json": {
       "model_id": "5e4f0a8ab1d74f8898ed87ae56b33bc5",
       "version_major": 2,
       "version_minor": 0
      },
      "text/plain": [
       "HBox(children=(FloatProgress(value=0.0, max=10.0), HTML(value='')))"
      ]
     },
     "metadata": {},
     "output_type": "display_data"
    },
    {
     "name": "stdout",
     "output_type": "stream",
     "text": [
      "\n",
      "Validation accuracy: 0.18882072256305385 Validation loss: 0.007593158076389679\n",
      "Temps de l Epoch  8  en secondes: 2.5320539474487305\n",
      "EPOCH: 9\n"
     ]
    },
    {
     "data": {
      "application/vnd.jupyter.widget-view+json": {
       "model_id": "357c712995fc4e48a519f5b7210ec955",
       "version_major": 2,
       "version_minor": 0
      },
      "text/plain": [
       "HBox(children=(FloatProgress(value=0.0, max=89.0), HTML(value='')))"
      ]
     },
     "metadata": {},
     "output_type": "display_data"
    },
    {
     "name": "stdout",
     "output_type": "stream",
     "text": [
      "\n",
      "Training accuracy: 0.2010982768415073 Training loss: 0.007432901550030036\n"
     ]
    },
    {
     "data": {
      "application/vnd.jupyter.widget-view+json": {
       "model_id": "5a6c840f868640f69ee57735756bb9ec",
       "version_major": 2,
       "version_minor": 0
      },
      "text/plain": [
       "HBox(children=(FloatProgress(value=0.0, max=10.0), HTML(value='')))"
      ]
     },
     "metadata": {},
     "output_type": "display_data"
    },
    {
     "name": "stdout",
     "output_type": "stream",
     "text": [
      "\n",
      "Validation accuracy: 0.19768234492160872 Validation loss: 0.00749839473599549\n",
      "Temps de l Epoch  9  en secondes: 2.548590660095215\n",
      "EPOCH: 10\n"
     ]
    },
    {
     "data": {
      "application/vnd.jupyter.widget-view+json": {
       "model_id": "69b0dde2b6f14f50975a260a6f0146a2",
       "version_major": 2,
       "version_minor": 0
      },
      "text/plain": [
       "HBox(children=(FloatProgress(value=0.0, max=89.0), HTML(value='')))"
      ]
     },
     "metadata": {},
     "output_type": "display_data"
    },
    {
     "name": "stdout",
     "output_type": "stream",
     "text": [
      "\n",
      "Training accuracy: 0.21086915356939973 Training loss: 0.007371898303314538\n"
     ]
    },
    {
     "data": {
      "application/vnd.jupyter.widget-view+json": {
       "model_id": "7491c888dfe94821b813440a1ffe14f1",
       "version_major": 2,
       "version_minor": 0
      },
      "text/plain": [
       "HBox(children=(FloatProgress(value=0.0, max=10.0), HTML(value='')))"
      ]
     },
     "metadata": {},
     "output_type": "display_data"
    },
    {
     "name": "stdout",
     "output_type": "stream",
     "text": [
      "\n",
      "Validation accuracy: 0.2010906612133606 Validation loss: 0.007422475970839674\n",
      "Temps de l Epoch  10  en secondes: 2.5030951499938965\n",
      "EPOCH: 11\n"
     ]
    },
    {
     "data": {
      "application/vnd.jupyter.widget-view+json": {
       "model_id": "6a4e769bc2574479b896ebbc8c627b37",
       "version_major": 2,
       "version_minor": 0
      },
      "text/plain": [
       "HBox(children=(FloatProgress(value=0.0, max=89.0), HTML(value='')))"
      ]
     },
     "metadata": {},
     "output_type": "display_data"
    },
    {
     "name": "stdout",
     "output_type": "stream",
     "text": [
      "\n",
      "Training accuracy: 0.21677712554440448 Training loss: 0.007307380782092888\n"
     ]
    },
    {
     "data": {
      "application/vnd.jupyter.widget-view+json": {
       "model_id": "efec364538154a8caf35fa1290d33468",
       "version_major": 2,
       "version_minor": 0
      },
      "text/plain": [
       "HBox(children=(FloatProgress(value=0.0, max=10.0), HTML(value='')))"
      ]
     },
     "metadata": {},
     "output_type": "display_data"
    },
    {
     "name": "stdout",
     "output_type": "stream",
     "text": [
      "\n",
      "Validation accuracy: 0.20824812542603954 Validation loss: 0.0073685957285199105\n",
      "Temps de l Epoch  11  en secondes: 2.551297187805176\n",
      "EPOCH: 12\n"
     ]
    },
    {
     "data": {
      "application/vnd.jupyter.widget-view+json": {
       "model_id": "06ec57bb5e314d0a98f6bdd22b8a9465",
       "version_major": 2,
       "version_minor": 0
      },
      "text/plain": [
       "HBox(children=(FloatProgress(value=0.0, max=89.0), HTML(value='')))"
      ]
     },
     "metadata": {},
     "output_type": "display_data"
    },
    {
     "name": "stdout",
     "output_type": "stream",
     "text": [
      "\n",
      "Training accuracy: 0.21859496307517515 Training loss: 0.007282073559622899\n"
     ]
    },
    {
     "data": {
      "application/vnd.jupyter.widget-view+json": {
       "model_id": "10f4d63fb588480a8f62602728727943",
       "version_major": 2,
       "version_minor": 0
      },
      "text/plain": [
       "HBox(children=(FloatProgress(value=0.0, max=10.0), HTML(value='')))"
      ]
     },
     "metadata": {},
     "output_type": "display_data"
    },
    {
     "name": "stdout",
     "output_type": "stream",
     "text": [
      "\n",
      "Validation accuracy: 0.20483980913428765 Validation loss: 0.007405849809783124\n",
      "Temps de l Epoch  12  en secondes: 2.529735803604126\n",
      "EPOCH: 13\n"
     ]
    },
    {
     "data": {
      "application/vnd.jupyter.widget-view+json": {
       "model_id": "bf5f50229f3e4fbe8493d714d4540b0c",
       "version_major": 2,
       "version_minor": 0
      },
      "text/plain": [
       "HBox(children=(FloatProgress(value=0.0, max=89.0), HTML(value='')))"
      ]
     },
     "metadata": {},
     "output_type": "display_data"
    },
    {
     "name": "stdout",
     "output_type": "stream",
     "text": [
      "\n",
      "Training accuracy: 0.21745881461844346 Training loss: 0.007286426926670461\n"
     ]
    },
    {
     "data": {
      "application/vnd.jupyter.widget-view+json": {
       "model_id": "bb9a0d851359478085d99a74b2290b4a",
       "version_major": 2,
       "version_minor": 0
      },
      "text/plain": [
       "HBox(children=(FloatProgress(value=0.0, max=10.0), HTML(value='')))"
      ]
     },
     "metadata": {},
     "output_type": "display_data"
    },
    {
     "name": "stdout",
     "output_type": "stream",
     "text": [
      "\n",
      "Validation accuracy: 0.2147239263803681 Validation loss: 0.007327693859248561\n",
      "Temps de l Epoch  13  en secondes: 2.5341861248016357\n",
      "EPOCH: 14\n"
     ]
    },
    {
     "data": {
      "application/vnd.jupyter.widget-view+json": {
       "model_id": "a20750e9fe9e4bae90b863910e2d9913",
       "version_major": 2,
       "version_minor": 0
      },
      "text/plain": [
       "HBox(children=(FloatProgress(value=0.0, max=89.0), HTML(value='')))"
      ]
     },
     "metadata": {},
     "output_type": "display_data"
    },
    {
     "name": "stdout",
     "output_type": "stream",
     "text": [
      "\n",
      "Training accuracy: 0.22041280060594584 Training loss: 0.0072595276224908896\n"
     ]
    },
    {
     "data": {
      "application/vnd.jupyter.widget-view+json": {
       "model_id": "ba4d63c62c1f4c3d9aefa6ef08949aa0",
       "version_major": 2,
       "version_minor": 0
      },
      "text/plain": [
       "HBox(children=(FloatProgress(value=0.0, max=10.0), HTML(value='')))"
      ]
     },
     "metadata": {},
     "output_type": "display_data"
    },
    {
     "name": "stdout",
     "output_type": "stream",
     "text": [
      "\n",
      "Validation accuracy: 0.2143830947511929 Validation loss: 0.007378343749225099\n",
      "Temps de l Epoch  14  en secondes: 2.5245394706726074\n",
      "EPOCH: 15\n"
     ]
    },
    {
     "data": {
      "application/vnd.jupyter.widget-view+json": {
       "model_id": "b6c6a4bfdc75464a9259ade259301386",
       "version_major": 2,
       "version_minor": 0
      },
      "text/plain": [
       "HBox(children=(FloatProgress(value=0.0, max=89.0), HTML(value='')))"
      ]
     },
     "metadata": {},
     "output_type": "display_data"
    },
    {
     "name": "stdout",
     "output_type": "stream",
     "text": [
      "\n",
      "Training accuracy: 0.2231016852868775 Training loss: 0.007232660823779403\n"
     ]
    },
    {
     "data": {
      "application/vnd.jupyter.widget-view+json": {
       "model_id": "48d7b46453d948d3b27c7453f2e8cce0",
       "version_major": 2,
       "version_minor": 0
      },
      "text/plain": [
       "HBox(children=(FloatProgress(value=0.0, max=10.0), HTML(value='')))"
      ]
     },
     "metadata": {},
     "output_type": "display_data"
    },
    {
     "name": "stdout",
     "output_type": "stream",
     "text": [
      "\n",
      "Validation accuracy: 0.21267893660531698 Validation loss: 0.007331209111229936\n",
      "Temps de l Epoch  15  en secondes: 2.5221519470214844\n",
      "EPOCH: 16\n"
     ]
    },
    {
     "data": {
      "application/vnd.jupyter.widget-view+json": {
       "model_id": "04fcd982c74d43f3a0aa43803d053845",
       "version_major": 2,
       "version_minor": 0
      },
      "text/plain": [
       "HBox(children=(FloatProgress(value=0.0, max=89.0), HTML(value='')))"
      ]
     },
     "metadata": {},
     "output_type": "display_data"
    },
    {
     "name": "stdout",
     "output_type": "stream",
     "text": [
      "\n",
      "Training accuracy: 0.22283658398030676 Training loss: 0.007192403541959341\n"
     ]
    },
    {
     "data": {
      "application/vnd.jupyter.widget-view+json": {
       "model_id": "9b02f0c2675b44e39a67cc2b3e82f5d5",
       "version_major": 2,
       "version_minor": 0
      },
      "text/plain": [
       "HBox(children=(FloatProgress(value=0.0, max=10.0), HTML(value='')))"
      ]
     },
     "metadata": {},
     "output_type": "display_data"
    },
    {
     "name": "stdout",
     "output_type": "stream",
     "text": [
      "\n",
      "Validation accuracy: 0.21847307430129517 Validation loss: 0.007306056113655907\n",
      "Temps de l Epoch  16  en secondes: 2.5265963077545166\n",
      "EPOCH: 17\n"
     ]
    },
    {
     "data": {
      "application/vnd.jupyter.widget-view+json": {
       "model_id": "ebbf80ecde8f4088b614bd8d5622856a",
       "version_major": 2,
       "version_minor": 0
      },
      "text/plain": [
       "HBox(children=(FloatProgress(value=0.0, max=89.0), HTML(value='')))"
      ]
     },
     "metadata": {},
     "output_type": "display_data"
    },
    {
     "name": "stdout",
     "output_type": "stream",
     "text": [
      "\n",
      "Training accuracy: 0.2259041848134823 Training loss: 0.007203526506819434\n"
     ]
    },
    {
     "data": {
      "application/vnd.jupyter.widget-view+json": {
       "model_id": "6e7dd66bf6e144739e6ff7f6c811635d",
       "version_major": 2,
       "version_minor": 0
      },
      "text/plain": [
       "HBox(children=(FloatProgress(value=0.0, max=10.0), HTML(value='')))"
      ]
     },
     "metadata": {},
     "output_type": "display_data"
    },
    {
     "name": "stdout",
     "output_type": "stream",
     "text": [
      "\n",
      "Validation accuracy: 0.2174505794137696 Validation loss: 0.007314512009675924\n",
      "Temps de l Epoch  17  en secondes: 2.5399179458618164\n",
      "EPOCH: 18\n"
     ]
    },
    {
     "data": {
      "application/vnd.jupyter.widget-view+json": {
       "model_id": "84ed0aef8a1f47f4961a2147d3b239d3",
       "version_major": 2,
       "version_minor": 0
      },
      "text/plain": [
       "HBox(children=(FloatProgress(value=0.0, max=89.0), HTML(value='')))"
      ]
     },
     "metadata": {},
     "output_type": "display_data"
    },
    {
     "name": "stdout",
     "output_type": "stream",
     "text": [
      "\n",
      "Training accuracy: 0.2266237455027457 Training loss: 0.0071917305117280075\n"
     ]
    },
    {
     "data": {
      "application/vnd.jupyter.widget-view+json": {
       "model_id": "6c3885a966ea4d95af5a53fac15996df",
       "version_major": 2,
       "version_minor": 0
      },
      "text/plain": [
       "HBox(children=(FloatProgress(value=0.0, max=10.0), HTML(value='')))"
      ]
     },
     "metadata": {},
     "output_type": "display_data"
    },
    {
     "name": "stdout",
     "output_type": "stream",
     "text": [
      "\n",
      "Validation accuracy: 0.21063394683026584 Validation loss: 0.007390164077566364\n",
      "Temps de l Epoch  18  en secondes: 2.597059965133667\n",
      "EPOCH: 19\n"
     ]
    },
    {
     "data": {
      "application/vnd.jupyter.widget-view+json": {
       "model_id": "156d4b42745f46bcbf8ce826d59d25eb",
       "version_major": 2,
       "version_minor": 0
      },
      "text/plain": [
       "HBox(children=(FloatProgress(value=0.0, max=89.0), HTML(value='')))"
      ]
     },
     "metadata": {},
     "output_type": "display_data"
    },
    {
     "name": "stdout",
     "output_type": "stream",
     "text": [
      "\n",
      "Training accuracy: 0.22438932020450672 Training loss: 0.007226787636483671\n"
     ]
    },
    {
     "data": {
      "application/vnd.jupyter.widget-view+json": {
       "model_id": "9b5fa10fdc304569bd714b085d9765fa",
       "version_major": 2,
       "version_minor": 0
      },
      "text/plain": [
       "HBox(children=(FloatProgress(value=0.0, max=10.0), HTML(value='')))"
      ]
     },
     "metadata": {},
     "output_type": "display_data"
    },
    {
     "name": "stdout",
     "output_type": "stream",
     "text": [
      "\n",
      "Validation accuracy: 0.21540558963871848 Validation loss: 0.007290182019385173\n",
      "Temps de l Epoch  19  en secondes: 2.5386738777160645\n",
      "EPOCH: 20\n"
     ]
    },
    {
     "data": {
      "application/vnd.jupyter.widget-view+json": {
       "model_id": "197168833e584d48a90ac6ddefa5f449",
       "version_major": 2,
       "version_minor": 0
      },
      "text/plain": [
       "HBox(children=(FloatProgress(value=0.0, max=89.0), HTML(value='')))"
      ]
     },
     "metadata": {},
     "output_type": "display_data"
    },
    {
     "name": "stdout",
     "output_type": "stream",
     "text": [
      "\n",
      "Training accuracy: 0.22609354288960423 Training loss: 0.007188589937238615\n"
     ]
    },
    {
     "data": {
      "application/vnd.jupyter.widget-view+json": {
       "model_id": "bb2136d38eb34b49b8d1ab254d4a4785",
       "version_major": 2,
       "version_minor": 0
      },
      "text/plain": [
       "HBox(children=(FloatProgress(value=0.0, max=10.0), HTML(value='')))"
      ]
     },
     "metadata": {},
     "output_type": "display_data"
    },
    {
     "name": "stdout",
     "output_type": "stream",
     "text": [
      "\n",
      "Validation accuracy: 0.21574642126789367 Validation loss: 0.007313553866026916\n",
      "Temps de l Epoch  20  en secondes: 2.547089099884033\n",
      "EPOCH: 21\n"
     ]
    },
    {
     "data": {
      "application/vnd.jupyter.widget-view+json": {
       "model_id": "7e07e6d77f1940fda8cf7ea6e3ef8329",
       "version_major": 2,
       "version_minor": 0
      },
      "text/plain": [
       "HBox(children=(FloatProgress(value=0.0, max=89.0), HTML(value='')))"
      ]
     },
     "metadata": {},
     "output_type": "display_data"
    },
    {
     "name": "stdout",
     "output_type": "stream",
     "text": [
      "\n",
      "Training accuracy: 0.22719181973111152 Training loss: 0.007165284676886805\n"
     ]
    },
    {
     "data": {
      "application/vnd.jupyter.widget-view+json": {
       "model_id": "ab2d7599751a4e66b7f8edb50654a092",
       "version_major": 2,
       "version_minor": 0
      },
      "text/plain": [
       "HBox(children=(FloatProgress(value=0.0, max=10.0), HTML(value='')))"
      ]
     },
     "metadata": {},
     "output_type": "display_data"
    },
    {
     "name": "stdout",
     "output_type": "stream",
     "text": [
      "\n",
      "Validation accuracy: 0.2174505794137696 Validation loss: 0.007294921380935596\n",
      "Temps de l Epoch  21  en secondes: 2.643702745437622\n",
      "EPOCH: 22\n"
     ]
    },
    {
     "data": {
      "application/vnd.jupyter.widget-view+json": {
       "model_id": "8742f715d2044fc989d2d5a087775acf",
       "version_major": 2,
       "version_minor": 0
      },
      "text/plain": [
       "HBox(children=(FloatProgress(value=0.0, max=89.0), HTML(value='')))"
      ]
     },
     "metadata": {},
     "output_type": "display_data"
    },
    {
     "name": "stdout",
     "output_type": "stream",
     "text": [
      "\n",
      "Training accuracy: 0.2256012118916872 Training loss: 0.007160017964876504\n"
     ]
    },
    {
     "data": {
      "application/vnd.jupyter.widget-view+json": {
       "model_id": "624eec2eab11425a9aa5f1e2404c2381",
       "version_major": 2,
       "version_minor": 0
      },
      "text/plain": [
       "HBox(children=(FloatProgress(value=0.0, max=10.0), HTML(value='')))"
      ]
     },
     "metadata": {},
     "output_type": "display_data"
    },
    {
     "name": "stdout",
     "output_type": "stream",
     "text": [
      "\n",
      "Validation accuracy: 0.21642808452624404 Validation loss: 0.007296530259411272\n",
      "Temps de l Epoch  22  en secondes: 2.541715145111084\n",
      "EPOCH: 23\n"
     ]
    },
    {
     "data": {
      "application/vnd.jupyter.widget-view+json": {
       "model_id": "02ca51de2bad4244aac018945f2517b9",
       "version_major": 2,
       "version_minor": 0
      },
      "text/plain": [
       "HBox(children=(FloatProgress(value=0.0, max=89.0), HTML(value='')))"
      ]
     },
     "metadata": {},
     "output_type": "display_data"
    },
    {
     "name": "stdout",
     "output_type": "stream",
     "text": [
      "\n",
      "Training accuracy: 0.22722969134633592 Training loss: 0.007157581625867806\n"
     ]
    },
    {
     "data": {
      "application/vnd.jupyter.widget-view+json": {
       "model_id": "0fb171fad31342dabbae169796d7f214",
       "version_major": 2,
       "version_minor": 0
      },
      "text/plain": [
       "HBox(children=(FloatProgress(value=0.0, max=10.0), HTML(value='')))"
      ]
     },
     "metadata": {},
     "output_type": "display_data"
    },
    {
     "name": "stdout",
     "output_type": "stream",
     "text": [
      "\n",
      "Validation accuracy: 0.21813224267211997 Validation loss: 0.007294639406678786\n",
      "Temps de l Epoch  23  en secondes: 2.5257325172424316\n",
      "EPOCH: 24\n"
     ]
    },
    {
     "data": {
      "application/vnd.jupyter.widget-view+json": {
       "model_id": "8b7a8d935b134c2980af61b57757c2c3",
       "version_major": 2,
       "version_minor": 0
      },
      "text/plain": [
       "HBox(children=(FloatProgress(value=0.0, max=89.0), HTML(value='')))"
      ]
     },
     "metadata": {},
     "output_type": "display_data"
    },
    {
     "name": "stdout",
     "output_type": "stream",
     "text": [
      "\n",
      "Training accuracy: 0.23063813671653097 Training loss: 0.007138852706530672\n"
     ]
    },
    {
     "data": {
      "application/vnd.jupyter.widget-view+json": {
       "model_id": "a182e9fb9f634933b3c28d12190c22fd",
       "version_major": 2,
       "version_minor": 0
      },
      "text/plain": [
       "HBox(children=(FloatProgress(value=0.0, max=10.0), HTML(value='')))"
      ]
     },
     "metadata": {},
     "output_type": "display_data"
    },
    {
     "name": "stdout",
     "output_type": "stream",
     "text": [
      "\n",
      "Validation accuracy: 0.2174505794137696 Validation loss: 0.007340827765071481\n",
      "Temps de l Epoch  24  en secondes: 2.5878517627716064\n",
      "EPOCH: 25\n"
     ]
    },
    {
     "data": {
      "application/vnd.jupyter.widget-view+json": {
       "model_id": "46cb83ee2a144752b1f9b3df01097e31",
       "version_major": 2,
       "version_minor": 0
      },
      "text/plain": [
       "HBox(children=(FloatProgress(value=0.0, max=89.0), HTML(value='')))"
      ]
     },
     "metadata": {},
     "output_type": "display_data"
    },
    {
     "name": "stdout",
     "output_type": "stream",
     "text": [
      "\n",
      "Training accuracy: 0.22791138042037493 Training loss: 0.007177130197670576\n"
     ]
    },
    {
     "data": {
      "application/vnd.jupyter.widget-view+json": {
       "model_id": "ff399c13b1a34d07a127a8ad74bae18d",
       "version_major": 2,
       "version_minor": 0
      },
      "text/plain": [
       "HBox(children=(FloatProgress(value=0.0, max=10.0), HTML(value='')))"
      ]
     },
     "metadata": {},
     "output_type": "display_data"
    },
    {
     "name": "stdout",
     "output_type": "stream",
     "text": [
      "\n",
      "Validation accuracy: 0.22324471710974778 Validation loss: 0.007288526497329265\n",
      "Temps de l Epoch  25  en secondes: 2.5872442722320557\n",
      "EPOCH: 26\n"
     ]
    },
    {
     "data": {
      "application/vnd.jupyter.widget-view+json": {
       "model_id": "cde61affe6e342b79a3344226fe545fe",
       "version_major": 2,
       "version_minor": 0
      },
      "text/plain": [
       "HBox(children=(FloatProgress(value=0.0, max=89.0), HTML(value='')))"
      ]
     },
     "metadata": {},
     "output_type": "display_data"
    },
    {
     "name": "stdout",
     "output_type": "stream",
     "text": [
      "\n",
      "Training accuracy: 0.22995644764249196 Training loss: 0.007154583086729998\n"
     ]
    },
    {
     "data": {
      "application/vnd.jupyter.widget-view+json": {
       "model_id": "19fb7f32ae5d40b48edace038f624313",
       "version_major": 2,
       "version_minor": 0
      },
      "text/plain": [
       "HBox(children=(FloatProgress(value=0.0, max=10.0), HTML(value='')))"
      ]
     },
     "metadata": {},
     "output_type": "display_data"
    },
    {
     "name": "stdout",
     "output_type": "stream",
     "text": [
      "\n",
      "Validation accuracy: 0.2143830947511929 Validation loss: 0.0073464127243499655\n",
      "Temps de l Epoch  26  en secondes: 2.5766711235046387\n",
      "EPOCH: 27\n"
     ]
    },
    {
     "data": {
      "application/vnd.jupyter.widget-view+json": {
       "model_id": "07ea6550175f4ee7b2a0e90fc228a94f",
       "version_major": 2,
       "version_minor": 0
      },
      "text/plain": [
       "HBox(children=(FloatProgress(value=0.0, max=89.0), HTML(value='')))"
      ]
     },
     "metadata": {},
     "output_type": "display_data"
    },
    {
     "name": "stdout",
     "output_type": "stream",
     "text": [
      "\n",
      "Training accuracy: 0.23131982579056998 Training loss: 0.00714786326743012\n"
     ]
    },
    {
     "data": {
      "application/vnd.jupyter.widget-view+json": {
       "model_id": "b2237b0e52744a928a4585800e7ca63a",
       "version_major": 2,
       "version_minor": 0
      },
      "text/plain": [
       "HBox(children=(FloatProgress(value=0.0, max=10.0), HTML(value='')))"
      ]
     },
     "metadata": {},
     "output_type": "display_data"
    },
    {
     "name": "stdout",
     "output_type": "stream",
     "text": [
      "\n",
      "Validation accuracy: 0.2171097477845944 Validation loss: 0.007291705574238471\n",
      "Temps de l Epoch  27  en secondes: 2.5535123348236084\n",
      "EPOCH: 28\n"
     ]
    },
    {
     "data": {
      "application/vnd.jupyter.widget-view+json": {
       "model_id": "3f27917daaa74a2f9fd562a072f5b60f",
       "version_major": 2,
       "version_minor": 0
      },
      "text/plain": [
       "HBox(children=(FloatProgress(value=0.0, max=89.0), HTML(value='')))"
      ]
     },
     "metadata": {},
     "output_type": "display_data"
    },
    {
     "name": "stdout",
     "output_type": "stream",
     "text": [
      "\n",
      "Training accuracy: 0.23154705548191631 Training loss: 0.007146435988443725\n"
     ]
    },
    {
     "data": {
      "application/vnd.jupyter.widget-view+json": {
       "model_id": "72960a5f247b416a81b5565ed27ff87d",
       "version_major": 2,
       "version_minor": 0
      },
      "text/plain": [
       "HBox(children=(FloatProgress(value=0.0, max=10.0), HTML(value='')))"
      ]
     },
     "metadata": {},
     "output_type": "display_data"
    },
    {
     "name": "stdout",
     "output_type": "stream",
     "text": [
      "\n",
      "Validation accuracy: 0.21540558963871848 Validation loss: 0.007329045954251176\n",
      "Temps de l Epoch  28  en secondes: 2.5762124061584473\n",
      "EPOCH: 29\n"
     ]
    },
    {
     "data": {
      "application/vnd.jupyter.widget-view+json": {
       "model_id": "2e574f69fb134595b8d4204a6f042e47",
       "version_major": 2,
       "version_minor": 0
      },
      "text/plain": [
       "HBox(children=(FloatProgress(value=0.0, max=89.0), HTML(value='')))"
      ]
     },
     "metadata": {},
     "output_type": "display_data"
    },
    {
     "name": "stdout",
     "output_type": "stream",
     "text": [
      "\n",
      "Training accuracy: 0.23234235940162848 Training loss: 0.00710915152580985\n"
     ]
    },
    {
     "data": {
      "application/vnd.jupyter.widget-view+json": {
       "model_id": "f45a4cb1baca417cb1536622baea9768",
       "version_major": 2,
       "version_minor": 0
      },
      "text/plain": [
       "HBox(children=(FloatProgress(value=0.0, max=10.0), HTML(value='')))"
      ]
     },
     "metadata": {},
     "output_type": "display_data"
    },
    {
     "name": "stdout",
     "output_type": "stream",
     "text": [
      "\n",
      "Validation accuracy: 0.21847307430129517 Validation loss: 0.0072799826773479025\n",
      "Temps de l Epoch  29  en secondes: 2.551753044128418\n",
      "EPOCH: 30\n"
     ]
    },
    {
     "data": {
      "application/vnd.jupyter.widget-view+json": {
       "model_id": "03db9311feff4efd87b86b98e376f434",
       "version_major": 2,
       "version_minor": 0
      },
      "text/plain": [
       "HBox(children=(FloatProgress(value=0.0, max=89.0), HTML(value='')))"
      ]
     },
     "metadata": {},
     "output_type": "display_data"
    },
    {
     "name": "stdout",
     "output_type": "stream",
     "text": [
      "\n",
      "Training accuracy: 0.23041090702518463 Training loss: 0.007129052813543873\n"
     ]
    },
    {
     "data": {
      "application/vnd.jupyter.widget-view+json": {
       "model_id": "588ae1bc1dea485ca0edde5a71673bc7",
       "version_major": 2,
       "version_minor": 0
      },
      "text/plain": [
       "HBox(children=(FloatProgress(value=0.0, max=10.0), HTML(value='')))"
      ]
     },
     "metadata": {},
     "output_type": "display_data"
    },
    {
     "name": "stdout",
     "output_type": "stream",
     "text": [
      "\n",
      "Validation accuracy: 0.21608725289706884 Validation loss: 0.007299219741249215\n",
      "Temps de l Epoch  30  en secondes: 2.5587356090545654\n",
      "EPOCH: 31\n"
     ]
    },
    {
     "data": {
      "application/vnd.jupyter.widget-view+json": {
       "model_id": "d277c359c48347bd9124e959906c18f4",
       "version_major": 2,
       "version_minor": 0
      },
      "text/plain": [
       "HBox(children=(FloatProgress(value=0.0, max=89.0), HTML(value='')))"
      ]
     },
     "metadata": {},
     "output_type": "display_data"
    },
    {
     "name": "stdout",
     "output_type": "stream",
     "text": [
      "\n",
      "Training accuracy: 0.23336489301268698 Training loss: 0.007149223269126876\n"
     ]
    },
    {
     "data": {
      "application/vnd.jupyter.widget-view+json": {
       "model_id": "584c439577964c918222a05bc4f339bd",
       "version_major": 2,
       "version_minor": 0
      },
      "text/plain": [
       "HBox(children=(FloatProgress(value=0.0, max=10.0), HTML(value='')))"
      ]
     },
     "metadata": {},
     "output_type": "display_data"
    },
    {
     "name": "stdout",
     "output_type": "stream",
     "text": [
      "\n",
      "Validation accuracy: 0.2147239263803681 Validation loss: 0.00728824557946016\n",
      "Temps de l Epoch  31  en secondes: 2.5561232566833496\n",
      "EPOCH: 32\n"
     ]
    },
    {
     "data": {
      "application/vnd.jupyter.widget-view+json": {
       "model_id": "d1b947c0e5c54b4f810a0adb5ee5e68d",
       "version_major": 2,
       "version_minor": 0
      },
      "text/plain": [
       "HBox(children=(FloatProgress(value=0.0, max=89.0), HTML(value='')))"
      ]
     },
     "metadata": {},
     "output_type": "display_data"
    },
    {
     "name": "stdout",
     "output_type": "stream",
     "text": [
      "\n",
      "Training accuracy: 0.22965347472069683 Training loss: 0.007143312258107309\n"
     ]
    },
    {
     "data": {
      "application/vnd.jupyter.widget-view+json": {
       "model_id": "015b2424c8d04af5b59ee6d303391946",
       "version_major": 2,
       "version_minor": 0
      },
      "text/plain": [
       "HBox(children=(FloatProgress(value=0.0, max=10.0), HTML(value='')))"
      ]
     },
     "metadata": {},
     "output_type": "display_data"
    },
    {
     "name": "stdout",
     "output_type": "stream",
     "text": [
      "\n",
      "Validation accuracy: 0.21813224267211997 Validation loss: 0.007294321352718798\n",
      "Temps de l Epoch  32  en secondes: 2.5567502975463867\n",
      "EPOCH: 33\n"
     ]
    },
    {
     "data": {
      "application/vnd.jupyter.widget-view+json": {
       "model_id": "ab2fa4148e6d4f36916af1f80cecf60e",
       "version_major": 2,
       "version_minor": 0
      },
      "text/plain": [
       "HBox(children=(FloatProgress(value=0.0, max=89.0), HTML(value='')))"
      ]
     },
     "metadata": {},
     "output_type": "display_data"
    },
    {
     "name": "stdout",
     "output_type": "stream",
     "text": [
      "\n",
      "Training accuracy: 0.23003219087294072 Training loss: 0.007130523162275479\n"
     ]
    },
    {
     "data": {
      "application/vnd.jupyter.widget-view+json": {
       "model_id": "a29673c4c133483aa04daf6b0138fa25",
       "version_major": 2,
       "version_minor": 0
      },
      "text/plain": [
       "HBox(children=(FloatProgress(value=0.0, max=10.0), HTML(value='')))"
      ]
     },
     "metadata": {},
     "output_type": "display_data"
    },
    {
     "name": "stdout",
     "output_type": "stream",
     "text": [
      "\n",
      "Validation accuracy: 0.21506475800954328 Validation loss: 0.007309817747754472\n",
      "Temps de l Epoch  33  en secondes: 2.5450387001037598\n",
      "EPOCH: 34\n"
     ]
    },
    {
     "data": {
      "application/vnd.jupyter.widget-view+json": {
       "model_id": "d4d245c3b243448997ee095801d568e4",
       "version_major": 2,
       "version_minor": 0
      },
      "text/plain": [
       "HBox(children=(FloatProgress(value=0.0, max=89.0), HTML(value='')))"
      ]
     },
     "metadata": {},
     "output_type": "display_data"
    },
    {
     "name": "stdout",
     "output_type": "stream",
     "text": [
      "\n",
      "Training accuracy: 0.2329104336299943 Training loss: 0.007116132422708874\n"
     ]
    },
    {
     "data": {
      "application/vnd.jupyter.widget-view+json": {
       "model_id": "52a7685d07c943b7841dfc7e81487569",
       "version_major": 2,
       "version_minor": 0
      },
      "text/plain": [
       "HBox(children=(FloatProgress(value=0.0, max=10.0), HTML(value='')))"
      ]
     },
     "metadata": {},
     "output_type": "display_data"
    },
    {
     "name": "stdout",
     "output_type": "stream",
     "text": [
      "\n",
      "Validation accuracy: 0.21370143149284254 Validation loss: 0.007299703485557801\n",
      "Temps de l Epoch  34  en secondes: 2.554866313934326\n",
      "EPOCH: 35\n"
     ]
    },
    {
     "data": {
      "application/vnd.jupyter.widget-view+json": {
       "model_id": "bc5f34999a0f4eb58100ca20aa1c7255",
       "version_major": 2,
       "version_minor": 0
      },
      "text/plain": [
       "HBox(children=(FloatProgress(value=0.0, max=89.0), HTML(value='')))"
      ]
     },
     "metadata": {},
     "output_type": "display_data"
    },
    {
     "name": "stdout",
     "output_type": "stream",
     "text": [
      "\n",
      "Training accuracy: 0.2337436091649309 Training loss: 0.007155169404110568\n"
     ]
    },
    {
     "data": {
      "application/vnd.jupyter.widget-view+json": {
       "model_id": "0948aca30f554acfae077376508f9f8b",
       "version_major": 2,
       "version_minor": 0
      },
      "text/plain": [
       "HBox(children=(FloatProgress(value=0.0, max=10.0), HTML(value='')))"
      ]
     },
     "metadata": {},
     "output_type": "display_data"
    },
    {
     "name": "stdout",
     "output_type": "stream",
     "text": [
      "\n",
      "Validation accuracy: 0.21506475800954328 Validation loss: 0.00728927555747315\n",
      "Temps de l Epoch  35  en secondes: 2.6334877014160156\n",
      "EPOCH: 36\n"
     ]
    },
    {
     "data": {
      "application/vnd.jupyter.widget-view+json": {
       "model_id": "0d7444e7ed01475383f25f9e334355fe",
       "version_major": 2,
       "version_minor": 0
      },
      "text/plain": [
       "HBox(children=(FloatProgress(value=0.0, max=89.0), HTML(value='')))"
      ]
     },
     "metadata": {},
     "output_type": "display_data"
    },
    {
     "name": "stdout",
     "output_type": "stream",
     "text": [
      "\n",
      "Training accuracy: 0.23272107555387236 Training loss: 0.007098832425690131\n"
     ]
    },
    {
     "data": {
      "application/vnd.jupyter.widget-view+json": {
       "model_id": "dde07b89696f45cf9a89493b4717ddc8",
       "version_major": 2,
       "version_minor": 0
      },
      "text/plain": [
       "HBox(children=(FloatProgress(value=0.0, max=10.0), HTML(value='')))"
      ]
     },
     "metadata": {},
     "output_type": "display_data"
    },
    {
     "name": "stdout",
     "output_type": "stream",
     "text": [
      "\n",
      "Validation accuracy: 0.2140422631220177 Validation loss: 0.007327844516387502\n",
      "Temps de l Epoch  36  en secondes: 2.5551867485046387\n",
      "EPOCH: 37\n"
     ]
    },
    {
     "data": {
      "application/vnd.jupyter.widget-view+json": {
       "model_id": "f54c3cbda00747eba69a5003ed414236",
       "version_major": 2,
       "version_minor": 0
      },
      "text/plain": [
       "HBox(children=(FloatProgress(value=0.0, max=89.0), HTML(value='')))"
      ]
     },
     "metadata": {},
     "output_type": "display_data"
    },
    {
     "name": "stdout",
     "output_type": "stream",
     "text": [
      "\n",
      "Training accuracy: 0.23431168339329672 Training loss: 0.007108246212406516\n"
     ]
    },
    {
     "data": {
      "application/vnd.jupyter.widget-view+json": {
       "model_id": "b1b50b5769a846b9b886b9bba18e2a36",
       "version_major": 2,
       "version_minor": 0
      },
      "text/plain": [
       "HBox(children=(FloatProgress(value=0.0, max=10.0), HTML(value='')))"
      ]
     },
     "metadata": {},
     "output_type": "display_data"
    },
    {
     "name": "stdout",
     "output_type": "stream",
     "text": [
      "\n",
      "Validation accuracy: 0.21813224267211997 Validation loss: 0.007306795747571034\n",
      "Temps de l Epoch  37  en secondes: 2.5127601623535156\n",
      "EPOCH: 38\n"
     ]
    },
    {
     "data": {
      "application/vnd.jupyter.widget-view+json": {
       "model_id": "f01226e7025947849ab9d13c587a52df",
       "version_major": 2,
       "version_minor": 0
      },
      "text/plain": [
       "HBox(children=(FloatProgress(value=0.0, max=89.0), HTML(value='')))"
      ]
     },
     "metadata": {},
     "output_type": "display_data"
    },
    {
     "name": "stdout",
     "output_type": "stream",
     "text": [
      "\n",
      "Training accuracy: 0.23313766332134064 Training loss: 0.007119580918788639\n"
     ]
    },
    {
     "data": {
      "application/vnd.jupyter.widget-view+json": {
       "model_id": "2a4050b0f12740aaa7969c8b8ca1459c",
       "version_major": 2,
       "version_minor": 0
      },
      "text/plain": [
       "HBox(children=(FloatProgress(value=0.0, max=10.0), HTML(value='')))"
      ]
     },
     "metadata": {},
     "output_type": "display_data"
    },
    {
     "name": "stdout",
     "output_type": "stream",
     "text": [
      "\n",
      "Validation accuracy: 0.21779141104294478 Validation loss: 0.00729199876245708\n",
      "Temps de l Epoch  38  en secondes: 2.534660816192627\n",
      "EPOCH: 39\n"
     ]
    },
    {
     "data": {
      "application/vnd.jupyter.widget-view+json": {
       "model_id": "c5b778090a88473c8b5dbdbdf8f87bfe",
       "version_major": 2,
       "version_minor": 0
      },
      "text/plain": [
       "HBox(children=(FloatProgress(value=0.0, max=89.0), HTML(value='')))"
      ]
     },
     "metadata": {},
     "output_type": "display_data"
    },
    {
     "name": "stdout",
     "output_type": "stream",
     "text": [
      "\n",
      "Training accuracy: 0.2337057375497065 Training loss: 0.00709190449916014\n"
     ]
    },
    {
     "data": {
      "application/vnd.jupyter.widget-view+json": {
       "model_id": "e938fb4e8a63425d87ea4be47e078500",
       "version_major": 2,
       "version_minor": 0
      },
      "text/plain": [
       "HBox(children=(FloatProgress(value=0.0, max=10.0), HTML(value='')))"
      ]
     },
     "metadata": {},
     "output_type": "display_data"
    },
    {
     "name": "stdout",
     "output_type": "stream",
     "text": [
      "\n",
      "Validation accuracy: 0.2229038854805726 Validation loss: 0.00728558941446524\n",
      "Temps de l Epoch  39  en secondes: 2.5851938724517822\n",
      "EPOCH: 40\n"
     ]
    },
    {
     "data": {
      "application/vnd.jupyter.widget-view+json": {
       "model_id": "931ed7730ead4af491485b721ba692bb",
       "version_major": 2,
       "version_minor": 0
      },
      "text/plain": [
       "HBox(children=(FloatProgress(value=0.0, max=89.0), HTML(value='')))"
      ]
     },
     "metadata": {},
     "output_type": "display_data"
    },
    {
     "name": "stdout",
     "output_type": "stream",
     "text": [
      "\n",
      "Training accuracy: 0.23453891308464306 Training loss: 0.007111522226346259\n"
     ]
    },
    {
     "data": {
      "application/vnd.jupyter.widget-view+json": {
       "model_id": "537305f0727a4830a560d01bc3a90486",
       "version_major": 2,
       "version_minor": 0
      },
      "text/plain": [
       "HBox(children=(FloatProgress(value=0.0, max=10.0), HTML(value='')))"
      ]
     },
     "metadata": {},
     "output_type": "display_data"
    },
    {
     "name": "stdout",
     "output_type": "stream",
     "text": [
      "\n",
      "Validation accuracy: 0.2229038854805726 Validation loss: 0.007281745057083265\n",
      "Temps de l Epoch  40  en secondes: 2.5499651432037354\n",
      "EPOCH: 41\n"
     ]
    },
    {
     "data": {
      "application/vnd.jupyter.widget-view+json": {
       "model_id": "52c09333af2b4e3b8b226efa35423df7",
       "version_major": 2,
       "version_minor": 0
      },
      "text/plain": [
       "HBox(children=(FloatProgress(value=0.0, max=89.0), HTML(value='')))"
      ]
     },
     "metadata": {},
     "output_type": "display_data"
    },
    {
     "name": "stdout",
     "output_type": "stream",
     "text": [
      "\n",
      "Training accuracy: 0.23753077068736983 Training loss: 0.0071105321459055985\n"
     ]
    },
    {
     "data": {
      "application/vnd.jupyter.widget-view+json": {
       "model_id": "d45f36ef25a642a09fdffcd86e94a819",
       "version_major": 2,
       "version_minor": 0
      },
      "text/plain": [
       "HBox(children=(FloatProgress(value=0.0, max=10.0), HTML(value='')))"
      ]
     },
     "metadata": {},
     "output_type": "display_data"
    },
    {
     "name": "stdout",
     "output_type": "stream",
     "text": [
      "\n",
      "Validation accuracy: 0.21370143149284254 Validation loss: 0.007324551674648459\n",
      "Temps de l Epoch  41  en secondes: 2.544832706451416\n",
      "EPOCH: 42\n"
     ]
    },
    {
     "data": {
      "application/vnd.jupyter.widget-view+json": {
       "model_id": "846559c58d84440192df03cfd2472ab5",
       "version_major": 2,
       "version_minor": 0
      },
      "text/plain": [
       "HBox(children=(FloatProgress(value=0.0, max=89.0), HTML(value='')))"
      ]
     },
     "metadata": {},
     "output_type": "display_data"
    },
    {
     "name": "stdout",
     "output_type": "stream",
     "text": [
      "\n",
      "Training accuracy: 0.23612952092406742 Training loss: 0.0070992146719362085\n"
     ]
    },
    {
     "data": {
      "application/vnd.jupyter.widget-view+json": {
       "model_id": "835d269572f04b2e87f34db81113e75e",
       "version_major": 2,
       "version_minor": 0
      },
      "text/plain": [
       "HBox(children=(FloatProgress(value=0.0, max=10.0), HTML(value='')))"
      ]
     },
     "metadata": {},
     "output_type": "display_data"
    },
    {
     "name": "stdout",
     "output_type": "stream",
     "text": [
      "\n",
      "Validation accuracy: 0.21813224267211997 Validation loss: 0.007324875254328753\n",
      "Temps de l Epoch  42  en secondes: 2.513051748275757\n",
      "EPOCH: 43\n"
     ]
    },
    {
     "data": {
      "application/vnd.jupyter.widget-view+json": {
       "model_id": "12c8f0ac3e27419d8ed6e69455d0ace8",
       "version_major": 2,
       "version_minor": 0
      },
      "text/plain": [
       "HBox(children=(FloatProgress(value=0.0, max=89.0), HTML(value='')))"
      ]
     },
     "metadata": {},
     "output_type": "display_data"
    },
    {
     "name": "stdout",
     "output_type": "stream",
     "text": [
      "\n",
      "Training accuracy: 0.23529634538913086 Training loss: 0.007110549911046836\n"
     ]
    },
    {
     "data": {
      "application/vnd.jupyter.widget-view+json": {
       "model_id": "080b68e1bcc8403987a46a0e072293c3",
       "version_major": 2,
       "version_minor": 0
      },
      "text/plain": [
       "HBox(children=(FloatProgress(value=0.0, max=10.0), HTML(value='')))"
      ]
     },
     "metadata": {},
     "output_type": "display_data"
    },
    {
     "name": "stdout",
     "output_type": "stream",
     "text": [
      "\n",
      "Validation accuracy: 0.2147239263803681 Validation loss: 0.0072971241930836145\n",
      "Temps de l Epoch  43  en secondes: 2.5924601554870605\n",
      "EPOCH: 44\n"
     ]
    },
    {
     "data": {
      "application/vnd.jupyter.widget-view+json": {
       "model_id": "6a22263ebf1a4501b335639530924c42",
       "version_major": 2,
       "version_minor": 0
      },
      "text/plain": [
       "HBox(children=(FloatProgress(value=0.0, max=89.0), HTML(value='')))"
      ]
     },
     "metadata": {},
     "output_type": "display_data"
    },
    {
     "name": "stdout",
     "output_type": "stream",
     "text": [
      "\n",
      "Training accuracy: 0.2344252982389699 Training loss: 0.007092783058757381\n"
     ]
    },
    {
     "data": {
      "application/vnd.jupyter.widget-view+json": {
       "model_id": "e13782f9295d47e5973e7cf59fc59b5f",
       "version_major": 2,
       "version_minor": 0
      },
      "text/plain": [
       "HBox(children=(FloatProgress(value=0.0, max=10.0), HTML(value='')))"
      ]
     },
     "metadata": {},
     "output_type": "display_data"
    },
    {
     "name": "stdout",
     "output_type": "stream",
     "text": [
      "\n",
      "Validation accuracy: 0.21847307430129517 Validation loss: 0.007297056665531047\n",
      "Temps de l Epoch  44  en secondes: 2.5291824340820312\n",
      "EPOCH: 45\n"
     ]
    },
    {
     "data": {
      "application/vnd.jupyter.widget-view+json": {
       "model_id": "a5f317067b9c47d9af755c1408824750",
       "version_major": 2,
       "version_minor": 0
      },
      "text/plain": [
       "HBox(children=(FloatProgress(value=0.0, max=89.0), HTML(value='')))"
      ]
     },
     "metadata": {},
     "output_type": "display_data"
    },
    {
     "name": "stdout",
     "output_type": "stream",
     "text": [
      "\n",
      "Training accuracy: 0.23487975762166258 Training loss: 0.007090644659451566\n"
     ]
    },
    {
     "data": {
      "application/vnd.jupyter.widget-view+json": {
       "model_id": "524c907ba06f4c29a0acfbbc5ac68e3f",
       "version_major": 2,
       "version_minor": 0
      },
      "text/plain": [
       "HBox(children=(FloatProgress(value=0.0, max=10.0), HTML(value='')))"
      ]
     },
     "metadata": {},
     "output_type": "display_data"
    },
    {
     "name": "stdout",
     "output_type": "stream",
     "text": [
      "\n",
      "Validation accuracy: 0.21915473755964554 Validation loss: 0.007301647970281495\n",
      "Temps de l Epoch  45  en secondes: 2.605595588684082\n",
      "EPOCH: 46\n"
     ]
    },
    {
     "data": {
      "application/vnd.jupyter.widget-view+json": {
       "model_id": "f0f3640112444a4a8a46ffe3cce68f31",
       "version_major": 2,
       "version_minor": 0
      },
      "text/plain": [
       "HBox(children=(FloatProgress(value=0.0, max=89.0), HTML(value='')))"
      ]
     },
     "metadata": {},
     "output_type": "display_data"
    },
    {
     "name": "stdout",
     "output_type": "stream",
     "text": [
      "\n",
      "Training accuracy: 0.2347661427759894 Training loss: 0.007100770491990283\n"
     ]
    },
    {
     "data": {
      "application/vnd.jupyter.widget-view+json": {
       "model_id": "ec7767a5da9747a79d97eb8d35cb7823",
       "version_major": 2,
       "version_minor": 0
      },
      "text/plain": [
       "HBox(children=(FloatProgress(value=0.0, max=10.0), HTML(value='')))"
      ]
     },
     "metadata": {},
     "output_type": "display_data"
    },
    {
     "name": "stdout",
     "output_type": "stream",
     "text": [
      "\n",
      "Validation accuracy: 0.21847307430129517 Validation loss: 0.007278848523255018\n",
      "Temps de l Epoch  46  en secondes: 2.5477311611175537\n",
      "EPOCH: 47\n"
     ]
    },
    {
     "data": {
      "application/vnd.jupyter.widget-view+json": {
       "model_id": "dfee026f5c184a65b18bb7aa254051b9",
       "version_major": 2,
       "version_minor": 0
      },
      "text/plain": [
       "HBox(children=(FloatProgress(value=0.0, max=89.0), HTML(value='')))"
      ]
     },
     "metadata": {},
     "output_type": "display_data"
    },
    {
     "name": "stdout",
     "output_type": "stream",
     "text": [
      "\n",
      "Training accuracy: 0.23457678469986745 Training loss: 0.007084029381348765\n"
     ]
    },
    {
     "data": {
      "application/vnd.jupyter.widget-view+json": {
       "model_id": "8a7cba0aabe94111b3f328eb3dfaab47",
       "version_major": 2,
       "version_minor": 0
      },
      "text/plain": [
       "HBox(children=(FloatProgress(value=0.0, max=10.0), HTML(value='')))"
      ]
     },
     "metadata": {},
     "output_type": "display_data"
    },
    {
     "name": "stdout",
     "output_type": "stream",
     "text": [
      "\n",
      "Validation accuracy: 0.2143830947511929 Validation loss: 0.00729868919083921\n",
      "Temps de l Epoch  47  en secondes: 2.578101396560669\n",
      "EPOCH: 48\n"
     ]
    },
    {
     "data": {
      "application/vnd.jupyter.widget-view+json": {
       "model_id": "1776c2607086482c9b85b6324b2b13e7",
       "version_major": 2,
       "version_minor": 0
      },
      "text/plain": [
       "HBox(children=(FloatProgress(value=0.0, max=89.0), HTML(value='')))"
      ]
     },
     "metadata": {},
     "output_type": "display_data"
    },
    {
     "name": "stdout",
     "output_type": "stream",
     "text": [
      "\n",
      "Training accuracy: 0.2375686423025942 Training loss: 0.007074328088281823\n"
     ]
    },
    {
     "data": {
      "application/vnd.jupyter.widget-view+json": {
       "model_id": "5dc10fb665ec4149904457238ba2eb69",
       "version_major": 2,
       "version_minor": 0
      },
      "text/plain": [
       "HBox(children=(FloatProgress(value=0.0, max=10.0), HTML(value='')))"
      ]
     },
     "metadata": {},
     "output_type": "display_data"
    },
    {
     "name": "stdout",
     "output_type": "stream",
     "text": [
      "\n",
      "Validation accuracy: 0.2113156100886162 Validation loss: 0.0073007145298526815\n",
      "Temps de l Epoch  48  en secondes: 2.5578081607818604\n",
      "EPOCH: 49\n"
     ]
    },
    {
     "data": {
      "application/vnd.jupyter.widget-view+json": {
       "model_id": "788585c7b910452c90c11aadaa4fe4e5",
       "version_major": 2,
       "version_minor": 0
      },
      "text/plain": [
       "HBox(children=(FloatProgress(value=0.0, max=89.0), HTML(value='')))"
      ]
     },
     "metadata": {},
     "output_type": "display_data"
    },
    {
     "name": "stdout",
     "output_type": "stream",
     "text": [
      "\n",
      "Training accuracy: 0.23851543268320394 Training loss: 0.007077948782078765\n"
     ]
    },
    {
     "data": {
      "application/vnd.jupyter.widget-view+json": {
       "model_id": "3ce52437450d4f589aee9a3a17e94bb2",
       "version_major": 2,
       "version_minor": 0
      },
      "text/plain": [
       "HBox(children=(FloatProgress(value=0.0, max=10.0), HTML(value='')))"
      ]
     },
     "metadata": {},
     "output_type": "display_data"
    },
    {
     "name": "stdout",
     "output_type": "stream",
     "text": [
      "\n",
      "Validation accuracy: 0.2171097477845944 Validation loss: 0.007291695091622008\n",
      "Temps de l Epoch  49  en secondes: 2.6873552799224854\n",
      "EPOCH: 50\n"
     ]
    },
    {
     "data": {
      "application/vnd.jupyter.widget-view+json": {
       "model_id": "17f7d7067e4e416eb39bd07cd3ebce9f",
       "version_major": 2,
       "version_minor": 0
      },
      "text/plain": [
       "HBox(children=(FloatProgress(value=0.0, max=89.0), HTML(value='')))"
      ]
     },
     "metadata": {},
     "output_type": "display_data"
    },
    {
     "name": "stdout",
     "output_type": "stream",
     "text": [
      "\n",
      "Training accuracy: 0.2379473584548381 Training loss: 0.007082093608489973\n"
     ]
    },
    {
     "data": {
      "application/vnd.jupyter.widget-view+json": {
       "model_id": "17fca1edeebe48f5b84fe20169d5c8b4",
       "version_major": 2,
       "version_minor": 0
      },
      "text/plain": [
       "HBox(children=(FloatProgress(value=0.0, max=10.0), HTML(value='')))"
      ]
     },
     "metadata": {},
     "output_type": "display_data"
    },
    {
     "name": "stdout",
     "output_type": "stream",
     "text": [
      "\n",
      "Validation accuracy: 0.2201772324471711 Validation loss: 0.007291837703962268\n",
      "Temps de l Epoch  50  en secondes: 2.5668530464172363\n",
      "EPOCH: 51\n"
     ]
    },
    {
     "data": {
      "application/vnd.jupyter.widget-view+json": {
       "model_id": "7bed1e6f3b0d41c4bd00167b23a5fa1c",
       "version_major": 2,
       "version_minor": 0
      },
      "text/plain": [
       "HBox(children=(FloatProgress(value=0.0, max=89.0), HTML(value='')))"
      ]
     },
     "metadata": {},
     "output_type": "display_data"
    },
    {
     "name": "stdout",
     "output_type": "stream",
     "text": [
      "\n",
      "Training accuracy: 0.23609164930884302 Training loss: 0.007075764685502401\n"
     ]
    },
    {
     "data": {
      "application/vnd.jupyter.widget-view+json": {
       "model_id": "379ebbcc7afa472494ad13c7b78815bd",
       "version_major": 2,
       "version_minor": 0
      },
      "text/plain": [
       "HBox(children=(FloatProgress(value=0.0, max=10.0), HTML(value='')))"
      ]
     },
     "metadata": {},
     "output_type": "display_data"
    },
    {
     "name": "stdout",
     "output_type": "stream",
     "text": [
      "\n",
      "Validation accuracy: 0.2092706203135651 Validation loss: 0.007313137649270898\n",
      "Temps de l Epoch  51  en secondes: 2.5729172229766846\n",
      "EPOCH: 52\n"
     ]
    },
    {
     "data": {
      "application/vnd.jupyter.widget-view+json": {
       "model_id": "bcde99d2a48f407d945b2e675b42abd9",
       "version_major": 2,
       "version_minor": 0
      },
      "text/plain": [
       "HBox(children=(FloatProgress(value=0.0, max=89.0), HTML(value='')))"
      ]
     },
     "metadata": {},
     "output_type": "display_data"
    },
    {
     "name": "stdout",
     "output_type": "stream",
     "text": [
      "\n",
      "Training accuracy: 0.23859117591365273 Training loss: 0.007082860376364895\n"
     ]
    },
    {
     "data": {
      "application/vnd.jupyter.widget-view+json": {
       "model_id": "0df2ab54b863490b91cd8bed946bbc30",
       "version_major": 2,
       "version_minor": 0
      },
      "text/plain": [
       "HBox(children=(FloatProgress(value=0.0, max=10.0), HTML(value='')))"
      ]
     },
     "metadata": {},
     "output_type": "display_data"
    },
    {
     "name": "stdout",
     "output_type": "stream",
     "text": [
      "\n",
      "Validation accuracy: 0.21847307430129517 Validation loss: 0.0073040241925344225\n",
      "Temps de l Epoch  52  en secondes: 2.565416097640991\n",
      "EPOCH: 53\n"
     ]
    },
    {
     "data": {
      "application/vnd.jupyter.widget-view+json": {
       "model_id": "59f0e5c4bb35465a958d318b83d1969c",
       "version_major": 2,
       "version_minor": 0
      },
      "text/plain": [
       "HBox(children=(FloatProgress(value=0.0, max=89.0), HTML(value='')))"
      ]
     },
     "metadata": {},
     "output_type": "display_data"
    },
    {
     "name": "stdout",
     "output_type": "stream",
     "text": [
      "\n",
      "Training accuracy: 0.23889414883544782 Training loss: 0.007065100616587989\n"
     ]
    },
    {
     "data": {
      "application/vnd.jupyter.widget-view+json": {
       "model_id": "f86e4a43ade6406a87be08ca3ac47285",
       "version_major": 2,
       "version_minor": 0
      },
      "text/plain": [
       "HBox(children=(FloatProgress(value=0.0, max=10.0), HTML(value='')))"
      ]
     },
     "metadata": {},
     "output_type": "display_data"
    },
    {
     "name": "stdout",
     "output_type": "stream",
     "text": [
      "\n",
      "Validation accuracy: 0.22154055896387184 Validation loss: 0.007288093703412327\n",
      "Temps de l Epoch  53  en secondes: 2.5597150325775146\n",
      "EPOCH: 54\n"
     ]
    },
    {
     "data": {
      "application/vnd.jupyter.widget-view+json": {
       "model_id": "cb5074e3eaa144218ea5d7c4e0e3da07",
       "version_major": 2,
       "version_minor": 0
      },
      "text/plain": [
       "HBox(children=(FloatProgress(value=0.0, max=89.0), HTML(value='')))"
      ]
     },
     "metadata": {},
     "output_type": "display_data"
    },
    {
     "name": "stdout",
     "output_type": "stream",
     "text": [
      "\n",
      "Training accuracy: 0.24090134444234046 Training loss: 0.007073321732533879\n"
     ]
    },
    {
     "data": {
      "application/vnd.jupyter.widget-view+json": {
       "model_id": "d166a813d4d540fcb33b7c772e471ff3",
       "version_major": 2,
       "version_minor": 0
      },
      "text/plain": [
       "HBox(children=(FloatProgress(value=0.0, max=10.0), HTML(value='')))"
      ]
     },
     "metadata": {},
     "output_type": "display_data"
    },
    {
     "name": "stdout",
     "output_type": "stream",
     "text": [
      "\n",
      "Validation accuracy: 0.2143830947511929 Validation loss: 0.0073114002977980996\n",
      "Temps de l Epoch  54  en secondes: 2.513664484024048\n",
      "EPOCH: 55\n"
     ]
    },
    {
     "data": {
      "application/vnd.jupyter.widget-view+json": {
       "model_id": "e9b422d5704f4bb187ca41dff6773f56",
       "version_major": 2,
       "version_minor": 0
      },
      "text/plain": [
       "HBox(children=(FloatProgress(value=0.0, max=89.0), HTML(value='')))"
      ]
     },
     "metadata": {},
     "output_type": "display_data"
    },
    {
     "name": "stdout",
     "output_type": "stream",
     "text": [
      "\n",
      "Training accuracy: 0.23965158113993562 Training loss: 0.007062842195355921\n"
     ]
    },
    {
     "data": {
      "application/vnd.jupyter.widget-view+json": {
       "model_id": "ba9a4b6073ee48c098a7d29f75cb2a52",
       "version_major": 2,
       "version_minor": 0
      },
      "text/plain": [
       "HBox(children=(FloatProgress(value=0.0, max=10.0), HTML(value='')))"
      ]
     },
     "metadata": {},
     "output_type": "display_data"
    },
    {
     "name": "stdout",
     "output_type": "stream",
     "text": [
      "\n",
      "Validation accuracy: 0.21540558963871848 Validation loss: 0.007312547859888785\n",
      "Temps de l Epoch  55  en secondes: 2.5649795532226562\n",
      "EPOCH: 56\n"
     ]
    },
    {
     "data": {
      "application/vnd.jupyter.widget-view+json": {
       "model_id": "94f733c1e56548c29d075d4c6f3b33cd",
       "version_major": 2,
       "version_minor": 0
      },
      "text/plain": [
       "HBox(children=(FloatProgress(value=0.0, max=89.0), HTML(value='')))"
      ]
     },
     "metadata": {},
     "output_type": "display_data"
    },
    {
     "name": "stdout",
     "output_type": "stream",
     "text": [
      "\n",
      "Training accuracy: 0.23859117591365273 Training loss: 0.0070593286115909655\n"
     ]
    },
    {
     "data": {
      "application/vnd.jupyter.widget-view+json": {
       "model_id": "c09e6736869144058d2ebfb03a421be4",
       "version_major": 2,
       "version_minor": 0
      },
      "text/plain": [
       "HBox(children=(FloatProgress(value=0.0, max=10.0), HTML(value='')))"
      ]
     },
     "metadata": {},
     "output_type": "display_data"
    },
    {
     "name": "stdout",
     "output_type": "stream",
     "text": [
      "\n",
      "Validation accuracy: 0.21847307430129517 Validation loss: 0.007296021080537157\n",
      "Temps de l Epoch  56  en secondes: 2.546550989151001\n",
      "EPOCH: 57\n"
     ]
    },
    {
     "data": {
      "application/vnd.jupyter.widget-view+json": {
       "model_id": "b72d9d45fe02454fb2b5a674353f31f2",
       "version_major": 2,
       "version_minor": 0
      },
      "text/plain": [
       "HBox(children=(FloatProgress(value=0.0, max=89.0), HTML(value='')))"
      ]
     },
     "metadata": {},
     "output_type": "display_data"
    },
    {
     "name": "stdout",
     "output_type": "stream",
     "text": [
      "\n",
      "Training accuracy: 0.2389698920658966 Training loss: 0.00707860301331439\n"
     ]
    },
    {
     "data": {
      "application/vnd.jupyter.widget-view+json": {
       "model_id": "5764f754d2444439aebb89820584b137",
       "version_major": 2,
       "version_minor": 0
      },
      "text/plain": [
       "HBox(children=(FloatProgress(value=0.0, max=10.0), HTML(value='')))"
      ]
     },
     "metadata": {},
     "output_type": "display_data"
    },
    {
     "name": "stdout",
     "output_type": "stream",
     "text": [
      "\n",
      "Validation accuracy: 0.21540558963871848 Validation loss: 0.007304132837946917\n",
      "Temps de l Epoch  57  en secondes: 2.563795566558838\n",
      "EPOCH: 58\n"
     ]
    },
    {
     "data": {
      "application/vnd.jupyter.widget-view+json": {
       "model_id": "f5b804ad92294e3bbd9e085c4ae51903",
       "version_major": 2,
       "version_minor": 0
      },
      "text/plain": [
       "HBox(children=(FloatProgress(value=0.0, max=89.0), HTML(value='')))"
      ]
     },
     "metadata": {},
     "output_type": "display_data"
    },
    {
     "name": "stdout",
     "output_type": "stream",
     "text": [
      "\n",
      "Training accuracy: 0.23772012876349177 Training loss: 0.007073918799292159\n"
     ]
    },
    {
     "data": {
      "application/vnd.jupyter.widget-view+json": {
       "model_id": "2638454ab7d0423a9e1f4836e909448d",
       "version_major": 2,
       "version_minor": 0
      },
      "text/plain": [
       "HBox(children=(FloatProgress(value=0.0, max=10.0), HTML(value='')))"
      ]
     },
     "metadata": {},
     "output_type": "display_data"
    },
    {
     "name": "stdout",
     "output_type": "stream",
     "text": [
      "\n",
      "Validation accuracy: 0.21029311520109067 Validation loss: 0.007315445937668294\n",
      "Temps de l Epoch  58  en secondes: 2.553521156311035\n",
      "EPOCH: 59\n"
     ]
    },
    {
     "data": {
      "application/vnd.jupyter.widget-view+json": {
       "model_id": "c4fda3b43d844c8c83e8732ba7f70108",
       "version_major": 2,
       "version_minor": 0
      },
      "text/plain": [
       "HBox(children=(FloatProgress(value=0.0, max=89.0), HTML(value='')))"
      ]
     },
     "metadata": {},
     "output_type": "display_data"
    },
    {
     "name": "stdout",
     "output_type": "stream",
     "text": [
      "\n",
      "Training accuracy: 0.23772012876349177 Training loss: 0.007070997767637138\n"
     ]
    },
    {
     "data": {
      "application/vnd.jupyter.widget-view+json": {
       "model_id": "a4e9235bb1fb4554b59ba5f251b41fd3",
       "version_major": 2,
       "version_minor": 0
      },
      "text/plain": [
       "HBox(children=(FloatProgress(value=0.0, max=10.0), HTML(value='')))"
      ]
     },
     "metadata": {},
     "output_type": "display_data"
    },
    {
     "name": "stdout",
     "output_type": "stream",
     "text": [
      "\n",
      "Validation accuracy: 0.2171097477845944 Validation loss: 0.0073079064173526154\n",
      "Temps de l Epoch  59  en secondes: 2.5405638217926025\n",
      "EPOCH: 60\n"
     ]
    },
    {
     "data": {
      "application/vnd.jupyter.widget-view+json": {
       "model_id": "ecb63851193349e69802c584fe7f0685",
       "version_major": 2,
       "version_minor": 0
      },
      "text/plain": [
       "HBox(children=(FloatProgress(value=0.0, max=89.0), HTML(value='')))"
      ]
     },
     "metadata": {},
     "output_type": "display_data"
    },
    {
     "name": "stdout",
     "output_type": "stream",
     "text": [
      "\n",
      "Training accuracy: 0.2383639462223064 Training loss: 0.007063367763628361\n"
     ]
    },
    {
     "data": {
      "application/vnd.jupyter.widget-view+json": {
       "model_id": "1bc8aceab3cd48698e6acb090daea22f",
       "version_major": 2,
       "version_minor": 0
      },
      "text/plain": [
       "HBox(children=(FloatProgress(value=0.0, max=10.0), HTML(value='')))"
      ]
     },
     "metadata": {},
     "output_type": "display_data"
    },
    {
     "name": "stdout",
     "output_type": "stream",
     "text": [
      "\n",
      "Validation accuracy: 0.22154055896387184 Validation loss: 0.007307771768550444\n",
      "Temps de l Epoch  60  en secondes: 2.542037010192871\n",
      "EPOCH: 61\n"
     ]
    },
    {
     "data": {
      "application/vnd.jupyter.widget-view+json": {
       "model_id": "5927291c7f294be0b3c93d737f518804",
       "version_major": 2,
       "version_minor": 0
      },
      "text/plain": [
       "HBox(children=(FloatProgress(value=0.0, max=89.0), HTML(value='')))"
      ]
     },
     "metadata": {},
     "output_type": "display_data"
    },
    {
     "name": "stdout",
     "output_type": "stream",
     "text": [
      "\n",
      "Training accuracy: 0.23688695322855519 Training loss: 0.007089035097023593\n"
     ]
    },
    {
     "data": {
      "application/vnd.jupyter.widget-view+json": {
       "model_id": "384fc03767cf4d71a14ff74a8c1ce259",
       "version_major": 2,
       "version_minor": 0
      },
      "text/plain": [
       "HBox(children=(FloatProgress(value=0.0, max=10.0), HTML(value='')))"
      ]
     },
     "metadata": {},
     "output_type": "display_data"
    },
    {
     "name": "stdout",
     "output_type": "stream",
     "text": [
      "\n",
      "Validation accuracy: 0.22085889570552147 Validation loss: 0.007315805515791172\n",
      "Temps de l Epoch  61  en secondes: 2.603693962097168\n",
      "EPOCH: 62\n"
     ]
    },
    {
     "data": {
      "application/vnd.jupyter.widget-view+json": {
       "model_id": "ad87477904764a59a51ba6912499fec5",
       "version_major": 2,
       "version_minor": 0
      },
      "text/plain": [
       "HBox(children=(FloatProgress(value=0.0, max=89.0), HTML(value='')))"
      ]
     },
     "metadata": {},
     "output_type": "display_data"
    },
    {
     "name": "stdout",
     "output_type": "stream",
     "text": [
      "\n",
      "Training accuracy: 0.2390456352963454 Training loss: 0.007060900106504094\n"
     ]
    },
    {
     "data": {
      "application/vnd.jupyter.widget-view+json": {
       "model_id": "4c64c2a4092141338e9d479e02048453",
       "version_major": 2,
       "version_minor": 0
      },
      "text/plain": [
       "HBox(children=(FloatProgress(value=0.0, max=10.0), HTML(value='')))"
      ]
     },
     "metadata": {},
     "output_type": "display_data"
    },
    {
     "name": "stdout",
     "output_type": "stream",
     "text": [
      "\n",
      "Validation accuracy: 0.22119972733469667 Validation loss: 0.007316255943256735\n",
      "Temps de l Epoch  62  en secondes: 2.547607183456421\n",
      "EPOCH: 63\n"
     ]
    },
    {
     "data": {
      "application/vnd.jupyter.widget-view+json": {
       "model_id": "362bb87e90cc44aeaa033b9fdaad89e6",
       "version_major": 2,
       "version_minor": 0
      },
      "text/plain": [
       "HBox(children=(FloatProgress(value=0.0, max=89.0), HTML(value='')))"
      ]
     },
     "metadata": {},
     "output_type": "display_data"
    },
    {
     "name": "stdout",
     "output_type": "stream",
     "text": [
      "\n",
      "Training accuracy: 0.24067411475099412 Training loss: 0.007036895454889264\n"
     ]
    },
    {
     "data": {
      "application/vnd.jupyter.widget-view+json": {
       "model_id": "a6cc5e033e1b40eebd0fecccc1455331",
       "version_major": 2,
       "version_minor": 0
      },
      "text/plain": [
       "HBox(children=(FloatProgress(value=0.0, max=10.0), HTML(value='')))"
      ]
     },
     "metadata": {},
     "output_type": "display_data"
    },
    {
     "name": "stdout",
     "output_type": "stream",
     "text": [
      "\n",
      "Validation accuracy: 0.2167689161554192 Validation loss: 0.007309605738868011\n",
      "Temps de l Epoch  63  en secondes: 2.6518795490264893\n",
      "EPOCH: 64\n"
     ]
    },
    {
     "data": {
      "application/vnd.jupyter.widget-view+json": {
       "model_id": "623f217047cb4a22b5f98ca1217e3fb3",
       "version_major": 2,
       "version_minor": 0
      },
      "text/plain": [
       "HBox(children=(FloatProgress(value=0.0, max=89.0), HTML(value='')))"
      ]
     },
     "metadata": {},
     "output_type": "display_data"
    },
    {
     "name": "stdout",
     "output_type": "stream",
     "text": [
      "\n",
      "Training accuracy: 0.24021965536830145 Training loss: 0.007035794932606139\n"
     ]
    },
    {
     "data": {
      "application/vnd.jupyter.widget-view+json": {
       "model_id": "0787fc7caaf5430bb02823c8bcd9afdb",
       "version_major": 2,
       "version_minor": 0
      },
      "text/plain": [
       "HBox(children=(FloatProgress(value=0.0, max=10.0), HTML(value='')))"
      ]
     },
     "metadata": {},
     "output_type": "display_data"
    },
    {
     "name": "stdout",
     "output_type": "stream",
     "text": [
      "\n",
      "Validation accuracy: 0.21608725289706884 Validation loss: 0.007323995120848777\n",
      "Temps de l Epoch  64  en secondes: 2.5448436737060547\n",
      "EPOCH: 65\n"
     ]
    },
    {
     "data": {
      "application/vnd.jupyter.widget-view+json": {
       "model_id": "3f4450704046405ab737f4bbd1718fb0",
       "version_major": 2,
       "version_minor": 0
      },
      "text/plain": [
       "HBox(children=(FloatProgress(value=0.0, max=89.0), HTML(value='')))"
      ]
     },
     "metadata": {},
     "output_type": "display_data"
    },
    {
     "name": "stdout",
     "output_type": "stream",
     "text": [
      "\n",
      "Training accuracy: 0.24029539859875024 Training loss: 0.007028661129082317\n"
     ]
    },
    {
     "data": {
      "application/vnd.jupyter.widget-view+json": {
       "model_id": "1b54e3343faa45d1a115efe7396039d2",
       "version_major": 2,
       "version_minor": 0
      },
      "text/plain": [
       "HBox(children=(FloatProgress(value=0.0, max=10.0), HTML(value='')))"
      ]
     },
     "metadata": {},
     "output_type": "display_data"
    },
    {
     "name": "stdout",
     "output_type": "stream",
     "text": [
      "\n",
      "Validation accuracy: 0.21370143149284254 Validation loss: 0.007330105673641109\n",
      "Temps de l Epoch  65  en secondes: 2.518012523651123\n",
      "EPOCH: 66\n"
     ]
    },
    {
     "data": {
      "application/vnd.jupyter.widget-view+json": {
       "model_id": "729e29780be040b3ab0124388002dfdd",
       "version_major": 2,
       "version_minor": 0
      },
      "text/plain": [
       "HBox(children=(FloatProgress(value=0.0, max=89.0), HTML(value='')))"
      ]
     },
     "metadata": {},
     "output_type": "display_data"
    },
    {
     "name": "stdout",
     "output_type": "stream",
     "text": [
      "\n",
      "Training accuracy: 0.24249195228176482 Training loss: 0.007046801667844588\n"
     ]
    },
    {
     "data": {
      "application/vnd.jupyter.widget-view+json": {
       "model_id": "8c2d84b5d03c44d187f79f7e50aae2ec",
       "version_major": 2,
       "version_minor": 0
      },
      "text/plain": [
       "HBox(children=(FloatProgress(value=0.0, max=10.0), HTML(value='')))"
      ]
     },
     "metadata": {},
     "output_type": "display_data"
    },
    {
     "name": "stdout",
     "output_type": "stream",
     "text": [
      "\n",
      "Validation accuracy: 0.2140422631220177 Validation loss: 0.007334388919484477\n",
      "Temps de l Epoch  66  en secondes: 2.496385335922241\n",
      "EPOCH: 67\n"
     ]
    },
    {
     "data": {
      "application/vnd.jupyter.widget-view+json": {
       "model_id": "d1b1cbddf659482584e29a8bb785563b",
       "version_major": 2,
       "version_minor": 0
      },
      "text/plain": [
       "HBox(children=(FloatProgress(value=0.0, max=89.0), HTML(value='')))"
      ]
     },
     "metadata": {},
     "output_type": "display_data"
    },
    {
     "name": "stdout",
     "output_type": "stream",
     "text": [
      "\n",
      "Training accuracy: 0.24449914788865745 Training loss: 0.007017979651683886\n"
     ]
    },
    {
     "data": {
      "application/vnd.jupyter.widget-view+json": {
       "model_id": "3724b3dba6c4486f8173fc1b1b5b7788",
       "version_major": 2,
       "version_minor": 0
      },
      "text/plain": [
       "HBox(children=(FloatProgress(value=0.0, max=10.0), HTML(value='')))"
      ]
     },
     "metadata": {},
     "output_type": "display_data"
    },
    {
     "name": "stdout",
     "output_type": "stream",
     "text": [
      "\n",
      "Validation accuracy: 0.20824812542603954 Validation loss: 0.007348154138852401\n",
      "Temps de l Epoch  67  en secondes: 2.509192943572998\n",
      "EPOCH: 68\n"
     ]
    },
    {
     "data": {
      "application/vnd.jupyter.widget-view+json": {
       "model_id": "7a3ea281e785495689b23e6418b0c930",
       "version_major": 2,
       "version_minor": 0
      },
      "text/plain": [
       "HBox(children=(FloatProgress(value=0.0, max=89.0), HTML(value='')))"
      ]
     },
     "metadata": {},
     "output_type": "display_data"
    },
    {
     "name": "stdout",
     "output_type": "stream",
     "text": [
      "\n",
      "Training accuracy: 0.24105283090323804 Training loss: 0.0070346231104817\n"
     ]
    },
    {
     "data": {
      "application/vnd.jupyter.widget-view+json": {
       "model_id": "56a982d0a9ec4c0f9b5f374d6213d1c6",
       "version_major": 2,
       "version_minor": 0
      },
      "text/plain": [
       "HBox(children=(FloatProgress(value=0.0, max=10.0), HTML(value='')))"
      ]
     },
     "metadata": {},
     "output_type": "display_data"
    },
    {
     "name": "stdout",
     "output_type": "stream",
     "text": [
      "\n",
      "Validation accuracy: 0.2140422631220177 Validation loss: 0.007334503659441427\n",
      "Temps de l Epoch  68  en secondes: 2.505411148071289\n",
      "EPOCH: 69\n"
     ]
    },
    {
     "data": {
      "application/vnd.jupyter.widget-view+json": {
       "model_id": "72c0345891b54888898e3ad3f023569a",
       "version_major": 2,
       "version_minor": 0
      },
      "text/plain": [
       "HBox(children=(FloatProgress(value=0.0, max=89.0), HTML(value='')))"
      ]
     },
     "metadata": {},
     "output_type": "display_data"
    },
    {
     "name": "stdout",
     "output_type": "stream",
     "text": [
      "\n",
      "Training accuracy: 0.2400302972921795 Training loss: 0.007044042572111055\n"
     ]
    },
    {
     "data": {
      "application/vnd.jupyter.widget-view+json": {
       "model_id": "b28e4e18cda84904906fe2098be8f95c",
       "version_major": 2,
       "version_minor": 0
      },
      "text/plain": [
       "HBox(children=(FloatProgress(value=0.0, max=10.0), HTML(value='')))"
      ]
     },
     "metadata": {},
     "output_type": "display_data"
    },
    {
     "name": "stdout",
     "output_type": "stream",
     "text": [
      "\n",
      "Validation accuracy: 0.21574642126789367 Validation loss: 0.007322251024746781\n",
      "Temps de l Epoch  69  en secondes: 2.532411813735962\n",
      "EPOCH: 70\n"
     ]
    },
    {
     "data": {
      "application/vnd.jupyter.widget-view+json": {
       "model_id": "52acd9c941ce48d7b43aa7b44e125a6c",
       "version_major": 2,
       "version_minor": 0
      },
      "text/plain": [
       "HBox(children=(FloatProgress(value=0.0, max=89.0), HTML(value='')))"
      ]
     },
     "metadata": {},
     "output_type": "display_data"
    },
    {
     "name": "stdout",
     "output_type": "stream",
     "text": [
      "\n",
      "Training accuracy: 0.241923878053399 Training loss: 0.007028816442014683\n"
     ]
    },
    {
     "data": {
      "application/vnd.jupyter.widget-view+json": {
       "model_id": "f891d934543246ee84776e7c51d3324e",
       "version_major": 2,
       "version_minor": 0
      },
      "text/plain": [
       "HBox(children=(FloatProgress(value=0.0, max=10.0), HTML(value='')))"
      ]
     },
     "metadata": {},
     "output_type": "display_data"
    },
    {
     "name": "stdout",
     "output_type": "stream",
     "text": [
      "\n",
      "Validation accuracy: 0.21506475800954328 Validation loss: 0.007326106514829962\n",
      "Temps de l Epoch  70  en secondes: 2.509171962738037\n",
      "EPOCH: 71\n"
     ]
    },
    {
     "data": {
      "application/vnd.jupyter.widget-view+json": {
       "model_id": "a4b6f87914064c76878ad0382461d05d",
       "version_major": 2,
       "version_minor": 0
      },
      "text/plain": [
       "HBox(children=(FloatProgress(value=0.0, max=89.0), HTML(value='')))"
      ]
     },
     "metadata": {},
     "output_type": "display_data"
    },
    {
     "name": "stdout",
     "output_type": "stream",
     "text": [
      "\n",
      "Training accuracy: 0.2418102632077258 Training loss: 0.007037007964440671\n"
     ]
    },
    {
     "data": {
      "application/vnd.jupyter.widget-view+json": {
       "model_id": "abb787584dd04970aa59300c55863e24",
       "version_major": 2,
       "version_minor": 0
      },
      "text/plain": [
       "HBox(children=(FloatProgress(value=0.0, max=10.0), HTML(value='')))"
      ]
     },
     "metadata": {},
     "output_type": "display_data"
    },
    {
     "name": "stdout",
     "output_type": "stream",
     "text": [
      "\n",
      "Validation accuracy: 0.21779141104294478 Validation loss: 0.007326895798967253\n",
      "Temps de l Epoch  71  en secondes: 2.5250961780548096\n",
      "EPOCH: 72\n"
     ]
    },
    {
     "data": {
      "application/vnd.jupyter.widget-view+json": {
       "model_id": "8067cf7e1c4840cf80148d6a7ae14674",
       "version_major": 2,
       "version_minor": 0
      },
      "text/plain": [
       "HBox(children=(FloatProgress(value=0.0, max=89.0), HTML(value='')))"
      ]
     },
     "metadata": {},
     "output_type": "display_data"
    },
    {
     "name": "stdout",
     "output_type": "stream",
     "text": [
      "\n",
      "Training accuracy: 0.24067411475099412 Training loss: 0.007051525877136508\n"
     ]
    },
    {
     "data": {
      "application/vnd.jupyter.widget-view+json": {
       "model_id": "70f717dae1724e6caf700e89ab82c49e",
       "version_major": 2,
       "version_minor": 0
      },
      "text/plain": [
       "HBox(children=(FloatProgress(value=0.0, max=10.0), HTML(value='')))"
      ]
     },
     "metadata": {},
     "output_type": "display_data"
    },
    {
     "name": "stdout",
     "output_type": "stream",
     "text": [
      "\n",
      "Validation accuracy: 0.20995228357191548 Validation loss: 0.007332965965244993\n",
      "Temps de l Epoch  72  en secondes: 2.523070812225342\n",
      "EPOCH: 73\n"
     ]
    },
    {
     "data": {
      "application/vnd.jupyter.widget-view+json": {
       "model_id": "72d0a4e3e1764f8b86424f27ffccd63d",
       "version_major": 2,
       "version_minor": 0
      },
      "text/plain": [
       "HBox(children=(FloatProgress(value=0.0, max=89.0), HTML(value='')))"
      ]
     },
     "metadata": {},
     "output_type": "display_data"
    },
    {
     "name": "stdout",
     "output_type": "stream",
     "text": [
      "\n",
      "Training accuracy: 0.2436281007384965 Training loss: 0.007019404921651767\n"
     ]
    },
    {
     "data": {
      "application/vnd.jupyter.widget-view+json": {
       "model_id": "a068998220dc4b048e8e69e10e21ee00",
       "version_major": 2,
       "version_minor": 0
      },
      "text/plain": [
       "HBox(children=(FloatProgress(value=0.0, max=10.0), HTML(value='')))"
      ]
     },
     "metadata": {},
     "output_type": "display_data"
    },
    {
     "name": "stdout",
     "output_type": "stream",
     "text": [
      "\n",
      "Validation accuracy: 0.2140422631220177 Validation loss: 0.0073233729897507534\n",
      "Temps de l Epoch  73  en secondes: 2.5046842098236084\n",
      "EPOCH: 74\n"
     ]
    },
    {
     "data": {
      "application/vnd.jupyter.widget-view+json": {
       "model_id": "c0eb687f94c34750b48bc04ba66c6b25",
       "version_major": 2,
       "version_minor": 0
      },
      "text/plain": [
       "HBox(children=(FloatProgress(value=0.0, max=89.0), HTML(value='')))"
      ]
     },
     "metadata": {},
     "output_type": "display_data"
    },
    {
     "name": "stdout",
     "output_type": "stream",
     "text": [
      "\n",
      "Training accuracy: 0.24336299943192577 Training loss: 0.007024049158462903\n"
     ]
    },
    {
     "data": {
      "application/vnd.jupyter.widget-view+json": {
       "model_id": "eff60bc5ab0e40d585071eab99b2437c",
       "version_major": 2,
       "version_minor": 0
      },
      "text/plain": [
       "HBox(children=(FloatProgress(value=0.0, max=10.0), HTML(value='')))"
      ]
     },
     "metadata": {},
     "output_type": "display_data"
    },
    {
     "name": "stdout",
     "output_type": "stream",
     "text": [
      "\n",
      "Validation accuracy: 0.21336059986366734 Validation loss: 0.007333053157861004\n",
      "Temps de l Epoch  74  en secondes: 2.545928716659546\n",
      "EPOCH: 75\n"
     ]
    },
    {
     "data": {
      "application/vnd.jupyter.widget-view+json": {
       "model_id": "05e7524dbad34bd88941065a21ad1d19",
       "version_major": 2,
       "version_minor": 0
      },
      "text/plain": [
       "HBox(children=(FloatProgress(value=0.0, max=89.0), HTML(value='')))"
      ]
     },
     "metadata": {},
     "output_type": "display_data"
    },
    {
     "name": "stdout",
     "output_type": "stream",
     "text": [
      "\n",
      "Training accuracy: 0.24037114182919903 Training loss: 0.007028877231754649\n"
     ]
    },
    {
     "data": {
      "application/vnd.jupyter.widget-view+json": {
       "model_id": "04b11748b0564781968b4049d70f5900",
       "version_major": 2,
       "version_minor": 0
      },
      "text/plain": [
       "HBox(children=(FloatProgress(value=0.0, max=10.0), HTML(value='')))"
      ]
     },
     "metadata": {},
     "output_type": "display_data"
    },
    {
     "name": "stdout",
     "output_type": "stream",
     "text": [
      "\n",
      "Validation accuracy: 0.21370143149284254 Validation loss: 0.007320349120573682\n",
      "Temps de l Epoch  75  en secondes: 2.5542633533477783\n",
      "EPOCH: 76\n"
     ]
    },
    {
     "data": {
      "application/vnd.jupyter.widget-view+json": {
       "model_id": "c8c37f05f8ab4c46926f104e5b5c7f0e",
       "version_major": 2,
       "version_minor": 0
      },
      "text/plain": [
       "HBox(children=(FloatProgress(value=0.0, max=89.0), HTML(value='')))"
      ]
     },
     "metadata": {},
     "output_type": "display_data"
    },
    {
     "name": "stdout",
     "output_type": "stream",
     "text": [
      "\n",
      "Training accuracy: 0.24226472259041848 Training loss: 0.007026541889944078\n"
     ]
    },
    {
     "data": {
      "application/vnd.jupyter.widget-view+json": {
       "model_id": "a89fad8090294ab892a843969c5730a7",
       "version_major": 2,
       "version_minor": 0
      },
      "text/plain": [
       "HBox(children=(FloatProgress(value=0.0, max=10.0), HTML(value='')))"
      ]
     },
     "metadata": {},
     "output_type": "display_data"
    },
    {
     "name": "stdout",
     "output_type": "stream",
     "text": [
      "\n",
      "Validation accuracy: 0.20995228357191548 Validation loss: 0.007315690694573629\n",
      "Temps de l Epoch  76  en secondes: 2.550201177597046\n",
      "EPOCH: 77\n"
     ]
    },
    {
     "data": {
      "application/vnd.jupyter.widget-view+json": {
       "model_id": "41aa9b8f5d5b4d9c97f9e7e9ce7db41e",
       "version_major": 2,
       "version_minor": 0
      },
      "text/plain": [
       "HBox(children=(FloatProgress(value=0.0, max=89.0), HTML(value='')))"
      ]
     },
     "metadata": {},
     "output_type": "display_data"
    },
    {
     "name": "stdout",
     "output_type": "stream",
     "text": [
      "\n",
      "Training accuracy: 0.24552168149971595 Training loss: 0.00700567003859419\n"
     ]
    },
    {
     "data": {
      "application/vnd.jupyter.widget-view+json": {
       "model_id": "90e961f0699a4b9f9697f11c1b43d365",
       "version_major": 2,
       "version_minor": 0
      },
      "text/plain": [
       "HBox(children=(FloatProgress(value=0.0, max=10.0), HTML(value='')))"
      ]
     },
     "metadata": {},
     "output_type": "display_data"
    },
    {
     "name": "stdout",
     "output_type": "stream",
     "text": [
      "\n",
      "Validation accuracy: 0.21779141104294478 Validation loss: 0.0073236338362534514\n",
      "Temps de l Epoch  77  en secondes: 2.5402872562408447\n",
      "EPOCH: 78\n"
     ]
    },
    {
     "data": {
      "application/vnd.jupyter.widget-view+json": {
       "model_id": "534b34eb3c5b46aca3f4b1b6d5dab78e",
       "version_major": 2,
       "version_minor": 0
      },
      "text/plain": [
       "HBox(children=(FloatProgress(value=0.0, max=89.0), HTML(value='')))"
      ]
     },
     "metadata": {},
     "output_type": "display_data"
    },
    {
     "name": "stdout",
     "output_type": "stream",
     "text": [
      "\n",
      "Training accuracy: 0.2411285741336868 Training loss: 0.007015505624390804\n"
     ]
    },
    {
     "data": {
      "application/vnd.jupyter.widget-view+json": {
       "model_id": "9e2a4a4398fe4144b69769f01b86de61",
       "version_major": 2,
       "version_minor": 0
      },
      "text/plain": [
       "HBox(children=(FloatProgress(value=0.0, max=10.0), HTML(value='')))"
      ]
     },
     "metadata": {},
     "output_type": "display_data"
    },
    {
     "name": "stdout",
     "output_type": "stream",
     "text": [
      "\n",
      "Validation accuracy: 0.21540558963871848 Validation loss: 0.007319867732822285\n",
      "Temps de l Epoch  78  en secondes: 2.6149394512176514\n",
      "EPOCH: 79\n"
     ]
    },
    {
     "data": {
      "application/vnd.jupyter.widget-view+json": {
       "model_id": "82608ced4c8a4ac7b727aa0e51d50bef",
       "version_major": 2,
       "version_minor": 0
      },
      "text/plain": [
       "HBox(children=(FloatProgress(value=0.0, max=89.0), HTML(value='')))"
      ]
     },
     "metadata": {},
     "output_type": "display_data"
    },
    {
     "name": "stdout",
     "output_type": "stream",
     "text": [
      "\n",
      "Training accuracy: 0.2446885059647794 Training loss: 0.007010980863233472\n"
     ]
    },
    {
     "data": {
      "application/vnd.jupyter.widget-view+json": {
       "model_id": "1683db226c664f5191d11f46e02c00ae",
       "version_major": 2,
       "version_minor": 0
      },
      "text/plain": [
       "HBox(children=(FloatProgress(value=0.0, max=10.0), HTML(value='')))"
      ]
     },
     "metadata": {},
     "output_type": "display_data"
    },
    {
     "name": "stdout",
     "output_type": "stream",
     "text": [
      "\n",
      "Validation accuracy: 0.2147239263803681 Validation loss: 0.007339217423905137\n",
      "Temps de l Epoch  79  en secondes: 2.5041348934173584\n",
      "EPOCH: 80\n"
     ]
    },
    {
     "data": {
      "application/vnd.jupyter.widget-view+json": {
       "model_id": "1b8f81b516ce42afa4344c1a5eb50c36",
       "version_major": 2,
       "version_minor": 0
      },
      "text/plain": [
       "HBox(children=(FloatProgress(value=0.0, max=89.0), HTML(value='')))"
      ]
     },
     "metadata": {},
     "output_type": "display_data"
    },
    {
     "name": "stdout",
     "output_type": "stream",
     "text": [
      "\n",
      "Training accuracy: 0.24408256012118917 Training loss: 0.007028949443554928\n"
     ]
    },
    {
     "data": {
      "application/vnd.jupyter.widget-view+json": {
       "model_id": "56a80c29c29944838a819671e16c8c90",
       "version_major": 2,
       "version_minor": 0
      },
      "text/plain": [
       "HBox(children=(FloatProgress(value=0.0, max=10.0), HTML(value='')))"
      ]
     },
     "metadata": {},
     "output_type": "display_data"
    },
    {
     "name": "stdout",
     "output_type": "stream",
     "text": [
      "\n",
      "Validation accuracy: 0.21233810497614178 Validation loss: 0.00732489207527145\n",
      "Temps de l Epoch  80  en secondes: 2.5233442783355713\n",
      "EPOCH: 81\n"
     ]
    },
    {
     "data": {
      "application/vnd.jupyter.widget-view+json": {
       "model_id": "d3a19d3732884574a769e45a8067583f",
       "version_major": 2,
       "version_minor": 0
      },
      "text/plain": [
       "HBox(children=(FloatProgress(value=0.0, max=89.0), HTML(value='')))"
      ]
     },
     "metadata": {},
     "output_type": "display_data"
    },
    {
     "name": "stdout",
     "output_type": "stream",
     "text": [
      "\n",
      "Training accuracy: 0.24521870857792086 Training loss: 0.007015974606060887\n"
     ]
    },
    {
     "data": {
      "application/vnd.jupyter.widget-view+json": {
       "model_id": "9ea9e8d651c646c4a11256f4099fc34b",
       "version_major": 2,
       "version_minor": 0
      },
      "text/plain": [
       "HBox(children=(FloatProgress(value=0.0, max=10.0), HTML(value='')))"
      ]
     },
     "metadata": {},
     "output_type": "display_data"
    },
    {
     "name": "stdout",
     "output_type": "stream",
     "text": [
      "\n",
      "Validation accuracy: 0.2143830947511929 Validation loss: 0.0073358467345182475\n",
      "Temps de l Epoch  81  en secondes: 2.5065717697143555\n",
      "EPOCH: 82\n"
     ]
    },
    {
     "data": {
      "application/vnd.jupyter.widget-view+json": {
       "model_id": "75630ffe94344788ae8e9dc0101c6d7e",
       "version_major": 2,
       "version_minor": 0
      },
      "text/plain": [
       "HBox(children=(FloatProgress(value=0.0, max=89.0), HTML(value='')))"
      ]
     },
     "metadata": {},
     "output_type": "display_data"
    },
    {
     "name": "stdout",
     "output_type": "stream",
     "text": [
      "\n",
      "Training accuracy: 0.24340087104715016 Training loss: 0.00699860751233844\n"
     ]
    },
    {
     "data": {
      "application/vnd.jupyter.widget-view+json": {
       "model_id": "122271fe8a83486d80852abf45030e33",
       "version_major": 2,
       "version_minor": 0
      },
      "text/plain": [
       "HBox(children=(FloatProgress(value=0.0, max=10.0), HTML(value='')))"
      ]
     },
     "metadata": {},
     "output_type": "display_data"
    },
    {
     "name": "stdout",
     "output_type": "stream",
     "text": [
      "\n",
      "Validation accuracy: 0.21642808452624404 Validation loss: 0.007334908174672091\n",
      "Temps de l Epoch  82  en secondes: 2.549806594848633\n",
      "EPOCH: 83\n"
     ]
    },
    {
     "data": {
      "application/vnd.jupyter.widget-view+json": {
       "model_id": "ad357ba6e70a464985dd538853e4b033",
       "version_major": 2,
       "version_minor": 0
      },
      "text/plain": [
       "HBox(children=(FloatProgress(value=0.0, max=89.0), HTML(value='')))"
      ]
     },
     "metadata": {},
     "output_type": "display_data"
    },
    {
     "name": "stdout",
     "output_type": "stream",
     "text": [
      "\n",
      "Training accuracy: 0.24128006059458437 Training loss: 0.007000570120266996\n"
     ]
    },
    {
     "data": {
      "application/vnd.jupyter.widget-view+json": {
       "model_id": "09379080f58b495397a7f6286f087b85",
       "version_major": 2,
       "version_minor": 0
      },
      "text/plain": [
       "HBox(children=(FloatProgress(value=0.0, max=10.0), HTML(value='')))"
      ]
     },
     "metadata": {},
     "output_type": "display_data"
    },
    {
     "name": "stdout",
     "output_type": "stream",
     "text": [
      "\n",
      "Validation accuracy: 0.2140422631220177 Validation loss: 0.007361423993646977\n",
      "Temps de l Epoch  83  en secondes: 2.677029848098755\n",
      "EPOCH: 84\n"
     ]
    },
    {
     "data": {
      "application/vnd.jupyter.widget-view+json": {
       "model_id": "3ab6d81c6e1c4e86b7c19fca7af826ca",
       "version_major": 2,
       "version_minor": 0
      },
      "text/plain": [
       "HBox(children=(FloatProgress(value=0.0, max=89.0), HTML(value='')))"
      ]
     },
     "metadata": {},
     "output_type": "display_data"
    },
    {
     "name": "stdout",
     "output_type": "stream",
     "text": [
      "\n",
      "Training accuracy: 0.24317364135580383 Training loss: 0.006990160623343463\n"
     ]
    },
    {
     "data": {
      "application/vnd.jupyter.widget-view+json": {
       "model_id": "b1d9d40ff2014e29aa3dec5d787c9e74",
       "version_major": 2,
       "version_minor": 0
      },
      "text/plain": [
       "HBox(children=(FloatProgress(value=0.0, max=10.0), HTML(value='')))"
      ]
     },
     "metadata": {},
     "output_type": "display_data"
    },
    {
     "name": "stdout",
     "output_type": "stream",
     "text": [
      "\n",
      "Validation accuracy: 0.21336059986366734 Validation loss: 0.007343766716929138\n",
      "Temps de l Epoch  84  en secondes: 2.565661668777466\n",
      "EPOCH: 85\n"
     ]
    },
    {
     "data": {
      "application/vnd.jupyter.widget-view+json": {
       "model_id": "cec0a0b6314945f18397d2b70618f8a3",
       "version_major": 2,
       "version_minor": 0
      },
      "text/plain": [
       "HBox(children=(FloatProgress(value=0.0, max=89.0), HTML(value='')))"
      ]
     },
     "metadata": {},
     "output_type": "display_data"
    },
    {
     "name": "stdout",
     "output_type": "stream",
     "text": [
      "\n",
      "Training accuracy: 0.24275705358833555 Training loss: 0.0070134030397903105\n"
     ]
    },
    {
     "data": {
      "application/vnd.jupyter.widget-view+json": {
       "model_id": "bf10794ef429497aae0f100ca004b0c3",
       "version_major": 2,
       "version_minor": 0
      },
      "text/plain": [
       "HBox(children=(FloatProgress(value=0.0, max=10.0), HTML(value='')))"
      ]
     },
     "metadata": {},
     "output_type": "display_data"
    },
    {
     "name": "stdout",
     "output_type": "stream",
     "text": [
      "\n",
      "Validation accuracy: 0.2085889570552147 Validation loss: 0.007340887329085961\n",
      "Temps de l Epoch  85  en secondes: 2.5447325706481934\n",
      "EPOCH: 86\n"
     ]
    },
    {
     "data": {
      "application/vnd.jupyter.widget-view+json": {
       "model_id": "1f737a3ad9644ef8b3e4279369a1c7b9",
       "version_major": 2,
       "version_minor": 0
      },
      "text/plain": [
       "HBox(children=(FloatProgress(value=0.0, max=89.0), HTML(value='')))"
      ]
     },
     "metadata": {},
     "output_type": "display_data"
    },
    {
     "name": "stdout",
     "output_type": "stream",
     "text": [
      "\n",
      "Training accuracy: 0.24453701950388185 Training loss: 0.007013999655083755\n"
     ]
    },
    {
     "data": {
      "application/vnd.jupyter.widget-view+json": {
       "model_id": "d90e665c2d7f4c2dafcd38219f137669",
       "version_major": 2,
       "version_minor": 0
      },
      "text/plain": [
       "HBox(children=(FloatProgress(value=0.0, max=10.0), HTML(value='')))"
      ]
     },
     "metadata": {},
     "output_type": "display_data"
    },
    {
     "name": "stdout",
     "output_type": "stream",
     "text": [
      "\n",
      "Validation accuracy: 0.2116564417177914 Validation loss: 0.007347400528115323\n",
      "Temps de l Epoch  86  en secondes: 2.569072723388672\n",
      "EPOCH: 87\n"
     ]
    },
    {
     "data": {
      "application/vnd.jupyter.widget-view+json": {
       "model_id": "1204a5418f554360bb95fe8090ce4ff0",
       "version_major": 2,
       "version_minor": 0
      },
      "text/plain": [
       "HBox(children=(FloatProgress(value=0.0, max=89.0), HTML(value='')))"
      ]
     },
     "metadata": {},
     "output_type": "display_data"
    },
    {
     "name": "stdout",
     "output_type": "stream",
     "text": [
      "\n",
      "Training accuracy: 0.2436659723537209 Training loss: 0.007025090331178884\n"
     ]
    },
    {
     "data": {
      "application/vnd.jupyter.widget-view+json": {
       "model_id": "577e5021347a4b4f8259bd441409e398",
       "version_major": 2,
       "version_minor": 0
      },
      "text/plain": [
       "HBox(children=(FloatProgress(value=0.0, max=10.0), HTML(value='')))"
      ]
     },
     "metadata": {},
     "output_type": "display_data"
    },
    {
     "name": "stdout",
     "output_type": "stream",
     "text": [
      "\n",
      "Validation accuracy: 0.21540558963871848 Validation loss: 0.007369184624035503\n",
      "Temps de l Epoch  87  en secondes: 2.5855908393859863\n",
      "EPOCH: 88\n"
     ]
    },
    {
     "data": {
      "application/vnd.jupyter.widget-view+json": {
       "model_id": "84b5b594661d4be294a6e4772584b971",
       "version_major": 2,
       "version_minor": 0
      },
      "text/plain": [
       "HBox(children=(FloatProgress(value=0.0, max=89.0), HTML(value='')))"
      ]
     },
     "metadata": {},
     "output_type": "display_data"
    },
    {
     "name": "stdout",
     "output_type": "stream",
     "text": [
      "\n",
      "Training accuracy: 0.24419617496686233 Training loss: 0.007017825155902871\n"
     ]
    },
    {
     "data": {
      "application/vnd.jupyter.widget-view+json": {
       "model_id": "bb609a3adaae40dcaf4303d53e79e6c4",
       "version_major": 2,
       "version_minor": 0
      },
      "text/plain": [
       "HBox(children=(FloatProgress(value=0.0, max=10.0), HTML(value='')))"
      ]
     },
     "metadata": {},
     "output_type": "display_data"
    },
    {
     "name": "stdout",
     "output_type": "stream",
     "text": [
      "\n",
      "Validation accuracy: 0.2089297886843899 Validation loss: 0.007355864793976392\n",
      "Temps de l Epoch  88  en secondes: 2.5576624870300293\n",
      "EPOCH: 89\n"
     ]
    },
    {
     "data": {
      "application/vnd.jupyter.widget-view+json": {
       "model_id": "b7d30f347e9647d58609154ef9c40d1f",
       "version_major": 2,
       "version_minor": 0
      },
      "text/plain": [
       "HBox(children=(FloatProgress(value=0.0, max=89.0), HTML(value='')))"
      ]
     },
     "metadata": {},
     "output_type": "display_data"
    },
    {
     "name": "stdout",
     "output_type": "stream",
     "text": [
      "\n",
      "Training accuracy: 0.24453701950388185 Training loss: 0.00699693710599472\n"
     ]
    },
    {
     "data": {
      "application/vnd.jupyter.widget-view+json": {
       "model_id": "009048826b3a442ca487fb5a1dd08ef0",
       "version_major": 2,
       "version_minor": 0
      },
      "text/plain": [
       "HBox(children=(FloatProgress(value=0.0, max=10.0), HTML(value='')))"
      ]
     },
     "metadata": {},
     "output_type": "display_data"
    },
    {
     "name": "stdout",
     "output_type": "stream",
     "text": [
      "\n",
      "Validation accuracy: 0.21029311520109067 Validation loss: 0.0073551423873069255\n",
      "Temps de l Epoch  89  en secondes: 2.51385498046875\n",
      "EPOCH: 90\n"
     ]
    },
    {
     "data": {
      "application/vnd.jupyter.widget-view+json": {
       "model_id": "6afb915f2b8742f5bccb36ae23e6fac8",
       "version_major": 2,
       "version_minor": 0
      },
      "text/plain": [
       "HBox(children=(FloatProgress(value=0.0, max=89.0), HTML(value='')))"
      ]
     },
     "metadata": {},
     "output_type": "display_data"
    },
    {
     "name": "stdout",
     "output_type": "stream",
     "text": [
      "\n",
      "Training accuracy: 0.24692293126301837 Training loss: 0.0069998494875835125\n"
     ]
    },
    {
     "data": {
      "application/vnd.jupyter.widget-view+json": {
       "model_id": "7e04d1e1a17a497fac980714bb1674c0",
       "version_major": 2,
       "version_minor": 0
      },
      "text/plain": [
       "HBox(children=(FloatProgress(value=0.0, max=10.0), HTML(value='')))"
      ]
     },
     "metadata": {},
     "output_type": "display_data"
    },
    {
     "name": "stdout",
     "output_type": "stream",
     "text": [
      "\n",
      "Validation accuracy: 0.2089297886843899 Validation loss: 0.007358054848211349\n",
      "Temps de l Epoch  90  en secondes: 2.5700273513793945\n",
      "EPOCH: 91\n"
     ]
    },
    {
     "data": {
      "application/vnd.jupyter.widget-view+json": {
       "model_id": "d9daf44a86e147249e56fe7bbc147521",
       "version_major": 2,
       "version_minor": 0
      },
      "text/plain": [
       "HBox(children=(FloatProgress(value=0.0, max=89.0), HTML(value='')))"
      ]
     },
     "metadata": {},
     "output_type": "display_data"
    },
    {
     "name": "stdout",
     "output_type": "stream",
     "text": [
      "\n",
      "Training accuracy: 0.24688505964779398 Training loss: 0.007002632226530428\n"
     ]
    },
    {
     "data": {
      "application/vnd.jupyter.widget-view+json": {
       "model_id": "7ae3b6feaf264ebea2c785711932c4b9",
       "version_major": 2,
       "version_minor": 0
      },
      "text/plain": [
       "HBox(children=(FloatProgress(value=0.0, max=10.0), HTML(value='')))"
      ]
     },
     "metadata": {},
     "output_type": "display_data"
    },
    {
     "name": "stdout",
     "output_type": "stream",
     "text": [
      "\n",
      "Validation accuracy: 0.2062031356509884 Validation loss: 0.007383696790771901\n",
      "Temps de l Epoch  91  en secondes: 2.6020500659942627\n",
      "EPOCH: 92\n"
     ]
    },
    {
     "data": {
      "application/vnd.jupyter.widget-view+json": {
       "model_id": "743c933b71de4b7889f3cc99c6750215",
       "version_major": 2,
       "version_minor": 0
      },
      "text/plain": [
       "HBox(children=(FloatProgress(value=0.0, max=89.0), HTML(value='')))"
      ]
     },
     "metadata": {},
     "output_type": "display_data"
    },
    {
     "name": "stdout",
     "output_type": "stream",
     "text": [
      "\n",
      "Training accuracy: 0.2429464116644575 Training loss: 0.007019589990631375\n"
     ]
    },
    {
     "data": {
      "application/vnd.jupyter.widget-view+json": {
       "model_id": "963efeaedb4b41ea98760e0095cfccf5",
       "version_major": 2,
       "version_minor": 0
      },
      "text/plain": [
       "HBox(children=(FloatProgress(value=0.0, max=10.0), HTML(value='')))"
      ]
     },
     "metadata": {},
     "output_type": "display_data"
    },
    {
     "name": "stdout",
     "output_type": "stream",
     "text": [
      "\n",
      "Validation accuracy: 0.2062031356509884 Validation loss: 0.007417198907947085\n",
      "Temps de l Epoch  92  en secondes: 2.674730062484741\n",
      "EPOCH: 93\n"
     ]
    },
    {
     "data": {
      "application/vnd.jupyter.widget-view+json": {
       "model_id": "4f39463fe48149e7ac342213c6fdd83f",
       "version_major": 2,
       "version_minor": 0
      },
      "text/plain": [
       "HBox(children=(FloatProgress(value=0.0, max=89.0), HTML(value='')))"
      ]
     },
     "metadata": {},
     "output_type": "display_data"
    },
    {
     "name": "stdout",
     "output_type": "stream",
     "text": [
      "\n",
      "Training accuracy: 0.24128006059458437 Training loss: 0.007036291647761005\n"
     ]
    },
    {
     "data": {
      "application/vnd.jupyter.widget-view+json": {
       "model_id": "a0f90a17b97043aa969c257bde8e9f6e",
       "version_major": 2,
       "version_minor": 0
      },
      "text/plain": [
       "HBox(children=(FloatProgress(value=0.0, max=10.0), HTML(value='')))"
      ]
     },
     "metadata": {},
     "output_type": "display_data"
    },
    {
     "name": "stdout",
     "output_type": "stream",
     "text": [
      "\n",
      "Validation accuracy: 0.21301976823449217 Validation loss: 0.0073616949977237675\n",
      "Temps de l Epoch  93  en secondes: 2.5934581756591797\n",
      "EPOCH: 94\n"
     ]
    },
    {
     "data": {
      "application/vnd.jupyter.widget-view+json": {
       "model_id": "8c816ad330154714807d4a42c35b0db0",
       "version_major": 2,
       "version_minor": 0
      },
      "text/plain": [
       "HBox(children=(FloatProgress(value=0.0, max=89.0), HTML(value='')))"
      ]
     },
     "metadata": {},
     "output_type": "display_data"
    },
    {
     "name": "stdout",
     "output_type": "stream",
     "text": [
      "\n",
      "Training accuracy: 0.24499147888657452 Training loss: 0.007006015093167201\n"
     ]
    },
    {
     "data": {
      "application/vnd.jupyter.widget-view+json": {
       "model_id": "b2b463c666614ed280a623000e2c0f64",
       "version_major": 2,
       "version_minor": 0
      },
      "text/plain": [
       "HBox(children=(FloatProgress(value=0.0, max=10.0), HTML(value='')))"
      ]
     },
     "metadata": {},
     "output_type": "display_data"
    },
    {
     "name": "stdout",
     "output_type": "stream",
     "text": [
      "\n",
      "Validation accuracy: 0.21267893660531698 Validation loss: 0.007349721980728742\n",
      "Temps de l Epoch  94  en secondes: 2.5542960166931152\n",
      "EPOCH: 95\n"
     ]
    },
    {
     "data": {
      "application/vnd.jupyter.widget-view+json": {
       "model_id": "22485aa196794496ad92b693822ab67f",
       "version_major": 2,
       "version_minor": 0
      },
      "text/plain": [
       "HBox(children=(FloatProgress(value=0.0, max=89.0), HTML(value='')))"
      ]
     },
     "metadata": {},
     "output_type": "display_data"
    },
    {
     "name": "stdout",
     "output_type": "stream",
     "text": [
      "\n",
      "Training accuracy: 0.24457489111910624 Training loss: 0.006991257655803418\n"
     ]
    },
    {
     "data": {
      "application/vnd.jupyter.widget-view+json": {
       "model_id": "6477fddf4f1746bdbf9b72b59331ed10",
       "version_major": 2,
       "version_minor": 0
      },
      "text/plain": [
       "HBox(children=(FloatProgress(value=0.0, max=10.0), HTML(value='')))"
      ]
     },
     "metadata": {},
     "output_type": "display_data"
    },
    {
     "name": "stdout",
     "output_type": "stream",
     "text": [
      "\n",
      "Validation accuracy: 0.21574642126789367 Validation loss: 0.00737343520312059\n",
      "Temps de l Epoch  95  en secondes: 2.555314779281616\n",
      "EPOCH: 96\n"
     ]
    },
    {
     "data": {
      "application/vnd.jupyter.widget-view+json": {
       "model_id": "cf76247167454ac1a39616018ae89e7d",
       "version_major": 2,
       "version_minor": 0
      },
      "text/plain": [
       "HBox(children=(FloatProgress(value=0.0, max=89.0), HTML(value='')))"
      ]
     },
     "metadata": {},
     "output_type": "display_data"
    },
    {
     "name": "stdout",
     "output_type": "stream",
     "text": [
      "\n",
      "Training accuracy: 0.2460897557280818 Training loss: 0.006984338140063294\n"
     ]
    },
    {
     "data": {
      "application/vnd.jupyter.widget-view+json": {
       "model_id": "9061c673416f44d4a1b38c3cbd273c8d",
       "version_major": 2,
       "version_minor": 0
      },
      "text/plain": [
       "HBox(children=(FloatProgress(value=0.0, max=10.0), HTML(value='')))"
      ]
     },
     "metadata": {},
     "output_type": "display_data"
    },
    {
     "name": "stdout",
     "output_type": "stream",
     "text": [
      "\n",
      "Validation accuracy: 0.21642808452624404 Validation loss: 0.007353970284517232\n",
      "Temps de l Epoch  96  en secondes: 2.5542938709259033\n",
      "EPOCH: 97\n"
     ]
    },
    {
     "data": {
      "application/vnd.jupyter.widget-view+json": {
       "model_id": "a0f49d2784554667a2c5449308274310",
       "version_major": 2,
       "version_minor": 0
      },
      "text/plain": [
       "HBox(children=(FloatProgress(value=0.0, max=89.0), HTML(value='')))"
      ]
     },
     "metadata": {},
     "output_type": "display_data"
    },
    {
     "name": "stdout",
     "output_type": "stream",
     "text": [
      "\n",
      "Training accuracy: 0.24415830335163793 Training loss: 0.006986394259903021\n"
     ]
    },
    {
     "data": {
      "application/vnd.jupyter.widget-view+json": {
       "model_id": "a50f8984f55e46349d407390225eece3",
       "version_major": 2,
       "version_minor": 0
      },
      "text/plain": [
       "HBox(children=(FloatProgress(value=0.0, max=10.0), HTML(value='')))"
      ]
     },
     "metadata": {},
     "output_type": "display_data"
    },
    {
     "name": "stdout",
     "output_type": "stream",
     "text": [
      "\n",
      "Validation accuracy: 0.20790729379686435 Validation loss: 0.007369028603697441\n",
      "Temps de l Epoch  97  en secondes: 2.6157665252685547\n",
      "EPOCH: 98\n"
     ]
    },
    {
     "data": {
      "application/vnd.jupyter.widget-view+json": {
       "model_id": "e044f15b9bf547459a3cc154ed27d460",
       "version_major": 2,
       "version_minor": 0
      },
      "text/plain": [
       "HBox(children=(FloatProgress(value=0.0, max=89.0), HTML(value='')))"
      ]
     },
     "metadata": {},
     "output_type": "display_data"
    },
    {
     "name": "stdout",
     "output_type": "stream",
     "text": [
      "\n",
      "Training accuracy: 0.2471501609543647 Training loss: 0.00696763488474815\n"
     ]
    },
    {
     "data": {
      "application/vnd.jupyter.widget-view+json": {
       "model_id": "dd1b6c0274c54d8e89789633c3ae7491",
       "version_major": 2,
       "version_minor": 0
      },
      "text/plain": [
       "HBox(children=(FloatProgress(value=0.0, max=10.0), HTML(value='')))"
      ]
     },
     "metadata": {},
     "output_type": "display_data"
    },
    {
     "name": "stdout",
     "output_type": "stream",
     "text": [
      "\n",
      "Validation accuracy: 0.20961145194274028 Validation loss: 0.007363974601131925\n",
      "Temps de l Epoch  98  en secondes: 2.5601613521575928\n",
      "EPOCH: 99\n"
     ]
    },
    {
     "data": {
      "application/vnd.jupyter.widget-view+json": {
       "model_id": "72320fd9557f4c68b690de4fa572942b",
       "version_major": 2,
       "version_minor": 0
      },
      "text/plain": [
       "HBox(children=(FloatProgress(value=0.0, max=89.0), HTML(value='')))"
      ]
     },
     "metadata": {},
     "output_type": "display_data"
    },
    {
     "name": "stdout",
     "output_type": "stream",
     "text": [
      "\n",
      "Training accuracy: 0.24616549895853057 Training loss: 0.006993560916522849\n"
     ]
    },
    {
     "data": {
      "application/vnd.jupyter.widget-view+json": {
       "model_id": "ba769957b88442f09373b13393ef0c9a",
       "version_major": 2,
       "version_minor": 0
      },
      "text/plain": [
       "HBox(children=(FloatProgress(value=0.0, max=10.0), HTML(value='')))"
      ]
     },
     "metadata": {},
     "output_type": "display_data"
    },
    {
     "name": "stdout",
     "output_type": "stream",
     "text": [
      "\n",
      "Validation accuracy: 0.2116564417177914 Validation loss: 0.007361111790449667\n",
      "Temps de l Epoch  99  en secondes: 2.556743860244751\n",
      "Temps total en secondes: 255.64685320854187\n"
     ]
    }
   ],
   "source": [
    "## Nombre d'époque d'apprentissage\n",
    "N_EPOCHS = 30\n",
    "\n",
    "epoch_loss, epoch_acc, epoch_val_loss, epoch_val_acc = [], [], [], []\n",
    "start_time = time.time()\n",
    "\n",
    "for e in range(N_EPOCHS):\n",
    "  \n",
    "    print(\"EPOCH:\",e)\n",
    "\n",
    "    ### boucle d'entraineement\n",
    "    running_loss = 0\n",
    "    running_accuracy = 0\n",
    "    running_acc=0\n",
    "    start_epoch_time=time.time()\n",
    "\n",
    "    ## Le réseau est mis en mode \"entrainement\"\n",
    "    net.train()\n",
    "\n",
    "    for i, batch in enumerate(tqdm_notebook(train_loader)):\n",
    "    \n",
    "        # Obtenir batch du dataloader\n",
    "        x = batch[0]\n",
    "        labels = batch[1]\n",
    "\n",
    "        # déplacer le batch sur le GPU\n",
    "        x = x.cuda()\n",
    "        labels = labels.cuda()\n",
    "\n",
    "        # Calcul de l'output et les loss\n",
    "        output = net(x)\n",
    "        y = output\n",
    "        \n",
    "        loss = criterion(y, torch.max(labels, 1)[1])\n",
    "\n",
    "        # Réinitialisation du gradients\n",
    "        optimizer.zero_grad()\n",
    "\n",
    "        # Calculs du gradients\n",
    "        loss.backward()\n",
    "\n",
    "        # Appliquecation d'une étape d'optimisation de l'algorithme de descente pour mettre à jour les poids\n",
    "        optimizer.step()\n",
    "\n",
    "        with torch.no_grad():\n",
    "            running_loss += loss.item()            \n",
    "            running_accuracy += (y.max(1)[1] == torch.max(labels, 1)[1]).sum().item()\n",
    "\n",
    "    print(\"Training accuracy:\", running_accuracy/float(len(train)),\n",
    "        \"Training loss:\", running_loss/float(len(train)))\n",
    "\n",
    "    epoch_loss.append(running_loss/len(train))\n",
    "    epoch_acc.append(running_accuracy/len(train))\n",
    "\n",
    "    ### Boucle de valisation\n",
    "    ## Le réseau est mis en mode validation\n",
    "    net.eval()\n",
    "\n",
    "    running_val_loss = 0\n",
    "    running_val_accuracy = 0\n",
    "\n",
    "    for i, batch in enumerate(tqdm_notebook(test_loader)):\n",
    "    \n",
    "        with torch.no_grad():\n",
    "            \n",
    "            x = batch[0]\n",
    "            labels = batch[1]\n",
    "            \n",
    "            x = x.cuda()\n",
    "            labels = labels.cuda()\n",
    "            \n",
    "            output = net(x)\n",
    "            y = output\n",
    "\n",
    "            loss = criterion(y, torch.max(labels, 1)[1])\n",
    "\n",
    "            running_val_loss += loss.item()\n",
    "            running_val_accuracy += (y.max(1)[1] == torch.max(labels, 1)[1]).sum().item()\n",
    "    \n",
    "    print(\"Validation accuracy:\", running_val_accuracy/float(len(test)),\n",
    "        \"Validation loss:\", running_val_loss/float(len(test)))\n",
    "\n",
    "    epoch_val_loss.append(running_val_loss/len(test))\n",
    "    epoch_val_acc.append(running_val_accuracy/len(test))\n",
    "    \n",
    "    inter = time.time() - start_epoch_time  \n",
    "    print ('Temps de l Epoch ',e,' en secondes:', inter )\n",
    "    \n",
    "\n",
    "interval = time.time() - start_time  \n",
    "print ('Temps total en secondes:', interval )\n",
    "\n"
   ]
  },
  {
   "cell_type": "code",
   "execution_count": 30,
   "metadata": {
    "scrolled": true
   },
   "outputs": [
    {
     "data": {
      "image/png": "[encoded data removed]",
      "text/plain": [
       "<Figure size 432x288 with 1 Axes>"
      ]
     },
     "metadata": {
      "needs_background": "light"
     },
     "output_type": "display_data"
    }
   ],
   "source": [
    "plt.plot(np.arange(0,N_EPOCHS),epoch_acc)\n",
    "plt.plot(np.arange(0,N_EPOCHS),epoch_val_acc)\n",
    "plt.title(\"Evolution de l'accuracy\")\n",
    "plt.xlabel(\"Epochs\")\n",
    "plt.ylabel(\"Acc\")\n",
    "plt.show()"
   ]
  },
  {
   "cell_type": "code",
   "execution_count": 31,
   "metadata": {},
   "outputs": [
    {
     "data": {
      "image/png": "[encoded data removed]",
      "text/plain": [
       "<Figure size 432x288 with 1 Axes>"
      ]
     },
     "metadata": {
      "needs_background": "light"
     },
     "output_type": "display_data"
    }
   ],
   "source": [
    "plt.plot(np.arange(0,N_EPOCHS),epoch_loss)\n",
    "plt.plot(np.arange(0,N_EPOCHS),epoch_val_loss)\n",
    "plt.title(\"Evolution du loss\")\n",
    "plt.xlabel(\"Epochs\")\n",
    "plt.ylabel(\"Loss\")\n",
    "plt.show()"
   ]
  },
  {
   "cell_type": "markdown",
   "metadata": {
    "scrolled": true
   },
   "source": [
    "# Réseau Neuronal Keras"
   ]
  },
  {
   "cell_type": "code",
   "execution_count": 130,
   "metadata": {},
   "outputs": [],
   "source": [
    "X_train = dataX #features\n",
    "Y_train = dataY #labels"
   ]
  },
  {
   "cell_type": "code",
   "execution_count": 133,
   "metadata": {},
   "outputs": [],
   "source": [
    "x_train,x_test,y_train,y_test = train_test_split(X_train,Y_train,test_size=0.2)"
   ]
  },
  {
   "cell_type": "code",
   "execution_count": 134,
   "metadata": {},
   "outputs": [],
   "source": [
    "adam = Adam(learning_rate=0.001, beta_1=0.9, beta_2=0.999, epsilon=1e-07, amsgrad=False)"
   ]
  },
  {
   "cell_type": "code",
   "execution_count": 135,
   "metadata": {},
   "outputs": [],
   "source": [
    "model = Sequential()\n",
    "model.add(Dense(2400, activation='relu', input_dim=3083))\n",
    "model.add(Dropout(0.3))\n",
    "model.add(Dense(1200, activation='relu'))\n",
    "model.add(Dropout(0.3))\n",
    "model.add(Dense(600, activation='relu'))\n",
    "model.add(Dropout(0.3))\n",
    "model.add(Dense(11, activation='softmax'))"
   ]
  },
  {
   "cell_type": "code",
   "execution_count": 136,
   "metadata": {},
   "outputs": [],
   "source": [
    "model.compile(loss='categorical_crossentropy', optimizer=adam, metrics=['accuracy'])"
   ]
  },
  {
   "cell_type": "code",
   "execution_count": 137,
   "metadata": {
    "scrolled": true
   },
   "outputs": [
    {
     "name": "stdout",
     "output_type": "stream",
     "text": [
      "Train on 23471 samples, validate on 5868 samples\n",
      "Epoch 1/30\n",
      "23471/23471 [==============================] - 4s 191us/sample - loss: 3.1467 - acc: 0.1186 - val_loss: 2.3176 - val_acc: 0.1665\n",
      "Epoch 2/30\n",
      "23471/23471 [==============================] - 4s 175us/sample - loss: 2.3655 - acc: 0.1438 - val_loss: 2.3038 - val_acc: 0.1610\n",
      "Epoch 3/30\n",
      "23471/23471 [==============================] - 4s 183us/sample - loss: 2.3199 - acc: 0.1530 - val_loss: 2.2843 - val_acc: 0.1745\n",
      "Epoch 4/30\n",
      "23471/23471 [==============================] - 4s 178us/sample - loss: 2.2941 - acc: 0.1645 - val_loss: 2.2642 - val_acc: 0.1798\n",
      "Epoch 5/30\n",
      "23471/23471 [==============================] - 4s 189us/sample - loss: 2.2824 - acc: 0.1653 - val_loss: 2.2519 - val_acc: 0.1873\n",
      "Epoch 6/30\n",
      "23471/23471 [==============================] - 4s 185us/sample - loss: 2.2633 - acc: 0.1735 - val_loss: 2.2268 - val_acc: 0.1907\n",
      "Epoch 7/30\n",
      "23471/23471 [==============================] - 4s 183us/sample - loss: 2.2451 - acc: 0.1847 - val_loss: 2.1946 - val_acc: 0.2062\n",
      "Epoch 8/30\n",
      "23471/23471 [==============================] - 4s 186us/sample - loss: 2.2311 - acc: 0.1919 - val_loss: 2.2043 - val_acc: 0.2055\n",
      "Epoch 9/30\n",
      "23471/23471 [==============================] - 4s 187us/sample - loss: 2.2193 - acc: 0.1952 - val_loss: 2.1936 - val_acc: 0.2128\n",
      "Epoch 10/30\n",
      "23471/23471 [==============================] - 4s 186us/sample - loss: 2.2086 - acc: 0.1999 - val_loss: 2.1871 - val_acc: 0.2101\n",
      "Epoch 11/30\n",
      "23471/23471 [==============================] - 4s 188us/sample - loss: 2.2002 - acc: 0.2018 - val_loss: 2.1656 - val_acc: 0.2156\n",
      "Epoch 12/30\n",
      "23471/23471 [==============================] - 5s 193us/sample - loss: 2.1930 - acc: 0.2038 - val_loss: 2.1764 - val_acc: 0.2151\n",
      "Epoch 13/30\n",
      "23471/23471 [==============================] - 4s 189us/sample - loss: 2.1856 - acc: 0.2050 - val_loss: 2.1807 - val_acc: 0.2122\n",
      "Epoch 14/30\n",
      "23471/23471 [==============================] - 4s 188us/sample - loss: 2.1745 - acc: 0.2109 - val_loss: 2.1678 - val_acc: 0.2134\n",
      "Epoch 15/30\n",
      "23471/23471 [==============================] - 4s 188us/sample - loss: 2.1729 - acc: 0.2112 - val_loss: 2.1644 - val_acc: 0.2178\n",
      "Epoch 16/30\n",
      "23471/23471 [==============================] - 4s 191us/sample - loss: 2.1727 - acc: 0.2089 - val_loss: 2.1600 - val_acc: 0.2207\n",
      "Epoch 17/30\n",
      "23471/23471 [==============================] - 4s 187us/sample - loss: 2.1757 - acc: 0.2100 - val_loss: 2.1759 - val_acc: 0.2169\n",
      "Epoch 18/30\n",
      "23471/23471 [==============================] - 4s 187us/sample - loss: 2.1720 - acc: 0.2073 - val_loss: 2.1686 - val_acc: 0.2168\n",
      "Epoch 19/30\n",
      "23471/23471 [==============================] - 4s 191us/sample - loss: 2.1672 - acc: 0.2108 - val_loss: 2.1644 - val_acc: 0.2222\n",
      "Epoch 20/30\n",
      "23471/23471 [==============================] - 4s 190us/sample - loss: 2.1602 - acc: 0.2142 - val_loss: 2.1591 - val_acc: 0.2214\n",
      "Epoch 21/30\n",
      "23471/23471 [==============================] - 5s 195us/sample - loss: 2.1574 - acc: 0.2155 - val_loss: 2.1564 - val_acc: 0.2200\n",
      "Epoch 22/30\n",
      "23471/23471 [==============================] - 4s 191us/sample - loss: 2.1538 - acc: 0.2163 - val_loss: 2.1619 - val_acc: 0.2214\n",
      "Epoch 23/30\n",
      "23471/23471 [==============================] - 5s 197us/sample - loss: 2.1539 - acc: 0.2175 - val_loss: 2.1618 - val_acc: 0.2231\n",
      "Epoch 24/30\n",
      "23471/23471 [==============================] - 5s 192us/sample - loss: 2.1534 - acc: 0.2161 - val_loss: 2.1642 - val_acc: 0.2186\n",
      "Epoch 25/30\n",
      "23471/23471 [==============================] - 4s 190us/sample - loss: 2.1488 - acc: 0.2191 - val_loss: 2.1640 - val_acc: 0.2243\n",
      "Epoch 26/30\n",
      "23471/23471 [==============================] - 5s 208us/sample - loss: 2.1495 - acc: 0.2164 - val_loss: 2.1613 - val_acc: 0.2222\n",
      "Epoch 27/30\n",
      "23471/23471 [==============================] - 4s 191us/sample - loss: 2.1405 - acc: 0.2189 - val_loss: 2.1535 - val_acc: 0.2215\n",
      "Epoch 28/30\n",
      "23471/23471 [==============================] - 4s 189us/sample - loss: 2.1451 - acc: 0.2184 - val_loss: 2.1491 - val_acc: 0.2229\n",
      "Epoch 29/30\n",
      "23471/23471 [==============================] - 4s 189us/sample - loss: 2.1448 - acc: 0.2186 - val_loss: 2.1572 - val_acc: 0.2229\n",
      "Epoch 30/30\n",
      "23471/23471 [==============================] - 5s 192us/sample - loss: 2.1421 - acc: 0.2210 - val_loss: 2.1573 - val_acc: 0.2217\n"
     ]
    },
    {
     "data": {
      "text/plain": [
       "['loss', 'acc']"
      ]
     },
     "execution_count": 137,
     "metadata": {},
     "output_type": "execute_result"
    }
   ],
   "source": [
    "history = model.fit(x_train, y_train, epochs=30, batch_size=1000, validation_data=(x_test,y_test), shuffle=True)\n",
    "model.test_on_batch(x_test, y_test)\n",
    "model.metrics_names"
   ]
  },
  {
   "cell_type": "code",
   "execution_count": 95,
   "metadata": {},
   "outputs": [
    {
     "data": {
      "image/png": "[encoded data removed]",
      "text/plain": [
       "<Figure size 432x288 with 1 Axes>"
      ]
     },
     "metadata": {
      "needs_background": "light"
     },
     "output_type": "display_data"
    }
   ],
   "source": [
    "#  \"Accuracy\"\n",
    "plt.plot(history.history['acc'])\n",
    "plt.plot(history.history['val_acc'])\n",
    "plt.title('model accuracy')\n",
    "plt.ylabel('accuracy')\n",
    "plt.xlabel('epoch')\n",
    "plt.legend(['train', 'validation'], loc='upper left')\n",
    "plt.show()"
   ]
  },
  {
   "cell_type": "code",
   "execution_count": 96,
   "metadata": {},
   "outputs": [
    {
     "data": {
      "image/png": "[encoded data removed]",
      "text/plain": [
       "<Figure size 432x288 with 1 Axes>"
      ]
     },
     "metadata": {
      "needs_background": "light"
     },
     "output_type": "display_data"
    }
   ],
   "source": [
    "plt.plot(history.history['loss']) \n",
    "plt.plot(history.history['val_loss']) \n",
    "plt.title('Model loss') \n",
    "plt.ylabel('Loss') \n",
    "plt.xlabel('Epoch') \n",
    "plt.legend(['Train', 'Test'], loc='upper left') \n",
    "plt.show()"
   ]
  },
  {
   "cell_type": "code",
   "execution_count": 98,
   "metadata": {},
   "outputs": [],
   "source": [
    "y_pred = model.predict(x_test)"
   ]
  },
  {
   "cell_type": "code",
   "execution_count": 101,
   "metadata": {},
   "outputs": [],
   "source": [
    "# Compute ROC curve and ROC area for each class\n",
    "n_classes = 11\n",
    "fpr = dict()\n",
    "tpr = dict()\n",
    "roc_auc = dict()\n",
    "for i in range(n_classes):\n",
    "    fpr[i], tpr[i], _ = roc_curve(y_test[:, i], y_pred[:, i])\n",
    "    roc_auc[i] = auc(fpr[i], tpr[i])"
   ]
  },
  {
   "cell_type": "code",
   "execution_count": 102,
   "metadata": {},
   "outputs": [],
   "source": [
    "# Compute micro-average ROC curve and ROC area\n",
    "fpr[\"micro\"], tpr[\"micro\"], _ = roc_curve(y_test.ravel(), y_pred.ravel())\n",
    "roc_auc[\"micro\"] = auc(fpr[\"micro\"], tpr[\"micro\"])"
   ]
  },
  {
   "cell_type": "code",
   "execution_count": 103,
   "metadata": {},
   "outputs": [
    {
     "data": {
      "image/png": "[encoded data removed]",
      "text/plain": [
       "<Figure size 432x288 with 1 Axes>"
      ]
     },
     "metadata": {
      "needs_background": "light"
     },
     "output_type": "display_data"
    }
   ],
   "source": [
    "plt.figure()\n",
    "lw = 2\n",
    "plt.plot(fpr[2], tpr[2], color='darkorange',\n",
    "         lw=lw, label='ROC curve (area = %0.2f)' % roc_auc[2])\n",
    "plt.plot([0, 1], [0, 1], color='navy', lw=lw, linestyle='--')\n",
    "plt.xlim([0.0, 1.0])\n",
    "plt.ylim([0.0, 1.05])\n",
    "plt.xlabel('False Positive Rate')\n",
    "plt.ylabel('True Positive Rate')\n",
    "plt.title('Receiver operating characteristic example')\n",
    "plt.legend(loc=\"lower right\")\n",
    "plt.show()\n"
   ]
  },
  {
   "cell_type": "code",
   "execution_count": 105,
   "metadata": {},
   "outputs": [],
   "source": [
    "#Unique interpolation\n",
    "all_fpr = np.unique(np.concatenate([fpr[i] for i in range(n_classes)]))"
   ]
  },
  {
   "cell_type": "code",
   "execution_count": 106,
   "metadata": {},
   "outputs": [
    {
     "data": {
      "image/png": "[encoded data removed]",
      "text/plain": [
       "<Figure size 720x720 with 1 Axes>"
      ]
     },
     "metadata": {
      "needs_background": "light"
     },
     "output_type": "display_data"
    }
   ],
   "source": [
    "# Then interpolate all ROC curves at this points\n",
    "mean_tpr = np.zeros_like(all_fpr)\n",
    "for i in range(n_classes):\n",
    "    mean_tpr += np.interp(all_fpr, fpr[i], tpr[i])\n",
    "\n",
    "# Finally average it and compute AUC\n",
    "mean_tpr /= n_classes\n",
    "\n",
    "fpr[\"macro\"] = all_fpr\n",
    "tpr[\"macro\"] = mean_tpr\n",
    "roc_auc[\"macro\"] = auc(fpr[\"macro\"], tpr[\"macro\"])\n",
    "\n",
    "# Plot all ROC curves\n",
    "plt.figure(figsize=(10, 10))\n",
    "plt.plot(fpr[\"micro\"], tpr[\"micro\"],\n",
    "         label='micro-average ROC curve (area = {0:0.2f})'\n",
    "               ''.format(roc_auc[\"micro\"]),\n",
    "         color='deeppink', linestyle=':', linewidth=4)\n",
    "\n",
    "plt.plot(fpr[\"macro\"], tpr[\"macro\"],\n",
    "         label='macro-average ROC curve (area = {0:0.2f})'\n",
    "               ''.format(roc_auc[\"macro\"]),\n",
    "         color='navy', linestyle=':', linewidth=4)\n",
    "\n",
    "colors = cycle(['aqua', 'darkorange', 'cornflowerblue', 'red', 'green', 'purple', 'blue', 'yellow', 'black', 'pink', 'brown'])\n",
    "for i, color in zip(range(n_classes), colors):\n",
    "    plt.plot(fpr[i], tpr[i], color=color, lw=lw,\n",
    "             label='ROC curve of class {0} (area = {1:0.2f})'\n",
    "             ''.format(i, roc_auc[i]))\n",
    "\n",
    "plt.plot([0, 1], [0, 1], 'k--', lw=lw)\n",
    "plt.xlim([0.0, 1])\n",
    "plt.ylim([0.0, 1.05])\n",
    "plt.xlabel('False Positive Rate')\n",
    "plt.ylabel('True Positive Rate')\n",
    "plt.title('Some extension of Receiver operating characteristic to multi-class')\n",
    "plt.legend(loc=\"lower right\")\n",
    "plt.show()    "
   ]
  }
 ],
 "metadata": {
  "kernelspec": {
   "display_name": "Python 3",
   "language": "python",
   "name": "python3"
  },
  "language_info": {
   "codemirror_mode": {
    "name": "ipython",
    "version": 3
   },
   "file_extension": ".py",
   "mimetype": "text/x-python",
   "name": "python",
   "nbconvert_exporter": "python",
   "pygments_lexer": "ipython3",
   "version": "3.7.6"
  }
 },
 "nbformat": 4,
 "nbformat_minor": 4
}
