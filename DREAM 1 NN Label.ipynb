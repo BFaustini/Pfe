{
 "cells": [
  {
   "cell_type": "code",
   "execution_count": 1,
   "metadata": {},
   "outputs": [],
   "source": [
    "# Import numerical libraries.  \n",
    "import numpy as np\n",
    "import matplotlib.pyplot as plt\n",
    "from sklearn.model_selection import train_test_split\n",
    "import seaborn as sns\n",
    "from sklearn.preprocessing import StandardScaler, OneHotEncoder, LabelEncoder, MultiLabelBinarizer\n",
    "\n",
    "#Librairies\n",
    "import time\n",
    "import torch\n",
    "import random\n",
    "\n",
    "#Raccourcis utilisé\n",
    "from tqdm import tqdm_notebook\n",
    "import torch.nn as nn\n",
    "import torch.utils.data as data_utils\n",
    "import pandas as pd"
   ]
  },
  {
   "cell_type": "code",
   "execution_count": 2,
   "metadata": {},
   "outputs": [],
   "source": [
    "def to_class(y_):\n",
    "    res = np.zeros((len(y_), 11), dtype='q')\n",
    "    for i in range(len(y_)):\n",
    "        res[i][int(y_[i])] = 1\n",
    "    return res"
   ]
  },
  {
   "cell_type": "code",
   "execution_count": 3,
   "metadata": {},
   "outputs": [],
   "source": [
    "def maximum(liste):\n",
    "    maxi = liste[0]\n",
    "    for i in liste:\n",
    "        if i >= maxi:\n",
    "            maxi = i\n",
    "    return maxi"
   ]
  },
  {
   "cell_type": "code",
   "execution_count": 4,
   "metadata": {},
   "outputs": [],
   "source": [
    "def minimum(liste):\n",
    "    mini = liste[0]\n",
    "    for i in liste:\n",
    "        if i <= mini:\n",
    "            mini = i\n",
    "    return mini"
   ]
  },
  {
   "cell_type": "code",
   "execution_count": 5,
   "metadata": {},
   "outputs": [],
   "source": [
    "# Normalisation\n",
    "sc = StandardScaler()"
   ]
  },
  {
   "cell_type": "code",
   "execution_count": 15,
   "metadata": {},
   "outputs": [],
   "source": [
    "dfX = pd.read_csv('Molecular Dataset Dream 1.csv',sep=';')\n",
    "dfY = pd.read_csv('Senteur Dataset Binaire Dream 1.csv',sep=';')"
   ]
  },
  {
   "cell_type": "code",
   "execution_count": 16,
   "metadata": {},
   "outputs": [],
   "source": [
    "df = dfX.merge(dfY)"
   ]
  },
  {
   "cell_type": "code",
   "execution_count": 17,
   "metadata": {},
   "outputs": [],
   "source": [
    "list_label = ['INTENSITY/STRENGTH', 'VALENCE/PLEASANTNESS', 'BAKERY', 'SWEET',\n",
    "       'FRUIT', 'FISH', 'GARLIC', 'SPICES', 'COLD', 'SOUR', 'BURNT', 'ACID',\n",
    "       'WARM', 'MUSKY', 'SWEATY', 'AMMONIA/URINOUS', 'DECAYED', 'WOOD',\n",
    "       'GRASS', 'FLOWER', 'CHEMICAL']\n",
    "\n",
    "#Pour les barplot\n",
    "list_label_bar = ['INTENSITY', 'VALENCE', 'BAKERY', 'SWEET',\n",
    "       'FRUIT', 'FISH', 'GARLIC', 'SPICES', 'COLD', 'SOUR', 'BURNT', 'ACID',\n",
    "       'WARM', 'MUSKY', 'SWEATY', 'AMMONIA', 'DECAYED', 'WOOD',\n",
    "       'GRASS', 'FLOWER', 'CHEMICAL']\n",
    "\n",
    "Dico_labels = {}\n",
    "for i in range (21):\n",
    "    Dico_labels[i] = list_label[i]"
   ]
  },
  {
   "cell_type": "code",
   "execution_count": 18,
   "metadata": {},
   "outputs": [],
   "source": [
    "class MyNetwork(nn.Module):\n",
    "\n",
    "    def __init__(self):\n",
    "        super(MyNetwork, self).__init__()\n",
    "        \n",
    "        ## Activation layer\n",
    "        self.relu = nn.ReLU()\n",
    "        \n",
    "        self.fc1 = nn.Linear(in_features = 3083, out_features = 2400)\n",
    "        self.fc2 = nn.Linear(2400, 1200)  \n",
    "        self.fc3 = nn.Linear(1200, 600)\n",
    "        self.output = nn.Linear(600, 11)\n",
    "        self.softmax = nn.LogSoftmax(dim=1)\n",
    "        \n",
    "    def forward(self, x):\n",
    "\n",
    "    ## First full connection\n",
    "        x = self.fc1(x)\n",
    "        x = self.relu(x)\n",
    "    \n",
    "    ## Second full connection\n",
    "        x = self.fc2(x)\n",
    "        x = self.relu(x)\n",
    " \n",
    "    ## Third full connection\n",
    "        x = self.fc3(x)\n",
    "        x = self.relu(x)\n",
    "        \n",
    "    ## Output layer\n",
    "        x = self.output(x)\n",
    "        y = self.softmax(x)\n",
    "        \n",
    "        return y"
   ]
  },
  {
   "cell_type": "markdown",
   "metadata": {},
   "source": [
    "# Boucle"
   ]
  },
  {
   "cell_type": "code",
   "execution_count": 19,
   "metadata": {
    "scrolled": false
   },
   "outputs": [
    {
     "name": "stdout",
     "output_type": "stream",
     "text": [
      "Prédiction du label: INTENSITY/STRENGTH\n",
      "Best accuracy d entrainement 0.7307706873698163\n",
      "Temps total en secondes: 49.504921436309814\n",
      "\n",
      "Prédiction du label: VALENCE/PLEASANTNESS\n",
      "Best accuracy d entrainement 0.6355235750804772\n",
      "Temps total en secondes: 47.1052348613739\n",
      "\n",
      "Prédiction du label: BAKERY\n",
      "Best accuracy d entrainement 0.9022912327210756\n",
      "Temps total en secondes: 49.04100584983826\n",
      "\n",
      "Prédiction du label: SWEET\n",
      "Best accuracy d entrainement 0.704184813482295\n",
      "Temps total en secondes: 47.094950675964355\n",
      "\n",
      "Prédiction du label: FRUIT\n",
      "Best accuracy d entrainement 0.856807422836584\n",
      "Temps total en secondes: 49.076030015945435\n",
      "\n",
      "Prédiction du label: FISH\n",
      "Best accuracy d entrainement 0.9402385911759137\n",
      "Temps total en secondes: 49.67437148094177\n",
      "\n",
      "Prédiction du label: GARLIC\n",
      "Best accuracy d entrainement 0.9032758947169097\n",
      "Temps total en secondes: 49.5144476890564\n",
      "\n",
      "Prédiction du label: SPICES\n",
      "Best accuracy d entrainement 0.8095436470365461\n",
      "Temps total en secondes: 49.38181471824646\n",
      "\n",
      "Prédiction du label: COLD\n",
      "Best accuracy d entrainement 0.8596099223631888\n",
      "Temps total en secondes: 47.82451677322388\n",
      "\n",
      "Prédiction du label: SOUR\n",
      "Best accuracy d entrainement 0.7739822003408445\n",
      "Temps total en secondes: 47.72823429107666\n",
      "\n",
      "Prédiction du label: BURNT\n",
      "Best accuracy d entrainement 0.8428706684340087\n",
      "Temps total en secondes: 47.64193773269653\n",
      "\n",
      "Prédiction du label: ACID\n",
      "Best accuracy d entrainement 0.802234425298239\n",
      "Temps total en secondes: 49.27890110015869\n",
      "\n",
      "Prédiction du label: WARM\n",
      "Best accuracy d entrainement 0.8194281386101118\n",
      "Temps total en secondes: 47.824530363082886\n",
      "\n",
      "Prédiction du label: MUSKY\n",
      "Best accuracy d entrainement 0.7653474720696838\n",
      "Temps total en secondes: 48.84671378135681\n",
      "\n",
      "Prédiction du label: SWEATY\n",
      "Best accuracy d entrainement 0.8647225904184813\n",
      "Temps total en secondes: 53.429478883743286\n",
      "\n",
      "Prédiction du label: AMMONIA/URINOUS\n",
      "Best accuracy d entrainement 0.844839992425677\n",
      "Temps total en secondes: 50.19937992095947\n",
      "\n",
      "Prédiction du label: DECAYED\n",
      "Best accuracy d entrainement 0.8574133686801743\n",
      "Temps total en secondes: 52.87539553642273\n",
      "\n",
      "Prédiction du label: WOOD\n",
      "Best accuracy d entrainement 0.8927854572997538\n",
      "Temps total en secondes: 50.07753896713257\n",
      "\n",
      "Prédiction du label: GRASS\n",
      "Best accuracy d entrainement 0.8949820109827684\n",
      "Temps total en secondes: 49.9330153465271\n",
      "\n",
      "Prédiction du label: FLOWER\n",
      "Best accuracy d entrainement 0.8363946222306381\n",
      "Temps total en secondes: 49.87924551963806\n",
      "\n",
      "Prédiction du label: CHEMICAL\n",
      "Best accuracy d entrainement 0.6594205642870669\n",
      "Temps total en secondes: 50.070194244384766\n",
      "\n"
     ]
    }
   ],
   "source": [
    "Label_acc_Train_15, Label_acc_Train_30 = [],[]\n",
    "Label_acc_Val_15, Label_acc_Val_30 = [],[]\n",
    "Label_loss_Train_15, Label_loss_Train_30 = [],[]\n",
    "Label_loss_Val_15, Label_loss_Val_30 = [],[]\n",
    "\n",
    "for j in range(len(list_label)):\n",
    "    print('Prédiction du label:',Dico_labels[j])\n",
    "    dfY = df[[Dico_labels[j]]]\n",
    "    dfX = df\n",
    "    dfX = dfX.drop(list_label,axis=1)\n",
    "    dfX = dfX.drop('Unnamed: 0',axis=1)\n",
    "    dfX = dfX.drop('CID',axis=1)\n",
    "    \n",
    "    dataX = np.float32(dfX.values)\n",
    "    dataY = np.longlong(dfY.values)\n",
    "    dataY = to_class(dataY)\n",
    "    dataX = sc.fit_transform(dataX)\n",
    "    \n",
    "    DATA_Train, DATA_Test, TARGET_Train, TARGET_Test = train_test_split(dataX, dataY ,test_size=0.1)\n",
    "    Batch=300\n",
    "    X_train_tensor = torch.from_numpy(DATA_Train)\n",
    "    Y_train_tensor = torch.from_numpy(TARGET_Train)\n",
    "    X_test_tensor = torch.from_numpy(DATA_Test)\n",
    "    Y_test_tensor = torch.from_numpy(TARGET_Test)\n",
    "\n",
    "    train = data_utils.TensorDataset(X_train_tensor, Y_train_tensor)\n",
    "    train_loader = data_utils.DataLoader(train, batch_size=Batch, shuffle=True)\n",
    "    test = data_utils.TensorDataset(X_test_tensor, Y_test_tensor)\n",
    "    test_loader = data_utils.DataLoader(test, batch_size=Batch, shuffle=True)\n",
    "    \n",
    "    net = MyNetwork()\n",
    "    net = net.cuda()\n",
    "    LEARNING_RATE = 0.003\n",
    "    MOMENTUM = 0.9\n",
    "    criterion = nn.NLLLoss()\n",
    "    optimizer = torch.optim.SGD(net.parameters(), lr=LEARNING_RATE, momentum=MOMENTUM)\n",
    "    \n",
    "    N_EPOCHS = 30   \n",
    "    #print('Début de l'entrainement sur',N_EPOCHS,'Epoch')    \n",
    "    \n",
    "    epoch_loss, epoch_acc, epoch_val_loss, epoch_val_acc = [], [], [], []\n",
    "    start_time = time.time()\n",
    "    \n",
    "    for e in range(N_EPOCHS):     \n",
    "        ### boucle d'entraineement\n",
    "        running_loss = 0\n",
    "        running_accuracy = 0\n",
    "        running_acc=0\n",
    "        start_epoch_time=time.time()      \n",
    "        ## Le réseau est mis en mode \"entrainement\"\n",
    "        net.train()      \n",
    "        for i, batch in enumerate(train_loader):            \n",
    "            # Obtenir batch du dataloader\n",
    "            x = batch[0]\n",
    "            labels = batch[1]\n",
    "            # déplacer le batch sur le GPU\n",
    "            x = x.cuda()\n",
    "            labels = labels.cuda()\n",
    "            # Calcul de l'output et les loss\n",
    "            output = net(x)\n",
    "            y = output         \n",
    "            loss = criterion(y, torch.max(labels, 1)[1])          \n",
    "            # Réinitialisation du gradients\n",
    "            optimizer.zero_grad()           \n",
    "            # Calculs du gradients\n",
    "            loss.backward()           \n",
    "            # Appliquecation d'une étape d'optimisation de l'algorithme de descente pour mettre à jour les poids\n",
    "            optimizer.step()\n",
    "            \n",
    "            with torch.no_grad():\n",
    "                running_loss += loss.item()\n",
    "                running_accuracy += (y.max(1)[1] == torch.max(labels, 1)[1]).sum().item()\n",
    "                \n",
    "        epoch_loss.append(running_loss/len(train))\n",
    "        epoch_acc.append(running_accuracy/len(train))\n",
    "         \n",
    "        ### Boucle de valisation\n",
    "        ## Le réseau est mis en mode validation\n",
    "        net.eval()\n",
    "        running_val_loss = 0\n",
    "        running_val_accuracy = 0               \n",
    "        for i, batch in enumerate(test_loader):\n",
    "            with torch.no_grad():\n",
    "                x = batch[0]\n",
    "                labels = batch[1]\n",
    "                x = x.cuda()\n",
    "                labels = labels.cuda()\n",
    "                output = net(x)\n",
    "                y = output\n",
    "            \n",
    "                loss = criterion(y, torch.max(labels, 1)[1])\n",
    "                running_val_loss += loss.item()\n",
    "                running_val_accuracy += (y.max(1)[1] == torch.max(labels, 1)[1]).sum().item()\n",
    "        epoch_val_loss.append(running_val_loss/len(test))\n",
    "        epoch_val_acc.append(running_val_accuracy/len(test))\n",
    "        if e == 14 :\n",
    "            Label_acc_Train_15.append(maximum(epoch_acc))\n",
    "            Label_acc_Val_15.append(maximum(epoch_val_acc))\n",
    "            Label_loss_Train_15.append(minimum(epoch_loss))\n",
    "            Label_loss_Val_15.append(minimum(epoch_val_loss))\n",
    "        if e == 29 :\n",
    "            Label_acc_Train_30.append(maximum(epoch_acc))\n",
    "            Label_acc_Val_30.append(maximum(epoch_val_acc))\n",
    "            Label_loss_Train_30.append(minimum(epoch_loss))\n",
    "            Label_loss_Val_30.append(minimum(epoch_val_loss))\n",
    "    #print('Dernière epoch: Acc:',running_accuracy/len(train))\n",
    "    interval = time.time() - start_time\n",
    "    print ('Best accuracy d entrainement',maximum(epoch_acc))\n",
    "    print ('Temps total en secondes:', interval)\n",
    "\n",
    "    print(  )"
   ]
  },
  {
   "cell_type": "code",
   "execution_count": 20,
   "metadata": {},
   "outputs": [
    {
     "data": {
      "image/png": "[encoded data removed]",
      "text/plain": [
       "<Figure size 1152x288 with 1 Axes>"
      ]
     },
     "metadata": {
      "needs_background": "light"
     },
     "output_type": "display_data"
    }
   ],
   "source": [
    "plt.subplots(1,figsize=(16,4),constrained_layout=True)\n",
    "\n",
    "d = plt.bar(list_label_bar,Label_acc_Train_30,color=['cyan'])\n",
    "c = plt.bar(list_label_bar,Label_acc_Train_15)\n",
    "a = plt.bar(list_label_bar,Label_acc_Val_30,color=['pink'])\n",
    "b = plt.bar(list_label_bar,Label_acc_Val_15,color=['red'])\n",
    "\n",
    "\n",
    "plt.title(\"Evolution de l'accuracy par label\")\n",
    "plt.legend((a,b,c,d),('Val 30 epoch','Val 15 epoch','train 15 epoch','train 30 epoch'))\n",
    "plt.xticks(rotation=45)\n",
    "plt.show()"
   ]
  },
  {
   "cell_type": "code",
   "execution_count": 21,
   "metadata": {},
   "outputs": [
    {
     "data": {
      "text/plain": [
       "([0, 1, 2, 3, 4, 5, 6, 7, 8, 9, 10, 11, 12, 13, 14, 15, 16, 17, 18, 19, 20],\n",
       " <a list of 21 Text xticklabel objects>)"
      ]
     },
     "execution_count": 21,
     "metadata": {},
     "output_type": "execute_result"
    },
    {
     "data": {
      "image/png": "[encoded data removed]",
      "text/plain": [
       "<Figure size 1152x288 with 1 Axes>"
      ]
     },
     "metadata": {
      "needs_background": "light"
     },
     "output_type": "display_data"
    }
   ],
   "source": [
    "plt.subplots(1,figsize=(16,4),constrained_layout=True)\n",
    "\n",
    "\n",
    "b = plt.bar(list_label_bar,Label_loss_Val_15,color=['red'])\n",
    "a = plt.bar(list_label_bar,Label_loss_Val_30,color=['pink'])\n",
    "\n",
    "c = plt.bar(list_label_bar,Label_loss_Train_15)\n",
    "d = plt.bar(list_label_bar,Label_loss_Train_30,color=['cyan'])\n",
    "plt.title(\"Evolution du loss\")\n",
    "plt.legend((a,b,c,d),('Val 30 epoch','Val 15 epoch','train 15 epoch','train 30 epoch'))\n",
    "plt.xticks(rotation=45)"
   ]
  }
 ],
 "metadata": {
  "kernelspec": {
   "display_name": "Python 3",
   "language": "python",
   "name": "python3"
  },
  "language_info": {
   "codemirror_mode": {
    "name": "ipython",
    "version": 3
   },
   "file_extension": ".py",
   "mimetype": "text/x-python",
   "name": "python",
   "nbconvert_exporter": "python",
   "pygments_lexer": "ipython3",
   "version": "3.7.6"
  }
 },
 "nbformat": 4,
 "nbformat_minor": 4
}
